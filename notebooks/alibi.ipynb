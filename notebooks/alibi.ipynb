{
 "cells": [
  {
   "cell_type": "code",
   "execution_count": 3,
   "metadata": {},
   "outputs": [],
   "source": [
    "import torch\n",
    "import math"
   ]
  },
  {
   "cell_type": "code",
   "execution_count": 2,
   "metadata": {},
   "outputs": [],
   "source": [
    "df = lambda x1, y1, x2, y2: abs(x1 - x2) + abs(y1 - y2)"
   ]
  },
  {
   "cell_type": "code",
   "execution_count": 21,
   "metadata": {},
   "outputs": [],
   "source": [
    "max_positions=4"
   ]
  },
  {
   "cell_type": "code",
   "execution_count": 17,
   "metadata": {},
   "outputs": [],
   "source": [
    "pos_bias = torch.zeros((max_positions, max_positions))\n",
    "n=int(math.sqrt(max_positions))\n",
    "for i in range(n):\n",
    "    for j in range(n):\n",
    "        for k in range(n):\n",
    "            for l in range(n):\n",
    "                new_x = i * n + j\n",
    "                new_y = k * n + l\n",
    "                pos_bias[new_x, new_y] = -df(i, j, k, l)"
   ]
  },
  {
   "cell_type": "code",
   "execution_count": 18,
   "metadata": {},
   "outputs": [
    {
     "data": {
      "text/plain": [
       "tensor([[ 0., -1., -2., -3., -1., -2., -3., -4., -2., -3., -4., -5., -3., -4.,\n",
       "         -5., -6.],\n",
       "        [-1.,  0., -1., -2., -2., -1., -2., -3., -3., -2., -3., -4., -4., -3.,\n",
       "         -4., -5.],\n",
       "        [-2., -1.,  0., -1., -3., -2., -1., -2., -4., -3., -2., -3., -5., -4.,\n",
       "         -3., -4.],\n",
       "        [-3., -2., -1.,  0., -4., -3., -2., -1., -5., -4., -3., -2., -6., -5.,\n",
       "         -4., -3.],\n",
       "        [-1., -2., -3., -4.,  0., -1., -2., -3., -1., -2., -3., -4., -2., -3.,\n",
       "         -4., -5.],\n",
       "        [-2., -1., -2., -3., -1.,  0., -1., -2., -2., -1., -2., -3., -3., -2.,\n",
       "         -3., -4.],\n",
       "        [-3., -2., -1., -2., -2., -1.,  0., -1., -3., -2., -1., -2., -4., -3.,\n",
       "         -2., -3.],\n",
       "        [-4., -3., -2., -1., -3., -2., -1.,  0., -4., -3., -2., -1., -5., -4.,\n",
       "         -3., -2.],\n",
       "        [-2., -3., -4., -5., -1., -2., -3., -4.,  0., -1., -2., -3., -1., -2.,\n",
       "         -3., -4.],\n",
       "        [-3., -2., -3., -4., -2., -1., -2., -3., -1.,  0., -1., -2., -2., -1.,\n",
       "         -2., -3.],\n",
       "        [-4., -3., -2., -3., -3., -2., -1., -2., -2., -1.,  0., -1., -3., -2.,\n",
       "         -1., -2.],\n",
       "        [-5., -4., -3., -2., -4., -3., -2., -1., -3., -2., -1.,  0., -4., -3.,\n",
       "         -2., -1.],\n",
       "        [-3., -4., -5., -6., -2., -3., -4., -5., -1., -2., -3., -4.,  0., -1.,\n",
       "         -2., -3.],\n",
       "        [-4., -3., -4., -5., -3., -2., -3., -4., -2., -1., -2., -3., -1.,  0.,\n",
       "         -1., -2.],\n",
       "        [-5., -4., -3., -4., -4., -3., -2., -3., -3., -2., -1., -2., -2., -1.,\n",
       "          0., -1.],\n",
       "        [-6., -5., -4., -3., -5., -4., -3., -2., -4., -3., -2., -1., -3., -2.,\n",
       "         -1.,  0.]])"
      ]
     },
     "execution_count": 18,
     "metadata": {},
     "output_type": "execute_result"
    }
   ],
   "source": [
    "pos_bias"
   ]
  },
  {
   "cell_type": "code",
   "execution_count": 15,
   "metadata": {},
   "outputs": [
    {
     "data": {
      "text/plain": [
       "torch.Size([8, 4, 4])"
      ]
     },
     "execution_count": 15,
     "metadata": {},
     "output_type": "execute_result"
    }
   ],
   "source": [
    "pos_bias.unsqueeze(0).expand(8, -1, -1).shape"
   ]
  },
  {
   "cell_type": "code",
   "execution_count": 22,
   "metadata": {},
   "outputs": [],
   "source": [
    "pos_bias = (\n",
    "            torch.abs(\n",
    "                torch.arange(max_positions).unsqueeze(0) - torch.arange(max_positions).unsqueeze(1)\n",
    "            )\n",
    "            * -1\n",
    "        )"
   ]
  },
  {
   "cell_type": "code",
   "execution_count": 23,
   "metadata": {},
   "outputs": [
    {
     "data": {
      "text/plain": [
       "tensor([[ 0, -1, -2, -3],\n",
       "        [-1,  0, -1, -2],\n",
       "        [-2, -1,  0, -1],\n",
       "        [-3, -2, -1,  0]])"
      ]
     },
     "execution_count": 23,
     "metadata": {},
     "output_type": "execute_result"
    }
   ],
   "source": [
    "pos_bias.repeat(bn, 1, 1)"
   ]
  },
  {
   "cell_type": "code",
   "execution_count": 26,
   "metadata": {},
   "outputs": [],
   "source": [
    "def get_slopes_power_of_2(n):\n",
    "    start = 2 ** (-(2 ** -(math.log2(n) - 3)))\n",
    "    ratio = start\n",
    "    return [start * ratio**i for i in range(n)]"
   ]
  },
  {
   "cell_type": "code",
   "execution_count": 31,
   "metadata": {},
   "outputs": [
    {
     "data": {
      "text/plain": [
       "tensor([[[0.5000]],\n",
       "\n",
       "        [[0.2500]],\n",
       "\n",
       "        [[0.1250]],\n",
       "\n",
       "        [[0.0625]],\n",
       "\n",
       "        [[0.0312]],\n",
       "\n",
       "        [[0.0156]],\n",
       "\n",
       "        [[0.0078]],\n",
       "\n",
       "        [[0.0039]]])"
      ]
     },
     "execution_count": 31,
     "metadata": {},
     "output_type": "execute_result"
    }
   ],
   "source": [
    "torch.tensor(get_slopes_power_of_2(8)).unsqueeze(1).unsqueeze(1)"
   ]
  },
  {
   "cell_type": "code",
   "execution_count": 37,
   "metadata": {},
   "outputs": [
    {
     "data": {
      "text/plain": [
       "tensor([[[[[1.]],\n",
       "\n",
       "          [[1.]]]],\n",
       "\n",
       "\n",
       "\n",
       "        [[[[1.]],\n",
       "\n",
       "          [[1.]]]],\n",
       "\n",
       "\n",
       "\n",
       "        [[[[1.]],\n",
       "\n",
       "          [[1.]]]],\n",
       "\n",
       "\n",
       "\n",
       "        [[[[1.]],\n",
       "\n",
       "          [[1.]]]],\n",
       "\n",
       "\n",
       "\n",
       "        [[[[1.]],\n",
       "\n",
       "          [[1.]]]],\n",
       "\n",
       "\n",
       "\n",
       "        [[[[1.]],\n",
       "\n",
       "          [[1.]]]],\n",
       "\n",
       "\n",
       "\n",
       "        [[[[1.]],\n",
       "\n",
       "          [[1.]]]],\n",
       "\n",
       "\n",
       "\n",
       "        [[[[1.]],\n",
       "\n",
       "          [[1.]]]],\n",
       "\n",
       "\n",
       "\n",
       "        [[[[1.]],\n",
       "\n",
       "          [[1.]]]],\n",
       "\n",
       "\n",
       "\n",
       "        [[[[1.]],\n",
       "\n",
       "          [[1.]]]]])"
      ]
     },
     "execution_count": 37,
     "metadata": {},
     "output_type": "execute_result"
    }
   ],
   "source": [
    "torch.full(\n",
    "            (\n",
    "                (5 + 5),\n",
    "                1,\n",
    "                2,\n",
    "                1,\n",
    "                1,\n",
    "            ),\n",
    "            1.0,\n",
    "            dtype=torch.float,\n",
    "        ).clamp_min(0)"
   ]
  },
  {
   "cell_type": "code",
   "execution_count": null,
   "metadata": {},
   "outputs": [],
   "source": []
  }
 ],
 "metadata": {
  "kernelspec": {
   "display_name": "mmrl",
   "language": "python",
   "name": "python3"
  },
  "language_info": {
   "codemirror_mode": {
    "name": "ipython",
    "version": 3
   },
   "file_extension": ".py",
   "mimetype": "text/x-python",
   "name": "python",
   "nbconvert_exporter": "python",
   "pygments_lexer": "ipython3",
   "version": "3.9.18"
  }
 },
 "nbformat": 4,
 "nbformat_minor": 2
}
