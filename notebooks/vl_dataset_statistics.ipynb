{
 "cells": [
  {
   "cell_type": "code",
   "execution_count": null,
   "metadata": {},
   "outputs": [],
   "source": [
    "import json\n",
    "with open('../data/coco/dataset_coco.json') as f:\n",
    "    coco = json.load(f)"
   ]
  },
  {
   "cell_type": "code",
   "execution_count": null,
   "metadata": {},
   "outputs": [],
   "source": [
    "coco['images']\n",
    "n_captions=0\n",
    "for img in coco['images']:\n",
    "    n_captions += len(img['sentences'])\n",
    "n_captions/len(coco['images'])"
   ]
  },
  {
   "cell_type": "code",
   "execution_count": null,
   "metadata": {},
   "outputs": [],
   "source": [
    "items=[]\n",
    "with open(\"../data/coco/coco_captioning.train.jsonl\", \"r\") as f:\n",
    "    for line in f:\n",
    "        items.append(json.loads(line))"
   ]
  },
  {
   "cell_type": "code",
   "execution_count": null,
   "metadata": {},
   "outputs": [],
   "source": [
    "len(items)"
   ]
  },
  {
   "cell_type": "code",
   "execution_count": null,
   "metadata": {},
   "outputs": [],
   "source": [
    "avg_len=0\n",
    "for item in items:\n",
    "    avg_len += len(item['text']) -2 # -2 for [BOS] and [EOS]/[SEP]\n",
    "avg_len/len(items)"
   ]
  },
  {
   "cell_type": "code",
   "execution_count": null,
   "metadata": {},
   "outputs": [],
   "source": [
    "import json\n",
    "with open('../data/vg/region_descriptions.json') as f:\n",
    "    vg = json.load(f)"
   ]
  },
  {
   "cell_type": "code",
   "execution_count": null,
   "metadata": {},
   "outputs": [],
   "source": [
    "sum([len(img['regions']) for img in vg])/len(vg)"
   ]
  },
  {
   "cell_type": "code",
   "execution_count": null,
   "metadata": {},
   "outputs": [],
   "source": [
    "items=[]\n",
    "with open(\"../data/vg/visual_genome.jsonl\", \"r\") as f:\n",
    "    for line in f:\n",
    "        items.append(json.loads(line))"
   ]
  },
  {
   "cell_type": "code",
   "execution_count": null,
   "metadata": {},
   "outputs": [],
   "source": [
    "len(items)"
   ]
  },
  {
   "cell_type": "code",
   "execution_count": null,
   "metadata": {},
   "outputs": [],
   "source": [
    "avg_len=0\n",
    "for item in items:\n",
    "    avg_len += len(item['text']) -2 # -2 for [BOS] and [EOS]/[SEP]\n",
    "avg_len/len(items)"
   ]
  },
  {
   "cell_type": "code",
   "execution_count": null,
   "metadata": {},
   "outputs": [],
   "source": [
    "items=[]\n",
    "with open(\"../data/vg/visual_genome_concat.jsonl\", \"r\") as f:\n",
    "    for line in f:\n",
    "        items.append(json.loads(line))"
   ]
  },
  {
   "cell_type": "code",
   "execution_count": null,
   "metadata": {},
   "outputs": [],
   "source": [
    "len(items)"
   ]
  },
  {
   "cell_type": "code",
   "execution_count": null,
   "metadata": {},
   "outputs": [],
   "source": [
    "len(items)/108249"
   ]
  },
  {
   "cell_type": "code",
   "execution_count": null,
   "metadata": {},
   "outputs": [],
   "source": [
    "avg_len=0\n",
    "for item in items:\n",
    "    avg_len += len(item['text']) -2 # -2 for [BOS] and [EOS]/[SEP]\n",
    "avg_len/len(items)"
   ]
  }
 ],
 "metadata": {
  "language_info": {
   "name": "python"
  }
 },
 "nbformat": 4,
 "nbformat_minor": 2
}
