{
 "cells": [
  {
   "cell_type": "code",
   "execution_count": null,
   "metadata": {},
   "outputs": [],
   "source": [
    "import sys\n",
    "sys.path.append('..')\n",
    "sys.path.append('../..')\n",
    "sys.path.append('../beit2')\n",
    "from datamodules import DATAMODULE_REGISTRY\n",
    "from models import MODEL_REGISTRY\n",
    "import torch\n",
    "from pytorch_lightning import LightningModule\n",
    "import torch.nn as nn\n",
    "import pytorch_lightning as pl\n",
    "from data.imagenet_zeroshot_data import imagenet_classnames\n",
    "\n",
    "import matplotlib.pyplot as plt\n",
    "plt.rcParams[\"axes.axisbelow\"] = False\n",
    "import numpy as np\n",
    "\n",
    "from bpe_encoder import get_bpe_encoder"
   ]
  },
  {
   "cell_type": "code",
   "execution_count": null,
   "metadata": {},
   "outputs": [],
   "source": [
    "def plot_prob_distribution(input, image, top_probs, top_classes): \n",
    "    fig = plt.figure(figsize=(8, 4))\n",
    "\n",
    "    gs = fig.add_gridspec(1, 2, wspace=0, hspace=0.3)\n",
    "\n",
    "    idx = 0\n",
    "    for i in range(gs.nrows):\n",
    "        ax = fig.add_subplot(gs[i, 0])\n",
    "        if image:\n",
    "            ax.imshow(input)\n",
    "        else:\n",
    "            ax.text(0.5, 0.5, input, fontsize=10, ha='center', va='center', transform=ax.transAxes)\n",
    "            rect = plt.Rectangle((0, 0), 1, 1, transform=ax.transAxes,\n",
    "                     color=\"none\", ec=\"black\", lw=1)\n",
    "            ax.add_patch(rect)\n",
    "        ax.axis(\"off\")\n",
    "\n",
    "        ax = fig.add_subplot(gs[i, 1])\n",
    "        ax.barh(np.arange(5), top_probs[idx])\n",
    "        ax.set_xlim(0, 1)\n",
    "        # ax.invert_yaxis()\n",
    "        # ax.set_axisbelow(True)\n",
    "        ax.tick_params(axis='y', direction='in', pad=-30)\n",
    "        ax.set_yticks(np.arange(top_probs.shape[-1]), top_probs[idx])\n",
    "\n",
    "    plt.show()"
   ]
  },
  {
   "cell_type": "code",
   "execution_count": null,
   "metadata": {},
   "outputs": [],
   "source": [
    "MODEL_PATH = \"\""
   ]
  },
  {
   "cell_type": "code",
   "execution_count": null,
   "metadata": {},
   "outputs": [],
   "source": [
    "encoder = get_bpe_encoder('../data')"
   ]
  },
  {
   "cell_type": "code",
   "execution_count": null,
   "metadata": {},
   "outputs": [],
   "source": [
    "coco_dm_kwargs = {\n",
    "    'data_path': '../../data',\n",
    "    'num_max_bpe_tokens': 64,\n",
    "    'color_jitter': None,\n",
    "    'beit_transforms': False,\n",
    "    'crop_scale': [1.0, 1.0],\n",
    "    'batch_size': 4,\n",
    "    'num_workers': 1,\n",
    "    'shuffle': True,\n",
    "    'drop_last': False,\n",
    "}"
   ]
  },
  {
   "cell_type": "code",
   "execution_count": null,
   "metadata": {},
   "outputs": [],
   "source": [
    "pl.seed_everything(42)\n",
    "coco_dm = DATAMODULE_REGISTRY['coco_captions'](**coco_dm_kwargs)"
   ]
  },
  {
   "cell_type": "code",
   "execution_count": null,
   "metadata": {},
   "outputs": [],
   "source": [
    "coco_dm.prepare_data()\n",
    "coco_dm.setup('test')"
   ]
  },
  {
   "cell_type": "code",
   "execution_count": null,
   "metadata": {},
   "outputs": [],
   "source": [
    "dl = iter(coco_dm.test_dataloader())"
   ]
  },
  {
   "cell_type": "code",
   "execution_count": null,
   "metadata": {},
   "outputs": [],
   "source": [
    "device = torch.device(\"cuda\" if torch.cuda.is_available() else \"cpu\")\n",
    "\n",
    "model_cls:LightningModule = MODEL_REGISTRY['SHRe']['module']\n",
    "model = model_cls.load_from_checkpoint(MODEL_PATH).model\n",
    "model = model.to(device)\n",
    "model.requires_grad_(False)\n",
    "model.eval()"
   ]
  },
  {
   "cell_type": "code",
   "execution_count": null,
   "metadata": {},
   "outputs": [],
   "source": [
    "batch = next(dl)\n",
    "with torch.no_grad():\n",
    "    img_out = model.encode_image(batch['image'])['encoder_out']\n",
    "    text_out = model.encode_text(batch['text'], batch['padding_mask'])['encoder_out']\n",
    "img_probs, img_labels = img_out.cpu().topk(5, dim=-1)\n",
    "text_probs, text_labels = text_out.cpu().topk(5, dim=-1)\n",
    "img_top_classes = [imagenet_classnames[label] for label in img_labels]\n",
    "text_top_classes = [imagenet_classnames[label] for label in text_labels]"
   ]
  },
  {
   "cell_type": "code",
   "execution_count": 130,
   "metadata": {},
   "outputs": [],
   "source": [
    "for i in range(img_out.shape[0]):\n",
    "    plot_prob_distribution(batch['image'][i], True, img_probs[i], img_top_classes[i])\n",
    "    plot_prob_distribution(encoder.decode(batch['text'][i]), False, text_probs[i], text_top_classes[i])"
   ]
  }
 ],
 "metadata": {
  "kernelspec": {
   "display_name": "mmrl",
   "language": "python",
   "name": "python3"
  },
  "language_info": {
   "codemirror_mode": {
    "name": "ipython",
    "version": 3
   },
   "file_extension": ".py",
   "mimetype": "text/x-python",
   "name": "python",
   "nbconvert_exporter": "python",
   "pygments_lexer": "ipython3",
   "version": "3.11.8"
  }
 },
 "nbformat": 4,
 "nbformat_minor": 2
}
