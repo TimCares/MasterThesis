{
 "cells": [
  {
   "cell_type": "code",
   "execution_count": 67,
   "metadata": {},
   "outputs": [],
   "source": [
    "import sys\n",
    "sys.path.append('..')\n",
    "sys.path.append('../beit2')\n",
    "from datamodules import DATAMODULE_REGISTRY\n",
    "from models import MODEL_REGISTRY\n",
    "import torch\n",
    "from pytorch_lightning import LightningModule\n",
    "import torch.nn as nn\n",
    "import opt_einsum\n",
    "import einops\n",
    "from modules.cmli import max_neg_value\n",
    "from modules import mask_eos\n",
    "\n",
    "import matplotlib.pyplot as plt\n",
    "import matplotlib.patches as patches\n",
    "import numpy as np\n",
    "from transformers import BertTokenizer\n",
    "import textwrap\n",
    "import math"
   ]
  },
  {
   "cell_type": "code",
   "execution_count": 2,
   "metadata": {},
   "outputs": [
    {
     "name": "stderr",
     "output_type": "stream",
     "text": [
      "DEBUG:urllib3.connectionpool:Starting new HTTPS connection (1): huggingface.co:443\n",
      "DEBUG:urllib3.connectionpool:https://huggingface.co:443 \"HEAD /bert-base-uncased/resolve/main/tokenizer_config.json HTTP/1.1\" 200 0\n"
     ]
    }
   ],
   "source": [
    "tokenizer = BertTokenizer.from_pretrained('bert-base-uncased')"
   ]
  },
  {
   "cell_type": "code",
   "execution_count": null,
   "metadata": {},
   "outputs": [],
   "source": [
    "MODEL_PATH = \"\""
   ]
  },
  {
   "cell_type": "code",
   "execution_count": 3,
   "metadata": {},
   "outputs": [],
   "source": [
    "coco_dm_kwargs = {\n",
    "    'data_path': '../../data',\n",
    "    'num_max_bpe_tokens': 64,\n",
    "    'color_jitter': None,\n",
    "    'beit_transforms': False,\n",
    "    'crop_scale': [1.0, 1.0],\n",
    "    'batch_size': 9,\n",
    "    'num_workers': 1,\n",
    "    'shuffle': True,\n",
    "    'drop_last': False,\n",
    "}"
   ]
  },
  {
   "cell_type": "code",
   "execution_count": 4,
   "metadata": {},
   "outputs": [
    {
     "name": "stderr",
     "output_type": "stream",
     "text": [
      "Seed set to 42\n"
     ]
    }
   ],
   "source": [
    "import pytorch_lightning as pl\n",
    "pl.seed_everything(42)\n",
    "coco_dm = DATAMODULE_REGISTRY['coco_captions'](**coco_dm_kwargs)"
   ]
  },
  {
   "cell_type": "code",
   "execution_count": 5,
   "metadata": {},
   "outputs": [
    {
     "name": "stderr",
     "output_type": "stream",
     "text": [
      "DEBUG:urllib3.connectionpool:https://huggingface.co:443 \"HEAD /bert-base-uncased/resolve/main/tokenizer_config.json HTTP/1.1\" 200 0\n",
      "INFO:datasets_.base_datasets:[COCOCaptions]: Data already exists under: ../../data/coco\n",
      "DEBUG:urllib3.connectionpool:https://huggingface.co:443 \"HEAD /bert-base-uncased/resolve/main/tokenizer_config.json HTTP/1.1\" 200 0\n",
      "INFO:datasets_.base_datasets:[COCOCaptions]: Data already exists under: ../../data/coco\n",
      "DEBUG:urllib3.connectionpool:https://huggingface.co:443 \"HEAD /bert-base-uncased/resolve/main/tokenizer_config.json HTTP/1.1\" 200 0\n",
      "INFO:datasets_.base_datasets:[COCOCaptions]: Data already exists under: ../../data/coco\n",
      "INFO:datasets_.base_datasets:[COCOCaptions]: Load 566747 image-text pairs from ../../data/coco/coco_captioning.train.jsonl. \n",
      "INFO:datasets_.base_datasets:[COCOCaptions]: Load 25010 image-text pairs from ../../data/coco/coco_captioning.val.jsonl. \n"
     ]
    }
   ],
   "source": [
    "coco_dm.prepare_data()\n",
    "coco_dm.setup('fit')"
   ]
  },
  {
   "cell_type": "code",
   "execution_count": 16,
   "metadata": {},
   "outputs": [],
   "source": [
    "dl = coco_dm.train_dataloader()"
   ]
  },
  {
   "cell_type": "code",
   "execution_count": null,
   "metadata": {},
   "outputs": [],
   "source": [
    "device = torch.device(\"cuda\" if torch.cuda.is_available() else \"cpu\")\n",
    "\n",
    "model_cls:LightningModule = MODEL_REGISTRY['Sx3HRe']['module']\n",
    "model = model_cls.load_from_checkpoint(MODEL_PATH).model\n",
    "model = model.to(device)\n",
    "model.requires_grad_(False)\n",
    "model.eval()"
   ]
  },
  {
   "cell_type": "code",
   "execution_count": 18,
   "metadata": {},
   "outputs": [],
   "source": [
    "def create_grid_overlay(ax, img_size=224, square_size=16):\n",
    "    num_squares = img_size // square_size  # 14 for a 224x224 image with 16x16 squares\n",
    "    for i in range(num_squares):\n",
    "        for j in range(num_squares):\n",
    "            # Draw rectangle (square)\n",
    "            rect = plt.Rectangle((j*square_size, i*square_size), square_size, square_size,\n",
    "                                 facecolor='none', edgecolor='black', linewidth=2)\n",
    "            ax.add_patch(rect)"
   ]
  },
  {
   "cell_type": "code",
   "execution_count": 7,
   "metadata": {},
   "outputs": [],
   "source": [
    "def add_token(ax, row, col, square_size, token):\n",
    "    center_x = (col+0.5)*square_size \n",
    "    center_y = (row+0.5)*square_size\n",
    "    ax.text(center_x, center_y, token, color='black', fontsize=8, ha='center', va='center')"
   ]
  },
  {
   "cell_type": "code",
   "execution_count": 46,
   "metadata": {},
   "outputs": [],
   "source": [
    "def fit_text(figure, axes, text):\n",
    "    bbox = axes.get_position()\n",
    "    fig_width_inch = figure.get_size_inches()[0]\n",
    "    axes_width_inch = bbox.width * fig_width_inch\n",
    "    char_width_inch = 0.1\n",
    "    max_chars_per_line = int(axes_width_inch / char_width_inch)\n",
    "    wrapped_text = \"\\n\".join(textwrap.wrap(text, width=max_chars_per_line))\n",
    "    return wrapped_text"
   ]
  },
  {
   "cell_type": "code",
   "execution_count": 8,
   "metadata": {},
   "outputs": [],
   "source": [
    "def plot(image, text, token2patch) -> None:\n",
    "    default_w, default_h = plt.rcParams['figure.figsize']\n",
    "\n",
    "    fig, ax = plt.subplots(1, 1, figsize=(default_w*2, default_h*2))\n",
    "    \n",
    "    ax.imshow(image.permute(1, 2, 0))\n",
    "\n",
    "    grid_size = 14\n",
    "    patch_size = 224 // grid_size\n",
    "\n",
    "    create_grid_overlay(ax, img_size=224, square_size=patch_size)\n",
    "    tokens = tokenizer.convert_ids_to_tokens(text)\n",
    "\n",
    "    for idx, (row, col) in enumerate(token2patch.tolist()):\n",
    "        add_token(ax, row, col, patch_size, tokens[idx])\n",
    "\n",
    "    ax.set_title(tokenizer.decode(text), fontsize=16)\n",
    "\n",
    "    ax.axis('off')\n",
    "    fig.show()"
   ]
  },
  {
   "cell_type": "code",
   "execution_count": 9,
   "metadata": {},
   "outputs": [],
   "source": [
    "def vis_t_clmi(model:nn.Module, text, padding_mask, image) -> None:\n",
    "    text_emb = model.encode_text(text=text, padding_mask=padding_mask)['encoder_out'][1:]\n",
    "    text_emb = text_emb / text_emb.norm(dim=1, keepdim=True)\n",
    "\n",
    "    image_emb = model.encode_image(image=image)['encoder_out'][1:]\n",
    "    image_emb = image_emb / image_emb.norm(dim=1, keepdim=True)\n",
    "\n",
    "    sim = opt_einsum.contract('b t d, b i d -> b t i', text_emb, image_emb)\n",
    "\n",
    "    padding_mask = mask_eos(padding_mask)[1:]\n",
    "\n",
    "    token2patch_idx = sim.argmax(dim=-1)\n",
    "    token2patch_idx_row = token2patch_idx // 14\n",
    "    token2patch_idx_col = token2patch_idx % 14\n",
    "    token2patch_coords = torch.stack([token2patch_idx_row, token2patch_idx_col], dim=-1)\n",
    "\n",
    "    return token2patch_coords"
   ]
  },
  {
   "cell_type": "code",
   "execution_count": null,
   "metadata": {},
   "outputs": [],
   "source": [
    "plot(image, raw_texts, token2patch_coords)"
   ]
  },
  {
   "cell_type": "code",
   "execution_count": 167,
   "metadata": {},
   "outputs": [],
   "source": [
    "def plot_legend(ax, text_list, colors):\n",
    "    # Define the maximum number of items per column\n",
    "    max_items_per_column = 5\n",
    "    step_size = 1 / max_items_per_column\n",
    "\n",
    "    # Calculate the number of columns needed\n",
    "    num_columns = math.ceil(len(text_list) / max_items_per_column)\n",
    "    \n",
    "    # Loop through each column\n",
    "    for col in range(num_columns):\n",
    "        # Determine the items for this column\n",
    "        start_idx = col * max_items_per_column\n",
    "        end_idx = start_idx + max_items_per_column\n",
    "        column_texts = text_list[start_idx:end_idx]\n",
    "        column_colors = colors[start_idx:end_idx]\n",
    "\n",
    "        # Plot the squares and texts for this column\n",
    "        for i, (color, text) in enumerate(zip(column_colors, column_texts)):\n",
    "            y = (1-step_size/2)-step_size*i\n",
    "            x = col*(1/num_columns)\n",
    "            color[-1] = 0.5 # Set the alpha value to 0.5\n",
    "            ax.add_patch(plt.Rectangle((x, y), 0.05, 0.05, color=color, ec='black'))\n",
    "            ax.text(x + 0.08, y+0.025, text, fontsize=12, va='center', ha='left')\n",
    "\n",
    "    ax.axis('off')\n",
    "\n",
    "def plot_image(fig, ax, image, tokens, token2patch, colors) -> None:\n",
    "    ax.imshow(image)\n",
    "\n",
    "    patch_size = 16\n",
    "    n_patches = 224 // patch_size\n",
    "\n",
    "    ax.set_xticks(np.linspace(0, 224, n_patches + 1))\n",
    "    ax.set_yticks(np.linspace(0, 224, n_patches + 1))\n",
    "    #ax.grid(color='black', linestyle='-', linewidth=1)\n",
    "    ax.set_xticklabels([])\n",
    "    ax.set_yticklabels([])\n",
    "\n",
    "    ax.set_ylim(0, 224)\n",
    "    ax.set_xlim(0, 224)\n",
    "\n",
    "    for idx, areas in enumerate(token2patch.tolist()):\n",
    "        for row, col in areas:\n",
    "            x = col*patch_size \n",
    "            y = row*patch_size\n",
    "            ax.add_patch(plt.Rectangle((x, y), patch_size, patch_size, color=colors[idx], alpha=0.5))\n",
    "    \n",
    "    ax.set_title(fit_text(fig, axes=ax, text=' '.join(tokens)), fontsize=12)\n",
    "\n",
    "def plot(image, text, token2patch) -> None:\n",
    "    default_w, default_h = plt.rcParams['figure.figsize']\n",
    "\n",
    "    tokens = tokenizer.convert_ids_to_tokens(text)\n",
    "    colors = cm.rainbow(np.linspace(0, 1, len(tokens)))\n",
    "\n",
    "    fig = plt.figure(figsize=(default_w*2, default_h))\n",
    "    gs = fig.add_gridspec(1, 2, wspace=0, hspace=0.3)\n",
    "    ax = fig.add_subplot(gs[0, 0])\n",
    "    plot_image(fig, ax, image, tokens, token2patch, colors)\n",
    "\n",
    "    ax = fig.add_subplot(gs[0, 1])\n",
    "    plot_legend(ax, tokens, colors)\n",
    "    fig.show()\n"
   ]
  },
  {
   "cell_type": "code",
   "execution_count": 168,
   "metadata": {},
   "outputs": [
    {
     "name": "stderr",
     "output_type": "stream",
     "text": [
      "/var/folders/gt/cjpcl37j15s8yxsjswrtpxf40000gn/T/ipykernel_42589/4079566521.py:63: UserWarning: FigureCanvasAgg is non-interactive, and thus cannot be shown\n",
      "  fig.show()\n"
     ]
    },
    {
     "data": {
      "image/png": "[encoded data removed]",
      "text/plain": [
       "<Figure size 1280x480 with 2 Axes>"
      ]
     },
     "metadata": {},
     "output_type": "display_data"
    }
   ],
   "source": [
    "image_np = np.ones((224, 224, 3))\n",
    "tokens = tokenizer.convert_tokens_to_ids(tokenizer.tokenize(\"This is a test sentence\"))\n",
    "token2patch = torch.randint(0, 14, (5, 5, 2))\n",
    "plot(image_np, tokens, token2patch)"
   ]
  }
 ],
 "metadata": {
  "kernelspec": {
   "display_name": "mmrl",
   "language": "python",
   "name": "python3"
  },
  "language_info": {
   "codemirror_mode": {
    "name": "ipython",
    "version": 3
   },
   "file_extension": ".py",
   "mimetype": "text/x-python",
   "name": "python",
   "nbconvert_exporter": "python",
   "pygments_lexer": "ipython3",
   "version": "3.11.8"
  }
 },
 "nbformat": 4,
 "nbformat_minor": 2
}
