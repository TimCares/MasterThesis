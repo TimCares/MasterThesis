{
 "cells": [
  {
   "cell_type": "code",
   "execution_count": null,
   "metadata": {},
   "outputs": [],
   "source": [
    "import sys\n",
    "sys.path.append('..')\n",
    "sys.path.append('../..')\n",
    "sys.path.append('../beit2')\n",
    "from datamodules import DATAMODULE_REGISTRY\n",
    "from models import MODEL_REGISTRY\n",
    "from models.image_vq import ImageVQ\n",
    "import torch\n",
    "from pytorch_lightning import LightningModule\n",
    "import torch.nn as nn\n",
    "import pytorch_lightning as pl\n",
    "from rich.progress import track\n",
    "import matplotlib\n",
    "import matplotlib.pyplot as plt\n",
    "plt.rcParams[\"axes.axisbelow\"] = False\n",
    "matplotlib.rcParams.update({'font.size': 12})"
   ]
  },
  {
   "cell_type": "code",
   "execution_count": null,
   "metadata": {},
   "outputs": [],
   "source": [
    "pl.seed_everything(42)"
   ]
  },
  {
   "cell_type": "code",
   "execution_count": null,
   "metadata": {},
   "outputs": [],
   "source": [
    "def plot_vq_classes(images, classes, classes_to_plot):\n",
    "    images_per_row = 6\n",
    "    num_rows = len(classes_to_plot)\n",
    "\n",
    "    _, axes = plt.subplots(num_rows, images_per_row, figsize=(18, 3*num_rows))\n",
    "\n",
    "    for j in range(images_per_row):\n",
    "        axes[0, j].set_title(f\"Example {j+1}\")\n",
    "\n",
    "    for i, label in enumerate(classes_to_plot):\n",
    "        axes[i, 0].text(-0.2, 0.5, label, transform=axes[i, 0].transAxes, va='center', ha='right')\n",
    "\n",
    "    for class_idx in classes_to_plot:\n",
    "        indices = (classes == class_idx).nonzero(as_tuple=False).squeeze()\n",
    "        matched_images = images[indices]\n",
    "        for img in matched_images:\n",
    "            axes[i, j].imshow(img.permute(1, 2, 0))\n",
    "            axes[i, j].axis('off')\n",
    "\n",
    "    plt.subplots_adjust(wspace=0.1, hspace=0.1)\n",
    "\n",
    "    plt.show()"
   ]
  },
  {
   "cell_type": "code",
   "execution_count": null,
   "metadata": {},
   "outputs": [],
   "source": [
    "MODEL_PATH = \"\""
   ]
  },
  {
   "cell_type": "code",
   "execution_count": null,
   "metadata": {},
   "outputs": [],
   "source": [
    "coco_dm_kwargs = {\n",
    "    'data_path': '../../data',\n",
    "    'num_max_bpe_tokens': 64,\n",
    "    'color_jitter': None,\n",
    "    'beit_transforms': False,\n",
    "    'crop_scale': [1.0, 1.0],\n",
    "    'batch_size': 256,\n",
    "    'num_workers': 8,\n",
    "    'shuffle': True,\n",
    "    'drop_last': False,\n",
    "}"
   ]
  },
  {
   "cell_type": "code",
   "execution_count": null,
   "metadata": {},
   "outputs": [],
   "source": [
    "pl.seed_everything(42)\n",
    "coco_dm = DATAMODULE_REGISTRY['coco_captions'](**coco_dm_kwargs)"
   ]
  },
  {
   "cell_type": "code",
   "execution_count": null,
   "metadata": {},
   "outputs": [],
   "source": [
    "coco_dm.prepare_data()\n",
    "coco_dm.setup('fit')"
   ]
  },
  {
   "cell_type": "code",
   "execution_count": null,
   "metadata": {},
   "outputs": [],
   "source": [
    "dl = iter(coco_dm.val_dataloader())"
   ]
  },
  {
   "cell_type": "code",
   "execution_count": null,
   "metadata": {},
   "outputs": [],
   "source": [
    "device = torch.device(\"cuda\" if torch.cuda.is_available() else \"cpu\")\n",
    "\n",
    "model_cls:LightningModule = MODEL_REGISTRY['vq_image']['module']\n",
    "model:ImageVQ = model_cls.load_from_checkpoint(MODEL_PATH).model\n",
    "model = model.to(device)\n",
    "model.requires_grad_(False)\n",
    "model.eval()"
   ]
  },
  {
   "cell_type": "code",
   "execution_count": null,
   "metadata": {},
   "outputs": [],
   "source": [
    "all_class_indices = []\n",
    "all_images = []\n",
    "with torch.no_grad():\n",
    "    for batch in track(dl):\n",
    "        images = batch['image']\n",
    "        images_raw = batch['image_raw']\n",
    "        class_indices = model.quantize_image(images.to(device))['embed_ind']\n",
    "        all_class_indices.append(class_indices)\n",
    "        all_images.append(images_raw)\n",
    "\n",
    "all_class_indices = torch.cat(all_class_indices)\n",
    "all_images = torch.cat(all_images)"
   ]
  },
  {
   "cell_type": "code",
   "execution_count": null,
   "metadata": {},
   "outputs": [],
   "source": [
    "plot_vq_classes(images=all_images, classes=all_class_indices, classes_to_plot=list(range(10)))"
   ]
  }
 ],
 "metadata": {
  "kernelspec": {
   "display_name": "mmrl",
   "language": "python",
   "name": "python3"
  },
  "language_info": {
   "codemirror_mode": {
    "name": "ipython",
    "version": 3
   },
   "file_extension": ".py",
   "mimetype": "text/x-python",
   "name": "python",
   "nbconvert_exporter": "python",
   "pygments_lexer": "ipython3",
   "version": "3.11.8"
  }
 },
 "nbformat": 4,
 "nbformat_minor": 2
}
