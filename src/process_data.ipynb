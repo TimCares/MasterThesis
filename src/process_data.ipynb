{
 "cells": [
  {
   "cell_type": "code",
   "execution_count": 1,
   "metadata": {},
   "outputs": [],
   "source": [
    "import sys\n",
    "sys.path.append('../')\n",
    "sys.path.append('../datamodules')\n",
    "sys.path.append('../../')\n",
    "import json\n",
    "import os\n",
    "import logging\n",
    "from omegaconf import OmegaConf\n",
    "from omegaconf.dictconfig import DictConfig\n",
    "import torch\n",
    "from datamodules import REGISTRY as DATAMODULE_REGISTRY\n",
    "from datamodules import BaseDataModule\n",
    "from rich.progress import track\n",
    "from src.utils import load_pretrained_d2v_model\n",
    "\n",
    "logger = logging.getLogger(__name__)"
   ]
  },
  {
   "cell_type": "code",
   "execution_count": 2,
   "metadata": {},
   "outputs": [],
   "source": [
    "cfg_dict = {\n",
    "    '_name': 'openwebtext',\n",
    "    'model_state_dict': 'nlp_base.pt',\n",
    "    'data_path': '../data',\n",
    "    'out_path': '../data',\n",
    "    'batch_size': 256,\n",
    "    'num_workers': 5,\n",
    "    'shuffle': False,\n",
    "    'drop_last': False,\n",
    "    'num_max_bpe_tokens': 512,\n",
    "    'sample_break_mode': 'none',\n",
    "}"
   ]
  },
  {
   "cell_type": "code",
   "execution_count": 3,
   "metadata": {},
   "outputs": [],
   "source": [
    "cfg = OmegaConf.create(cfg_dict)"
   ]
  },
  {
   "cell_type": "code",
   "execution_count": 4,
   "metadata": {},
   "outputs": [],
   "source": [
    "def extract_targets(cfg: DictConfig) -> None:\n",
    "    model = load_pretrained_d2v_model(state_dict_path=os.path.join('..', 'models', cfg.model_state_dict))\n",
    "\n",
    "    model.eval()\n",
    "    \n",
    "    datamodule_kwargs = OmegaConf.to_container(cfg)\n",
    "    datamodule_name = datamodule_kwargs.pop('_name', None)\n",
    "    datamodule_kwargs.pop('model_state_dict', None)\n",
    "    \n",
    "    datamodule_cls = DATAMODULE_REGISTRY[datamodule_name]\n",
    "    \n",
    "    datamodule:BaseDataModule = datamodule_cls(**datamodule_kwargs)\n",
    "\n",
    "    logger.info('Setting up dataset and dataloader...')\n",
    "\n",
    "    datamodule.prepare_data()\n",
    "\n",
    "    datamodule.setup(stage='fit')\n",
    "\n",
    "    train_dataloader = datamodule.train_dataloader()\n",
    "\n",
    "    dir_name = f'kd_{datamodule_name}'\n",
    "\n",
    "    kd_targets_path = os.path.join(cfg.out_path, dir_name)\n",
    "\n",
    "    os.makedirs(kd_targets_path, exist_ok=True)\n",
    "\n",
    "    index_items = []\n",
    "    raise Exception\n",
    "    with torch.no_grad():\n",
    "        for idx, batch in track(enumerate(train_dataloader), description=\"Running predictions...\", total=len(train_dataloader)):\n",
    "            key = batch['modes'][0].name.lower() if key is None else key\n",
    "\n",
    "            padding_mask = batch['padding_mask'] if 'padding_mask' in batch else None \n",
    "            pred = model.extract_features(\n",
    "                source=batch[key],\n",
    "                mode=None, # determined automatically in model\n",
    "                padding_mask=padding_mask,\n",
    "                mask=False, # we are creating targets from a teacher model for the student model, so no mask\n",
    "                remove_extra_tokens=False,\n",
    "            )\n",
    "            filename = f'{idx}_{batch[\"id\"][0]}-{batch[\"id\"][-1]}.pt'\n",
    "            index_items.append({\n",
    "                \"path\": os.path.join(dir_name, filename),\n",
    "                \"batch_idx\": idx,\n",
    "            })\n",
    "            item = {\n",
    "                'target': pred,\n",
    "                key: batch[key],\n",
    "                'modes': batch['modes'],\n",
    "                'id': batch[\"id\"],\n",
    "            }\n",
    "            if padding_mask is not None:\n",
    "                item['padding_mask'] = padding_mask\n",
    "            torch.save(item, os.path.join(kd_targets_path, filename))\n",
    "\n",
    "    index = {\n",
    "        'cfg': OmegaConf.to_container(cfg),\n",
    "        'model_state_dict': cfg.model_state_dict,\n",
    "        'index': index_items,\n",
    "    }\n",
    "\n",
    "    with open(os.path.join(kd_targets_path, 'index.json'), 'w', encoding='utf-8') as f:\n",
    "        json.dump(index, f)\n",
    "\n",
    "    logger.info(f'Knowledge-Distillation (KD) targets successfully created under: {kd_targets_path}')"
   ]
  },
  {
   "cell_type": "code",
   "execution_count": 5,
   "metadata": {},
   "outputs": [
    {
     "ename": "Exception",
     "evalue": "",
     "output_type": "error",
     "traceback": [
      "\u001b[0;31m---------------------------------------------------------------------------\u001b[0m",
      "\u001b[0;31mException\u001b[0m                                 Traceback (most recent call last)",
      "Cell \u001b[0;32mIn[5], line 1\u001b[0m\n\u001b[0;32m----> 1\u001b[0m \u001b[43mextract_targets\u001b[49m\u001b[43m(\u001b[49m\u001b[43mcfg\u001b[49m\u001b[38;5;241;43m=\u001b[39;49m\u001b[43mcfg\u001b[49m\u001b[43m)\u001b[49m\n",
      "Cell \u001b[0;32mIn[4], line 29\u001b[0m, in \u001b[0;36mextract_targets\u001b[0;34m(cfg)\u001b[0m\n\u001b[1;32m     26\u001b[0m os\u001b[38;5;241m.\u001b[39mmakedirs(kd_targets_path, exist_ok\u001b[38;5;241m=\u001b[39m\u001b[38;5;28;01mTrue\u001b[39;00m)\n\u001b[1;32m     28\u001b[0m index_items \u001b[38;5;241m=\u001b[39m []\n\u001b[0;32m---> 29\u001b[0m \u001b[38;5;28;01mraise\u001b[39;00m \u001b[38;5;167;01mException\u001b[39;00m\n\u001b[1;32m     30\u001b[0m \u001b[38;5;28;01mwith\u001b[39;00m torch\u001b[38;5;241m.\u001b[39mno_grad():\n\u001b[1;32m     31\u001b[0m     \u001b[38;5;28;01mfor\u001b[39;00m idx, batch \u001b[38;5;129;01min\u001b[39;00m track(\u001b[38;5;28menumerate\u001b[39m(train_dataloader), description\u001b[38;5;241m=\u001b[39m\u001b[38;5;124m\"\u001b[39m\u001b[38;5;124mRunning predictions...\u001b[39m\u001b[38;5;124m\"\u001b[39m, total\u001b[38;5;241m=\u001b[39m\u001b[38;5;28mlen\u001b[39m(train_dataloader)):\n",
      "\u001b[0;31mException\u001b[0m: "
     ]
    }
   ],
   "source": [
    "extract_targets(cfg=cfg)"
   ]
  },
  {
   "cell_type": "code",
   "execution_count": null,
   "metadata": {},
   "outputs": [],
   "source": []
  }
 ],
 "metadata": {
  "kernelspec": {
   "display_name": "mmrl",
   "language": "python",
   "name": "python3"
  },
  "language_info": {
   "codemirror_mode": {
    "name": "ipython",
    "version": 3
   },
   "file_extension": ".py",
   "mimetype": "text/x-python",
   "name": "python",
   "nbconvert_exporter": "python",
   "pygments_lexer": "ipython3",
   "version": "3.9.19"
  }
 },
 "nbformat": 4,
 "nbformat_minor": 2
}
