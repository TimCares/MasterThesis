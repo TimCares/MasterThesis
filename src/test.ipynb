{
 "cells": [
  {
   "cell_type": "code",
   "execution_count": 1,
   "metadata": {},
   "outputs": [
    {
     "name": "stderr",
     "output_type": "stream",
     "text": [
      "DEBUG:torio._extension.utils:Loading FFmpeg6\n",
      "DEBUG:torio._extension.utils:Failed to load FFmpeg6 extension.\n",
      "Traceback (most recent call last):\n",
      "  File \"/Users/timcares/miniconda3/envs/mmrl/lib/python3.11/site-packages/torio/_extension/utils.py\", line 116, in _find_ffmpeg_extension\n",
      "    ext = _find_versionsed_ffmpeg_extension(ffmpeg_ver)\n",
      "          ^^^^^^^^^^^^^^^^^^^^^^^^^^^^^^^^^^^^^^^^^^^^^\n",
      "  File \"/Users/timcares/miniconda3/envs/mmrl/lib/python3.11/site-packages/torio/_extension/utils.py\", line 108, in _find_versionsed_ffmpeg_extension\n",
      "    _load_lib(lib)\n",
      "  File \"/Users/timcares/miniconda3/envs/mmrl/lib/python3.11/site-packages/torio/_extension/utils.py\", line 94, in _load_lib\n",
      "    torch.ops.load_library(path)\n",
      "  File \"/Users/timcares/miniconda3/envs/mmrl/lib/python3.11/site-packages/torch/_ops.py\", line 933, in load_library\n",
      "    ctypes.CDLL(path)\n",
      "  File \"/Users/timcares/miniconda3/envs/mmrl/lib/python3.11/ctypes/__init__.py\", line 376, in __init__\n",
      "    self._handle = _dlopen(self._name, mode)\n",
      "                   ^^^^^^^^^^^^^^^^^^^^^^^^^\n",
      "OSError: dlopen(/Users/timcares/miniconda3/envs/mmrl/lib/python3.11/site-packages/torio/lib/libtorio_ffmpeg6.so, 0x0006): Library not loaded: @rpath/libavutil.58.dylib\n",
      "  Referenced from: <8354F308-2D0D-3C05-9D4E-3D4C3327D784> /Users/timcares/miniconda3/envs/mmrl/lib/python3.11/site-packages/torio/lib/libtorio_ffmpeg6.so\n",
      "  Reason: tried: '/Users/timcares/miniconda3/envs/mmrl/lib/python3.11/site-packages/torio/lib/../../../../libavutil.58.dylib' (no such file), '/Users/timcares/miniconda3/envs/mmrl/lib/python3.11/site-packages/torio/lib/../../../../libavutil.58.dylib' (no such file), '/Users/timcares/miniconda3/envs/mmrl/lib/python3.11/lib-dynload/../../libavutil.58.dylib' (no such file), '/Users/timcares/miniconda3/envs/mmrl/bin/../lib/libavutil.58.dylib' (no such file), '/usr/local/lib/libavutil.58.dylib' (no such file), '/usr/lib/libavutil.58.dylib' (no such file, not in dyld cache)\n",
      "DEBUG:torio._extension.utils:Loading FFmpeg5\n",
      "DEBUG:torio._extension.utils:Failed to load FFmpeg5 extension.\n",
      "Traceback (most recent call last):\n",
      "  File \"/Users/timcares/miniconda3/envs/mmrl/lib/python3.11/site-packages/torio/_extension/utils.py\", line 116, in _find_ffmpeg_extension\n",
      "    ext = _find_versionsed_ffmpeg_extension(ffmpeg_ver)\n",
      "          ^^^^^^^^^^^^^^^^^^^^^^^^^^^^^^^^^^^^^^^^^^^^^\n",
      "  File \"/Users/timcares/miniconda3/envs/mmrl/lib/python3.11/site-packages/torio/_extension/utils.py\", line 108, in _find_versionsed_ffmpeg_extension\n",
      "    _load_lib(lib)\n",
      "  File \"/Users/timcares/miniconda3/envs/mmrl/lib/python3.11/site-packages/torio/_extension/utils.py\", line 94, in _load_lib\n",
      "    torch.ops.load_library(path)\n",
      "  File \"/Users/timcares/miniconda3/envs/mmrl/lib/python3.11/site-packages/torch/_ops.py\", line 933, in load_library\n",
      "    ctypes.CDLL(path)\n",
      "  File \"/Users/timcares/miniconda3/envs/mmrl/lib/python3.11/ctypes/__init__.py\", line 376, in __init__\n",
      "    self._handle = _dlopen(self._name, mode)\n",
      "                   ^^^^^^^^^^^^^^^^^^^^^^^^^\n",
      "OSError: dlopen(/Users/timcares/miniconda3/envs/mmrl/lib/python3.11/site-packages/torio/lib/libtorio_ffmpeg5.so, 0x0006): Library not loaded: @rpath/libavutil.57.dylib\n",
      "  Referenced from: <20585EA1-54CF-3A7A-911E-10CCE25B31B1> /Users/timcares/miniconda3/envs/mmrl/lib/python3.11/site-packages/torio/lib/libtorio_ffmpeg5.so\n",
      "  Reason: tried: '/Users/timcares/miniconda3/envs/mmrl/lib/python3.11/site-packages/torio/lib/../../../../libavutil.57.dylib' (no such file), '/Users/timcares/miniconda3/envs/mmrl/lib/python3.11/site-packages/torio/lib/../../../../libavutil.57.dylib' (no such file), '/Users/timcares/miniconda3/envs/mmrl/lib/python3.11/lib-dynload/../../libavutil.57.dylib' (no such file), '/Users/timcares/miniconda3/envs/mmrl/bin/../lib/libavutil.57.dylib' (no such file), '/usr/local/lib/libavutil.57.dylib' (no such file), '/usr/lib/libavutil.57.dylib' (no such file, not in dyld cache)\n",
      "DEBUG:torio._extension.utils:Loading FFmpeg4\n",
      "DEBUG:torio._extension.utils:Failed to load FFmpeg4 extension.\n",
      "Traceback (most recent call last):\n",
      "  File \"/Users/timcares/miniconda3/envs/mmrl/lib/python3.11/site-packages/torio/_extension/utils.py\", line 116, in _find_ffmpeg_extension\n",
      "    ext = _find_versionsed_ffmpeg_extension(ffmpeg_ver)\n",
      "          ^^^^^^^^^^^^^^^^^^^^^^^^^^^^^^^^^^^^^^^^^^^^^\n",
      "  File \"/Users/timcares/miniconda3/envs/mmrl/lib/python3.11/site-packages/torio/_extension/utils.py\", line 108, in _find_versionsed_ffmpeg_extension\n",
      "    _load_lib(lib)\n",
      "  File \"/Users/timcares/miniconda3/envs/mmrl/lib/python3.11/site-packages/torio/_extension/utils.py\", line 94, in _load_lib\n",
      "    torch.ops.load_library(path)\n",
      "  File \"/Users/timcares/miniconda3/envs/mmrl/lib/python3.11/site-packages/torch/_ops.py\", line 933, in load_library\n",
      "    ctypes.CDLL(path)\n",
      "  File \"/Users/timcares/miniconda3/envs/mmrl/lib/python3.11/ctypes/__init__.py\", line 376, in __init__\n",
      "    self._handle = _dlopen(self._name, mode)\n",
      "                   ^^^^^^^^^^^^^^^^^^^^^^^^^\n",
      "OSError: dlopen(/Users/timcares/miniconda3/envs/mmrl/lib/python3.11/site-packages/torio/lib/libtorio_ffmpeg4.so, 0x0006): Library not loaded: @rpath/libavutil.56.dylib\n",
      "  Referenced from: <3B5A8336-9CE3-36F7-9A02-C2D6D54842BB> /Users/timcares/miniconda3/envs/mmrl/lib/python3.11/site-packages/torio/lib/libtorio_ffmpeg4.so\n",
      "  Reason: tried: '/Users/timcares/miniconda3/envs/mmrl/lib/python3.11/site-packages/torio/lib/../../../../libavutil.56.dylib' (no such file), '/Users/timcares/miniconda3/envs/mmrl/lib/python3.11/site-packages/torio/lib/../../../../libavutil.56.dylib' (no such file), '/Users/timcares/miniconda3/envs/mmrl/lib/python3.11/lib-dynload/../../libavutil.56.dylib' (no such file), '/Users/timcares/miniconda3/envs/mmrl/bin/../lib/libavutil.56.dylib' (no such file), '/usr/local/lib/libavutil.56.dylib' (no such file), '/usr/lib/libavutil.56.dylib' (no such file, not in dyld cache)\n",
      "DEBUG:torio._extension.utils:Loading FFmpeg\n",
      "DEBUG:torio._extension.utils:Failed to load FFmpeg extension.\n",
      "Traceback (most recent call last):\n",
      "  File \"/Users/timcares/miniconda3/envs/mmrl/lib/python3.11/site-packages/torio/_extension/utils.py\", line 116, in _find_ffmpeg_extension\n",
      "    ext = _find_versionsed_ffmpeg_extension(ffmpeg_ver)\n",
      "          ^^^^^^^^^^^^^^^^^^^^^^^^^^^^^^^^^^^^^^^^^^^^^\n",
      "  File \"/Users/timcares/miniconda3/envs/mmrl/lib/python3.11/site-packages/torio/_extension/utils.py\", line 106, in _find_versionsed_ffmpeg_extension\n",
      "    raise RuntimeError(f\"FFmpeg{version} extension is not available.\")\n",
      "RuntimeError: FFmpeg extension is not available.\n"
     ]
    }
   ],
   "source": [
    "from datamodules import OpenWebTextDataModule, LibriSpeechDataModule\n",
    "import torch"
   ]
  },
  {
   "cell_type": "code",
   "execution_count": 114,
   "metadata": {},
   "outputs": [
    {
     "data": {
      "text/plain": [
       "tensor([[[0.0394, 0.6236, 0.5217, 0.2288],\n",
       "         [0.0671, 0.9122, 0.4706, 0.0772],\n",
       "         [0.2851, 0.9208, 0.3762, 0.9986]],\n",
       "\n",
       "        [[0.4197, 0.2042, 0.3527, 0.1137],\n",
       "         [0.9975, 0.8041, 0.6005, 0.2652],\n",
       "         [0.5677, 0.4694, 0.8450, 0.8799]]])"
      ]
     },
     "execution_count": 114,
     "metadata": {},
     "output_type": "execute_result"
    }
   ],
   "source": [
    "t = torch.ones(2, 3, 4)\n",
    "t"
   ]
  },
  {
   "cell_type": "code",
   "execution_count": 1,
   "metadata": {},
   "outputs": [],
   "source": [
    "from datamodules import QQPDataModule"
   ]
  },
  {
   "cell_type": "code",
   "execution_count": 4,
   "metadata": {},
   "outputs": [],
   "source": [
    "d = QQPDataModule(data_path='../data', num_max_bpe_tokens=512,\n",
    "                  batch_size=512, num_workers=1, shuffle=False, drop_last=False)"
   ]
  },
  {
   "cell_type": "code",
   "execution_count": 5,
   "metadata": {},
   "outputs": [
    {
     "name": "stderr",
     "output_type": "stream",
     "text": [
      "INFO:datasets:PyTorch version 2.2.2 available.\n",
      "DEBUG:urllib3.connectionpool:Starting new HTTP connection (1): qim.fs.quoracdn.net:80\n",
      "DEBUG:urllib3.connectionpool:http://qim.fs.quoracdn.net:80 \"GET /quora_duplicate_questions.tsv HTTP/1.1\" 301 167\n",
      "DEBUG:urllib3.connectionpool:Starting new HTTPS connection (1): qim.fs.quoracdn.net:443\n",
      "DEBUG:urllib3.connectionpool:https://qim.fs.quoracdn.net:443 \"GET /quora_duplicate_questions.tsv HTTP/1.1\" 200 58176133\n",
      "INFO:datasets_.data_utils:Write ../data/qqp/train.jsonl with 50000 items !\n",
      "/Users/timcares/miniconda3/envs/mmrl/lib/python3.11/site-packages/torchdata/datapipes/iter/util/cacheholder.py:434: UserWarning: Attempt to mark ../data/qqp/datasets/QQP/quora_duplicate_questions.tsv.promise.9af1b409-c661-49c4-a8f1-30af66120ba6 promise (base of file ../data/qqp/datasets/QQP/quora_duplicate_questions.tsv) as fulfilled failed. Potentially missmatching filename functions of on_disk_cache and end_cache.\n",
      "  warnings.warn(\n"
     ]
    }
   ],
   "source": [
    "d.prepare_data()"
   ]
  },
  {
   "cell_type": "code",
   "execution_count": 6,
   "metadata": {},
   "outputs": [
    {
     "name": "stderr",
     "output_type": "stream",
     "text": [
      "INFO:datasets_.base_datasets:[QQPDataset]: Load 50000 text examples.\n"
     ]
    }
   ],
   "source": [
    "d.setup('fit')"
   ]
  },
  {
   "cell_type": "code",
   "execution_count": 7,
   "metadata": {},
   "outputs": [],
   "source": [
    "dl = d.train_dataloader()"
   ]
  },
  {
   "cell_type": "code",
   "execution_count": 8,
   "metadata": {},
   "outputs": [
    {
     "name": "stderr",
     "output_type": "stream",
     "text": [
      "DEBUG:torio._extension.utils:Loading FFmpeg6\n",
      "DEBUG:torio._extension.utils:Failed to load FFmpeg6 extension.\n",
      "Traceback (most recent call last):\n",
      "  File \"/Users/timcares/miniconda3/envs/mmrl/lib/python3.11/site-packages/torio/_extension/utils.py\", line 116, in _find_ffmpeg_extension\n",
      "    ext = _find_versionsed_ffmpeg_extension(ffmpeg_ver)\n",
      "          ^^^^^^^^^^^^^^^^^^^^^^^^^^^^^^^^^^^^^^^^^^^^^\n",
      "  File \"/Users/timcares/miniconda3/envs/mmrl/lib/python3.11/site-packages/torio/_extension/utils.py\", line 108, in _find_versionsed_ffmpeg_extension\n",
      "    _load_lib(lib)\n",
      "  File \"/Users/timcares/miniconda3/envs/mmrl/lib/python3.11/site-packages/torio/_extension/utils.py\", line 94, in _load_lib\n",
      "    torch.ops.load_library(path)\n",
      "  File \"/Users/timcares/miniconda3/envs/mmrl/lib/python3.11/site-packages/torch/_ops.py\", line 933, in load_library\n",
      "    ctypes.CDLL(path)\n",
      "  File \"/Users/timcares/miniconda3/envs/mmrl/lib/python3.11/ctypes/__init__.py\", line 376, in __init__\n",
      "    self._handle = _dlopen(self._name, mode)\n",
      "                   ^^^^^^^^^^^^^^^^^^^^^^^^^\n",
      "OSError: dlopen(/Users/timcares/miniconda3/envs/mmrl/lib/python3.11/site-packages/torio/lib/libtorio_ffmpeg6.so, 0x0006): Library not loaded: @rpath/libavutil.58.dylib\n",
      "  Referenced from: <8354F308-2D0D-3C05-9D4E-3D4C3327D784> /Users/timcares/miniconda3/envs/mmrl/lib/python3.11/site-packages/torio/lib/libtorio_ffmpeg6.so\n",
      "  Reason: tried: '/Users/timcares/miniconda3/envs/mmrl/lib/python3.11/site-packages/torio/lib/../../../../libavutil.58.dylib' (no such file), '/Users/timcares/miniconda3/envs/mmrl/lib/python3.11/site-packages/torio/lib/../../../../libavutil.58.dylib' (no such file), '/Users/timcares/miniconda3/envs/mmrl/lib/python3.11/lib-dynload/../../libavutil.58.dylib' (no such file), '/Users/timcares/miniconda3/envs/mmrl/bin/../lib/libavutil.58.dylib' (no such file), '/usr/local/lib/libavutil.58.dylib' (no such file), '/usr/lib/libavutil.58.dylib' (no such file, not in dyld cache)\n",
      "DEBUG:torio._extension.utils:Loading FFmpeg5\n",
      "DEBUG:torio._extension.utils:Failed to load FFmpeg5 extension.\n",
      "Traceback (most recent call last):\n",
      "  File \"/Users/timcares/miniconda3/envs/mmrl/lib/python3.11/site-packages/torio/_extension/utils.py\", line 116, in _find_ffmpeg_extension\n",
      "    ext = _find_versionsed_ffmpeg_extension(ffmpeg_ver)\n",
      "          ^^^^^^^^^^^^^^^^^^^^^^^^^^^^^^^^^^^^^^^^^^^^^\n",
      "  File \"/Users/timcares/miniconda3/envs/mmrl/lib/python3.11/site-packages/torio/_extension/utils.py\", line 108, in _find_versionsed_ffmpeg_extension\n",
      "    _load_lib(lib)\n",
      "  File \"/Users/timcares/miniconda3/envs/mmrl/lib/python3.11/site-packages/torio/_extension/utils.py\", line 94, in _load_lib\n",
      "    torch.ops.load_library(path)\n",
      "  File \"/Users/timcares/miniconda3/envs/mmrl/lib/python3.11/site-packages/torch/_ops.py\", line 933, in load_library\n",
      "    ctypes.CDLL(path)\n",
      "  File \"/Users/timcares/miniconda3/envs/mmrl/lib/python3.11/ctypes/__init__.py\", line 376, in __init__\n",
      "    self._handle = _dlopen(self._name, mode)\n",
      "                   ^^^^^^^^^^^^^^^^^^^^^^^^^\n",
      "OSError: dlopen(/Users/timcares/miniconda3/envs/mmrl/lib/python3.11/site-packages/torio/lib/libtorio_ffmpeg5.so, 0x0006): Library not loaded: @rpath/libavutil.57.dylib\n",
      "  Referenced from: <20585EA1-54CF-3A7A-911E-10CCE25B31B1> /Users/timcares/miniconda3/envs/mmrl/lib/python3.11/site-packages/torio/lib/libtorio_ffmpeg5.so\n",
      "  Reason: tried: '/Users/timcares/miniconda3/envs/mmrl/lib/python3.11/site-packages/torio/lib/../../../../libavutil.57.dylib' (no such file), '/Users/timcares/miniconda3/envs/mmrl/lib/python3.11/site-packages/torio/lib/../../../../libavutil.57.dylib' (no such file), '/Users/timcares/miniconda3/envs/mmrl/lib/python3.11/lib-dynload/../../libavutil.57.dylib' (no such file), '/Users/timcares/miniconda3/envs/mmrl/bin/../lib/libavutil.57.dylib' (no such file), '/usr/local/lib/libavutil.57.dylib' (no such file), '/usr/lib/libavutil.57.dylib' (no such file, not in dyld cache)\n",
      "DEBUG:torio._extension.utils:Loading FFmpeg4\n",
      "DEBUG:torio._extension.utils:Failed to load FFmpeg4 extension.\n",
      "Traceback (most recent call last):\n",
      "  File \"/Users/timcares/miniconda3/envs/mmrl/lib/python3.11/site-packages/torio/_extension/utils.py\", line 116, in _find_ffmpeg_extension\n",
      "    ext = _find_versionsed_ffmpeg_extension(ffmpeg_ver)\n",
      "          ^^^^^^^^^^^^^^^^^^^^^^^^^^^^^^^^^^^^^^^^^^^^^\n",
      "  File \"/Users/timcares/miniconda3/envs/mmrl/lib/python3.11/site-packages/torio/_extension/utils.py\", line 108, in _find_versionsed_ffmpeg_extension\n",
      "    _load_lib(lib)\n",
      "  File \"/Users/timcares/miniconda3/envs/mmrl/lib/python3.11/site-packages/torio/_extension/utils.py\", line 94, in _load_lib\n",
      "    torch.ops.load_library(path)\n",
      "  File \"/Users/timcares/miniconda3/envs/mmrl/lib/python3.11/site-packages/torch/_ops.py\", line 933, in load_library\n",
      "    ctypes.CDLL(path)\n",
      "  File \"/Users/timcares/miniconda3/envs/mmrl/lib/python3.11/ctypes/__init__.py\", line 376, in __init__\n",
      "    self._handle = _dlopen(self._name, mode)\n",
      "                   ^^^^^^^^^^^^^^^^^^^^^^^^^\n",
      "OSError: dlopen(/Users/timcares/miniconda3/envs/mmrl/lib/python3.11/site-packages/torio/lib/libtorio_ffmpeg4.so, 0x0006): Library not loaded: @rpath/libavutil.56.dylib\n",
      "  Referenced from: <3B5A8336-9CE3-36F7-9A02-C2D6D54842BB> /Users/timcares/miniconda3/envs/mmrl/lib/python3.11/site-packages/torio/lib/libtorio_ffmpeg4.so\n",
      "  Reason: tried: '/Users/timcares/miniconda3/envs/mmrl/lib/python3.11/site-packages/torio/lib/../../../../libavutil.56.dylib' (no such file), '/Users/timcares/miniconda3/envs/mmrl/lib/python3.11/site-packages/torio/lib/../../../../libavutil.56.dylib' (no such file), '/Users/timcares/miniconda3/envs/mmrl/lib/python3.11/lib-dynload/../../libavutil.56.dylib' (no such file), '/Users/timcares/miniconda3/envs/mmrl/bin/../lib/libavutil.56.dylib' (no such file), '/usr/local/lib/libavutil.56.dylib' (no such file), '/usr/lib/libavutil.56.dylib' (no such file, not in dyld cache)\n",
      "DEBUG:torio._extension.utils:Loading FFmpeg\n",
      "DEBUG:torio._extension.utils:Failed to load FFmpeg extension.\n",
      "Traceback (most recent call last):\n",
      "  File \"/Users/timcares/miniconda3/envs/mmrl/lib/python3.11/site-packages/torio/_extension/utils.py\", line 116, in _find_ffmpeg_extension\n",
      "    ext = _find_versionsed_ffmpeg_extension(ffmpeg_ver)\n",
      "          ^^^^^^^^^^^^^^^^^^^^^^^^^^^^^^^^^^^^^^^^^^^^^\n",
      "  File \"/Users/timcares/miniconda3/envs/mmrl/lib/python3.11/site-packages/torio/_extension/utils.py\", line 106, in _find_versionsed_ffmpeg_extension\n",
      "    raise RuntimeError(f\"FFmpeg{version} extension is not available.\")\n",
      "RuntimeError: FFmpeg extension is not available.\n"
     ]
    }
   ],
   "source": [
    "dl_iter = iter(dl)"
   ]
  },
  {
   "cell_type": "code",
   "execution_count": 9,
   "metadata": {},
   "outputs": [
    {
     "data": {
      "text/plain": [
       "{'text0': tensor([[    0,  2061,   318,  ...,     1,     1,     1],\n",
       "         [    0,  2061,   318,  ...,     1,     1,     1],\n",
       "         [    0,  2437,   460,  ...,     1,     1,     1],\n",
       "         ...,\n",
       "         [    0,  2437,   857,  ...,     1,     1,     1],\n",
       "         [    0, 13921,  3012,  ...,     1,     1,     1],\n",
       "         [    0,  2437,  1327,  ...,     1,     1,     1]]),\n",
       " 'padding_mask0': tensor([[0, 0, 0,  ..., 1, 1, 1],\n",
       "         [0, 0, 0,  ..., 1, 1, 1],\n",
       "         [0, 0, 0,  ..., 1, 1, 1],\n",
       "         ...,\n",
       "         [0, 0, 0,  ..., 1, 1, 1],\n",
       "         [0, 0, 0,  ..., 1, 1, 1],\n",
       "         [0, 0, 0,  ..., 1, 1, 1]]),\n",
       " 'text1': tensor([[    0,  2061,   318,  ...,     1,     1,     1],\n",
       "         [    0,  2061,   561,  ...,     1,     1,     1],\n",
       "         [    0,  2437,   460,  ...,     1,     1,     1],\n",
       "         ...,\n",
       "         [    0, 13921,  1005,  ...,     1,     1,     1],\n",
       "         [    0,  2437,   460,  ...,     1,     1,     1],\n",
       "         [    0,  5195,   750,  ...,     1,     1,     1]]),\n",
       " 'padding_mask1': tensor([[0, 0, 0,  ..., 1, 1, 1],\n",
       "         [0, 0, 0,  ..., 1, 1, 1],\n",
       "         [0, 0, 0,  ..., 1, 1, 1],\n",
       "         ...,\n",
       "         [0, 0, 0,  ..., 1, 1, 1],\n",
       "         [0, 0, 0,  ..., 1, 1, 1],\n",
       "         [0, 0, 0,  ..., 1, 1, 1]]),\n",
       " 'modes': [<Modality.TEXT: 3>]}"
      ]
     },
     "execution_count": 9,
     "metadata": {},
     "output_type": "execute_result"
    }
   ],
   "source": [
    "b = next(dl_iter)\n",
    "b"
   ]
  },
  {
   "cell_type": "code",
   "execution_count": 115,
   "metadata": {},
   "outputs": [],
   "source": [
    "import torch.nn.functional as F"
   ]
  },
  {
   "cell_type": "code",
   "execution_count": 140,
   "metadata": {},
   "outputs": [
    {
     "data": {
      "text/plain": [
       "tensor([[[-1.3526,  1.1644,  0.7251, -0.5369],\n",
       "         [-0.9073,  1.5296,  0.2560, -0.8783],\n",
       "         [-1.1346,  0.8684, -0.8473,  1.1136]],\n",
       "\n",
       "        [[ 1.2215, -0.5677,  0.6653, -1.3191],\n",
       "         [ 1.2198,  0.5064, -0.2447, -1.4816],\n",
       "         [-0.6982, -1.2570,  0.8783,  1.0769]]],\n",
       "       grad_fn=<NativeLayerNormBackward0>)"
      ]
     },
     "execution_count": 140,
     "metadata": {},
     "output_type": "execute_result"
    }
   ],
   "source": [
    "torch.nn.LayerNorm(4)(t)"
   ]
  },
  {
   "cell_type": "code",
   "execution_count": 146,
   "metadata": {},
   "outputs": [
    {
     "data": {
      "text/plain": [
       "tensor([[0.0467, 0.7376, 0.6170, 0.2706]])"
      ]
     },
     "execution_count": 146,
     "metadata": {},
     "output_type": "execute_result"
    }
   ],
   "source": [
    "F.normalize(t[0][0].unsqueeze(0),dim=-1)"
   ]
  },
  {
   "cell_type": "code",
   "execution_count": 134,
   "metadata": {},
   "outputs": [
    {
     "data": {
      "text/plain": [
       "tensor([[[-1.2748,  0.4956,  0.1866, -0.7011],\n",
       "         [-1.1910,  1.3702,  0.0317, -1.1605],\n",
       "         [-0.5305,  1.3961, -0.2542,  1.6320]],\n",
       "\n",
       "        [[-0.4473, -1.2270, -0.6897, -1.5544],\n",
       "         [ 1.6435,  0.9438,  0.2071, -1.0061],\n",
       "         [ 0.0882, -0.2674,  1.0915,  1.2179]]])"
      ]
     },
     "execution_count": 134,
     "metadata": {},
     "output_type": "execute_result"
    }
   ],
   "source": [
    "r=F.layer_norm(t, normalized_shape=(3, 4))\n",
    "r"
   ]
  },
  {
   "cell_type": "code",
   "execution_count": 125,
   "metadata": {},
   "outputs": [
    {
     "data": {
      "text/plain": [
       "tensor([[-0.9988,  1.0873, -0.0120, -0.0765],\n",
       "        [ 0.4281, -0.1835,  0.2030, -0.4475]])"
      ]
     },
     "execution_count": 125,
     "metadata": {},
     "output_type": "execute_result"
    }
   ],
   "source": [
    "r.mean(dim=1)"
   ]
  },
  {
   "cell_type": "code",
   "execution_count": 129,
   "metadata": {},
   "outputs": [
    {
     "data": {
      "text/plain": [
       "tensor([[[0.0467, 0.7376, 0.6170, 0.2706],\n",
       "         [0.0650, 0.8844, 0.4562, 0.0748],\n",
       "         [0.1982, 0.6403, 0.2616, 0.6944]],\n",
       "\n",
       "        [[0.7042, 0.3426, 0.5918, 0.1908],\n",
       "         [0.6929, 0.5586, 0.4171, 0.1842],\n",
       "         [0.3984, 0.3294, 0.5929, 0.6175]]])"
      ]
     },
     "execution_count": 129,
     "metadata": {},
     "output_type": "execute_result"
    }
   ],
   "source": [
    "F.normalize(t, dim=-1)"
   ]
  },
  {
   "cell_type": "code",
   "execution_count": 10,
   "metadata": {},
   "outputs": [],
   "source": [
    "dm = OpenWebTextDataModule(data_path='../data',\n",
    "                           num_max_bpe_tokens=512,\n",
    "                           sample_break_mode='none',\n",
    "                           batch_size=256,\n",
    "                           num_workers=1,\n",
    "                           drop_last=True,\n",
    "                           shuffle=True,)"
   ]
  },
  {
   "cell_type": "code",
   "execution_count": 27,
   "metadata": {},
   "outputs": [],
   "source": [
    "dm = LibriSpeechDataModule(data_path='../data',\n",
    "                           sample_rate=16000,\n",
    "                           max_sample_size=320_000,\n",
    "                           min_sample_size=0,\n",
    "                           normalize=True,\n",
    "                           pad=True,\n",
    "                           types_train=['train-clean-100', 'test-other'],\n",
    "                           batch_size=256,\n",
    "                           num_workers=1,\n",
    "                           drop_last=True,\n",
    "                           shuffle=True,)"
   ]
  },
  {
   "cell_type": "code",
   "execution_count": 28,
   "metadata": {},
   "outputs": [],
   "source": [
    "dm.prepare_data()"
   ]
  },
  {
   "cell_type": "code",
   "execution_count": 29,
   "metadata": {},
   "outputs": [
    {
     "name": "stderr",
     "output_type": "stream",
     "text": [
      "INFO:fairseq.data.audio.raw_audio_dataset:loaded 28539, skipped 0 samples\n",
      "INFO:fairseq.data.audio.raw_audio_dataset:loaded 2939, skipped 0 samples\n"
     ]
    }
   ],
   "source": [
    "dm.setup('fit')"
   ]
  },
  {
   "cell_type": "code",
   "execution_count": 30,
   "metadata": {},
   "outputs": [],
   "source": [
    "dl = dm.train_dataloader()"
   ]
  },
  {
   "cell_type": "code",
   "execution_count": 31,
   "metadata": {},
   "outputs": [
    {
     "data": {
      "text/plain": [
       "122"
      ]
     },
     "execution_count": 31,
     "metadata": {},
     "output_type": "execute_result"
    }
   ],
   "source": [
    "len(dl)"
   ]
  },
  {
   "cell_type": "code",
   "execution_count": 32,
   "metadata": {},
   "outputs": [
    {
     "name": "stderr",
     "output_type": "stream",
     "text": [
      "DEBUG:torio._extension.utils:Loading FFmpeg6\n",
      "DEBUG:torio._extension.utils:Failed to load FFmpeg6 extension.\n",
      "Traceback (most recent call last):\n",
      "  File \"/Users/timcares/miniconda3/envs/mmrl/lib/python3.11/site-packages/torio/_extension/utils.py\", line 116, in _find_ffmpeg_extension\n",
      "    ext = _find_versionsed_ffmpeg_extension(ffmpeg_ver)\n",
      "          ^^^^^^^^^^^^^^^^^^^^^^^^^^^^^^^^^^^^^^^^^^^^^\n",
      "  File \"/Users/timcares/miniconda3/envs/mmrl/lib/python3.11/site-packages/torio/_extension/utils.py\", line 108, in _find_versionsed_ffmpeg_extension\n",
      "    _load_lib(lib)\n",
      "  File \"/Users/timcares/miniconda3/envs/mmrl/lib/python3.11/site-packages/torio/_extension/utils.py\", line 94, in _load_lib\n",
      "    torch.ops.load_library(path)\n",
      "  File \"/Users/timcares/miniconda3/envs/mmrl/lib/python3.11/site-packages/torch/_ops.py\", line 933, in load_library\n",
      "    ctypes.CDLL(path)\n",
      "  File \"/Users/timcares/miniconda3/envs/mmrl/lib/python3.11/ctypes/__init__.py\", line 376, in __init__\n",
      "    self._handle = _dlopen(self._name, mode)\n",
      "                   ^^^^^^^^^^^^^^^^^^^^^^^^^\n",
      "OSError: dlopen(/Users/timcares/miniconda3/envs/mmrl/lib/python3.11/site-packages/torio/lib/libtorio_ffmpeg6.so, 0x0006): Library not loaded: @rpath/libavutil.58.dylib\n",
      "  Referenced from: <8354F308-2D0D-3C05-9D4E-3D4C3327D784> /Users/timcares/miniconda3/envs/mmrl/lib/python3.11/site-packages/torio/lib/libtorio_ffmpeg6.so\n",
      "  Reason: tried: '/Users/timcares/miniconda3/envs/mmrl/lib/python3.11/site-packages/torio/lib/../../../../libavutil.58.dylib' (no such file), '/Users/timcares/miniconda3/envs/mmrl/lib/python3.11/site-packages/torio/lib/../../../../libavutil.58.dylib' (no such file), '/Users/timcares/miniconda3/envs/mmrl/lib/python3.11/lib-dynload/../../libavutil.58.dylib' (no such file), '/Users/timcares/miniconda3/envs/mmrl/bin/../lib/libavutil.58.dylib' (no such file), '/usr/local/lib/libavutil.58.dylib' (no such file), '/usr/lib/libavutil.58.dylib' (no such file, not in dyld cache)\n",
      "DEBUG:torio._extension.utils:Loading FFmpeg5\n",
      "DEBUG:torio._extension.utils:Failed to load FFmpeg5 extension.\n",
      "Traceback (most recent call last):\n",
      "  File \"/Users/timcares/miniconda3/envs/mmrl/lib/python3.11/site-packages/torio/_extension/utils.py\", line 116, in _find_ffmpeg_extension\n",
      "    ext = _find_versionsed_ffmpeg_extension(ffmpeg_ver)\n",
      "          ^^^^^^^^^^^^^^^^^^^^^^^^^^^^^^^^^^^^^^^^^^^^^\n",
      "  File \"/Users/timcares/miniconda3/envs/mmrl/lib/python3.11/site-packages/torio/_extension/utils.py\", line 108, in _find_versionsed_ffmpeg_extension\n",
      "    _load_lib(lib)\n",
      "  File \"/Users/timcares/miniconda3/envs/mmrl/lib/python3.11/site-packages/torio/_extension/utils.py\", line 94, in _load_lib\n",
      "    torch.ops.load_library(path)\n",
      "  File \"/Users/timcares/miniconda3/envs/mmrl/lib/python3.11/site-packages/torch/_ops.py\", line 933, in load_library\n",
      "    ctypes.CDLL(path)\n",
      "  File \"/Users/timcares/miniconda3/envs/mmrl/lib/python3.11/ctypes/__init__.py\", line 376, in __init__\n",
      "    self._handle = _dlopen(self._name, mode)\n",
      "                   ^^^^^^^^^^^^^^^^^^^^^^^^^\n",
      "OSError: dlopen(/Users/timcares/miniconda3/envs/mmrl/lib/python3.11/site-packages/torio/lib/libtorio_ffmpeg5.so, 0x0006): Library not loaded: @rpath/libavutil.57.dylib\n",
      "  Referenced from: <20585EA1-54CF-3A7A-911E-10CCE25B31B1> /Users/timcares/miniconda3/envs/mmrl/lib/python3.11/site-packages/torio/lib/libtorio_ffmpeg5.so\n",
      "  Reason: tried: '/Users/timcares/miniconda3/envs/mmrl/lib/python3.11/site-packages/torio/lib/../../../../libavutil.57.dylib' (no such file), '/Users/timcares/miniconda3/envs/mmrl/lib/python3.11/site-packages/torio/lib/../../../../libavutil.57.dylib' (no such file), '/Users/timcares/miniconda3/envs/mmrl/lib/python3.11/lib-dynload/../../libavutil.57.dylib' (no such file), '/Users/timcares/miniconda3/envs/mmrl/bin/../lib/libavutil.57.dylib' (no such file), '/usr/local/lib/libavutil.57.dylib' (no such file), '/usr/lib/libavutil.57.dylib' (no such file, not in dyld cache)\n",
      "DEBUG:torio._extension.utils:Loading FFmpeg4\n",
      "DEBUG:torio._extension.utils:Failed to load FFmpeg4 extension.\n",
      "Traceback (most recent call last):\n",
      "  File \"/Users/timcares/miniconda3/envs/mmrl/lib/python3.11/site-packages/torio/_extension/utils.py\", line 116, in _find_ffmpeg_extension\n",
      "    ext = _find_versionsed_ffmpeg_extension(ffmpeg_ver)\n",
      "          ^^^^^^^^^^^^^^^^^^^^^^^^^^^^^^^^^^^^^^^^^^^^^\n",
      "  File \"/Users/timcares/miniconda3/envs/mmrl/lib/python3.11/site-packages/torio/_extension/utils.py\", line 108, in _find_versionsed_ffmpeg_extension\n",
      "    _load_lib(lib)\n",
      "  File \"/Users/timcares/miniconda3/envs/mmrl/lib/python3.11/site-packages/torio/_extension/utils.py\", line 94, in _load_lib\n",
      "    torch.ops.load_library(path)\n",
      "  File \"/Users/timcares/miniconda3/envs/mmrl/lib/python3.11/site-packages/torch/_ops.py\", line 933, in load_library\n",
      "    ctypes.CDLL(path)\n",
      "  File \"/Users/timcares/miniconda3/envs/mmrl/lib/python3.11/ctypes/__init__.py\", line 376, in __init__\n",
      "    self._handle = _dlopen(self._name, mode)\n",
      "                   ^^^^^^^^^^^^^^^^^^^^^^^^^\n",
      "OSError: dlopen(/Users/timcares/miniconda3/envs/mmrl/lib/python3.11/site-packages/torio/lib/libtorio_ffmpeg4.so, 0x0006): Library not loaded: @rpath/libavutil.56.dylib\n",
      "  Referenced from: <3B5A8336-9CE3-36F7-9A02-C2D6D54842BB> /Users/timcares/miniconda3/envs/mmrl/lib/python3.11/site-packages/torio/lib/libtorio_ffmpeg4.so\n",
      "  Reason: tried: '/Users/timcares/miniconda3/envs/mmrl/lib/python3.11/site-packages/torio/lib/../../../../libavutil.56.dylib' (no such file), '/Users/timcares/miniconda3/envs/mmrl/lib/python3.11/site-packages/torio/lib/../../../../libavutil.56.dylib' (no such file), '/Users/timcares/miniconda3/envs/mmrl/lib/python3.11/lib-dynload/../../libavutil.56.dylib' (no such file), '/Users/timcares/miniconda3/envs/mmrl/bin/../lib/libavutil.56.dylib' (no such file), '/usr/local/lib/libavutil.56.dylib' (no such file), '/usr/lib/libavutil.56.dylib' (no such file, not in dyld cache)\n",
      "DEBUG:torio._extension.utils:Loading FFmpeg\n",
      "DEBUG:torio._extension.utils:Failed to load FFmpeg extension.\n",
      "Traceback (most recent call last):\n",
      "  File \"/Users/timcares/miniconda3/envs/mmrl/lib/python3.11/site-packages/torio/_extension/utils.py\", line 116, in _find_ffmpeg_extension\n",
      "    ext = _find_versionsed_ffmpeg_extension(ffmpeg_ver)\n",
      "          ^^^^^^^^^^^^^^^^^^^^^^^^^^^^^^^^^^^^^^^^^^^^^\n",
      "  File \"/Users/timcares/miniconda3/envs/mmrl/lib/python3.11/site-packages/torio/_extension/utils.py\", line 106, in _find_versionsed_ffmpeg_extension\n",
      "    raise RuntimeError(f\"FFmpeg{version} extension is not available.\")\n",
      "RuntimeError: FFmpeg extension is not available.\n"
     ]
    }
   ],
   "source": [
    "dl_iter = iter(dl)"
   ]
  },
  {
   "cell_type": "code",
   "execution_count": 34,
   "metadata": {},
   "outputs": [
    {
     "data": {
      "text/plain": [
       "tensor([[ 2.2359e-05,  2.2359e-05,  2.2359e-05,  ...,  0.0000e+00,\n",
       "          0.0000e+00,  0.0000e+00],\n",
       "        [ 1.6583e-02,  1.7562e-02,  7.7667e-03,  ...,  0.0000e+00,\n",
       "          0.0000e+00,  0.0000e+00],\n",
       "        [-9.6405e-03, -1.2852e-02, -1.0443e-02,  ...,  0.0000e+00,\n",
       "          0.0000e+00,  0.0000e+00],\n",
       "        ...,\n",
       "        [-5.0267e-02,  7.9174e-03,  4.8271e-02,  ...,  0.0000e+00,\n",
       "          0.0000e+00,  0.0000e+00],\n",
       "        [-1.9171e-02, -2.2060e-02, -2.8250e-02,  ...,  0.0000e+00,\n",
       "          0.0000e+00,  0.0000e+00],\n",
       "        [-3.2774e-02, -3.2167e-02, -3.3381e-02,  ...,  0.0000e+00,\n",
       "          0.0000e+00,  0.0000e+00]])"
      ]
     },
     "execution_count": 34,
     "metadata": {},
     "output_type": "execute_result"
    }
   ],
   "source": [
    "b=next(dl_iter)\n",
    "b['audio']"
   ]
  },
  {
   "cell_type": "code",
   "execution_count": 101,
   "metadata": {},
   "outputs": [],
   "source": [
    "from utils import load_pretrained_d2v_model"
   ]
  },
  {
   "cell_type": "code",
   "execution_count": 102,
   "metadata": {},
   "outputs": [
    {
     "name": "stderr",
     "output_type": "stream",
     "text": [
      "INFO:utils:Modality used: Modality.TEXT\n",
      "INFO:data2vec_fairseq.models.data2vec2:making target model\n",
      "INFO:utils:Loaded state dict, result: <All keys matched successfully>\n"
     ]
    }
   ],
   "source": [
    "model = load_pretrained_d2v_model('../models/nlp_base.pt')"
   ]
  },
  {
   "cell_type": "code",
   "execution_count": 14,
   "metadata": {},
   "outputs": [],
   "source": [
    "sd = torch.load('../models/nlp_base.pt')"
   ]
  },
  {
   "cell_type": "code",
   "execution_count": 11,
   "metadata": {},
   "outputs": [
    {
     "data": {
      "text/plain": [
       "1"
      ]
     },
     "execution_count": 11,
     "metadata": {},
     "output_type": "execute_result"
    }
   ],
   "source": [
    "sd['cfg']['model']['modalities']['image']['num_extra_tokens']"
   ]
  },
  {
   "cell_type": "code",
   "execution_count": 15,
   "metadata": {},
   "outputs": [
    {
     "data": {
      "text/plain": [
       "0"
      ]
     },
     "execution_count": 15,
     "metadata": {},
     "output_type": "execute_result"
    }
   ],
   "source": [
    "sd['cfg']['model']['modalities']['text']['num_extra_tokens']"
   ]
  },
  {
   "cell_type": "code",
   "execution_count": 13,
   "metadata": {},
   "outputs": [
    {
     "data": {
      "text/plain": [
       "0"
      ]
     },
     "execution_count": 13,
     "metadata": {},
     "output_type": "execute_result"
    }
   ],
   "source": [
    "sd['cfg']['model']['modalities']['audio']['num_extra_tokens']"
   ]
  },
  {
   "cell_type": "code",
   "execution_count": 17,
   "metadata": {},
   "outputs": [
    {
     "data": {
      "text/plain": [
       "dict_keys(['target', 'text', 'modes'])"
      ]
     },
     "execution_count": 17,
     "metadata": {},
     "output_type": "execute_result"
    }
   ],
   "source": [
    "b=torch.load('../data/kd_openwebtext/0_0-255.pt')\n",
    "b.keys()"
   ]
  },
  {
   "cell_type": "code",
   "execution_count": 6,
   "metadata": {},
   "outputs": [
    {
     "data": {
      "text/plain": [
       "torch.Size([256, 2, 768])"
      ]
     },
     "execution_count": 6,
     "metadata": {},
     "output_type": "execute_result"
    }
   ],
   "source": [
    "b['target'].shape"
   ]
  },
  {
   "cell_type": "code",
   "execution_count": 2,
   "metadata": {},
   "outputs": [],
   "source": [
    "from datamodules import IMDBDataModule\n",
    "from datasets_ import ImageNetDataset"
   ]
  },
  {
   "cell_type": "code",
   "execution_count": 3,
   "metadata": {},
   "outputs": [],
   "source": [
    "dm = IMDBDataModule(data_path='../data',\n",
    "                    num_max_bpe_tokens=512,\n",
    "                    batch_size=256,\n",
    "                    num_workers=1,\n",
    "                    drop_last=True,\n",
    "                    shuffle=True,)"
   ]
  },
  {
   "cell_type": "code",
   "execution_count": 4,
   "metadata": {},
   "outputs": [
    {
     "name": "stderr",
     "output_type": "stream",
     "text": [
      "INFO:datasets:PyTorch version 2.2.2 available.\n",
      "DEBUG:urllib3.connectionpool:Starting new HTTP connection (1): ai.stanford.edu:80\n",
      "DEBUG:urllib3.connectionpool:http://ai.stanford.edu:80 \"GET /~amaas/data/sentiment/aclImdb_v1.tar.gz HTTP/1.1\" 200 84125825\n",
      "INFO:datasets_.data_utils:Write ../data/imdb/train.jsonl with 25000 items !\n",
      "DEBUG:urllib3.connectionpool:Starting new HTTP connection (1): ai.stanford.edu:80\n",
      "DEBUG:urllib3.connectionpool:http://ai.stanford.edu:80 \"GET /~amaas/data/sentiment/aclImdb_v1.tar.gz HTTP/1.1\" 200 84125825\n",
      "INFO:datasets_.data_utils:Write ../data/imdb/test.jsonl with 25000 items !\n"
     ]
    }
   ],
   "source": [
    "dm.prepare_data()"
   ]
  },
  {
   "cell_type": "code",
   "execution_count": 6,
   "metadata": {},
   "outputs": [
    {
     "name": "stderr",
     "output_type": "stream",
     "text": [
      "INFO:datasets_.base_datasets:[IMDBDataset]: Load 25000 text examples.\n"
     ]
    }
   ],
   "source": [
    "dm.setup('fit')"
   ]
  },
  {
   "cell_type": "code",
   "execution_count": 7,
   "metadata": {},
   "outputs": [],
   "source": [
    "dl = dm.train_dataloader()"
   ]
  },
  {
   "cell_type": "code",
   "execution_count": 8,
   "metadata": {},
   "outputs": [
    {
     "name": "stderr",
     "output_type": "stream",
     "text": [
      "DEBUG:torio._extension.utils:Loading FFmpeg6\n",
      "DEBUG:torio._extension.utils:Failed to load FFmpeg6 extension.\n",
      "Traceback (most recent call last):\n",
      "  File \"/Users/timcares/miniconda3/envs/mmrl/lib/python3.11/site-packages/torio/_extension/utils.py\", line 116, in _find_ffmpeg_extension\n",
      "    ext = _find_versionsed_ffmpeg_extension(ffmpeg_ver)\n",
      "          ^^^^^^^^^^^^^^^^^^^^^^^^^^^^^^^^^^^^^^^^^^^^^\n",
      "  File \"/Users/timcares/miniconda3/envs/mmrl/lib/python3.11/site-packages/torio/_extension/utils.py\", line 108, in _find_versionsed_ffmpeg_extension\n",
      "    _load_lib(lib)\n",
      "  File \"/Users/timcares/miniconda3/envs/mmrl/lib/python3.11/site-packages/torio/_extension/utils.py\", line 94, in _load_lib\n",
      "    torch.ops.load_library(path)\n",
      "  File \"/Users/timcares/miniconda3/envs/mmrl/lib/python3.11/site-packages/torch/_ops.py\", line 933, in load_library\n",
      "    ctypes.CDLL(path)\n",
      "  File \"/Users/timcares/miniconda3/envs/mmrl/lib/python3.11/ctypes/__init__.py\", line 376, in __init__\n",
      "    self._handle = _dlopen(self._name, mode)\n",
      "                   ^^^^^^^^^^^^^^^^^^^^^^^^^\n",
      "OSError: dlopen(/Users/timcares/miniconda3/envs/mmrl/lib/python3.11/site-packages/torio/lib/libtorio_ffmpeg6.so, 0x0006): Library not loaded: @rpath/libavutil.58.dylib\n",
      "  Referenced from: <8354F308-2D0D-3C05-9D4E-3D4C3327D784> /Users/timcares/miniconda3/envs/mmrl/lib/python3.11/site-packages/torio/lib/libtorio_ffmpeg6.so\n",
      "  Reason: tried: '/Users/timcares/miniconda3/envs/mmrl/lib/python3.11/site-packages/torio/lib/../../../../libavutil.58.dylib' (no such file), '/Users/timcares/miniconda3/envs/mmrl/lib/python3.11/site-packages/torio/lib/../../../../libavutil.58.dylib' (no such file), '/Users/timcares/miniconda3/envs/mmrl/lib/python3.11/lib-dynload/../../libavutil.58.dylib' (no such file), '/Users/timcares/miniconda3/envs/mmrl/bin/../lib/libavutil.58.dylib' (no such file), '/usr/local/lib/libavutil.58.dylib' (no such file), '/usr/lib/libavutil.58.dylib' (no such file, not in dyld cache)\n",
      "DEBUG:torio._extension.utils:Loading FFmpeg5\n",
      "DEBUG:torio._extension.utils:Failed to load FFmpeg5 extension.\n",
      "Traceback (most recent call last):\n",
      "  File \"/Users/timcares/miniconda3/envs/mmrl/lib/python3.11/site-packages/torio/_extension/utils.py\", line 116, in _find_ffmpeg_extension\n",
      "    ext = _find_versionsed_ffmpeg_extension(ffmpeg_ver)\n",
      "          ^^^^^^^^^^^^^^^^^^^^^^^^^^^^^^^^^^^^^^^^^^^^^\n",
      "  File \"/Users/timcares/miniconda3/envs/mmrl/lib/python3.11/site-packages/torio/_extension/utils.py\", line 108, in _find_versionsed_ffmpeg_extension\n",
      "    _load_lib(lib)\n",
      "  File \"/Users/timcares/miniconda3/envs/mmrl/lib/python3.11/site-packages/torio/_extension/utils.py\", line 94, in _load_lib\n",
      "    torch.ops.load_library(path)\n",
      "  File \"/Users/timcares/miniconda3/envs/mmrl/lib/python3.11/site-packages/torch/_ops.py\", line 933, in load_library\n",
      "    ctypes.CDLL(path)\n",
      "  File \"/Users/timcares/miniconda3/envs/mmrl/lib/python3.11/ctypes/__init__.py\", line 376, in __init__\n",
      "    self._handle = _dlopen(self._name, mode)\n",
      "                   ^^^^^^^^^^^^^^^^^^^^^^^^^\n",
      "OSError: dlopen(/Users/timcares/miniconda3/envs/mmrl/lib/python3.11/site-packages/torio/lib/libtorio_ffmpeg5.so, 0x0006): Library not loaded: @rpath/libavutil.57.dylib\n",
      "  Referenced from: <20585EA1-54CF-3A7A-911E-10CCE25B31B1> /Users/timcares/miniconda3/envs/mmrl/lib/python3.11/site-packages/torio/lib/libtorio_ffmpeg5.so\n",
      "  Reason: tried: '/Users/timcares/miniconda3/envs/mmrl/lib/python3.11/site-packages/torio/lib/../../../../libavutil.57.dylib' (no such file), '/Users/timcares/miniconda3/envs/mmrl/lib/python3.11/site-packages/torio/lib/../../../../libavutil.57.dylib' (no such file), '/Users/timcares/miniconda3/envs/mmrl/lib/python3.11/lib-dynload/../../libavutil.57.dylib' (no such file), '/Users/timcares/miniconda3/envs/mmrl/bin/../lib/libavutil.57.dylib' (no such file), '/usr/local/lib/libavutil.57.dylib' (no such file), '/usr/lib/libavutil.57.dylib' (no such file, not in dyld cache)\n",
      "DEBUG:torio._extension.utils:Loading FFmpeg4\n",
      "DEBUG:torio._extension.utils:Failed to load FFmpeg4 extension.\n",
      "Traceback (most recent call last):\n",
      "  File \"/Users/timcares/miniconda3/envs/mmrl/lib/python3.11/site-packages/torio/_extension/utils.py\", line 116, in _find_ffmpeg_extension\n",
      "    ext = _find_versionsed_ffmpeg_extension(ffmpeg_ver)\n",
      "          ^^^^^^^^^^^^^^^^^^^^^^^^^^^^^^^^^^^^^^^^^^^^^\n",
      "  File \"/Users/timcares/miniconda3/envs/mmrl/lib/python3.11/site-packages/torio/_extension/utils.py\", line 108, in _find_versionsed_ffmpeg_extension\n",
      "    _load_lib(lib)\n",
      "  File \"/Users/timcares/miniconda3/envs/mmrl/lib/python3.11/site-packages/torio/_extension/utils.py\", line 94, in _load_lib\n",
      "    torch.ops.load_library(path)\n",
      "  File \"/Users/timcares/miniconda3/envs/mmrl/lib/python3.11/site-packages/torch/_ops.py\", line 933, in load_library\n",
      "    ctypes.CDLL(path)\n",
      "  File \"/Users/timcares/miniconda3/envs/mmrl/lib/python3.11/ctypes/__init__.py\", line 376, in __init__\n",
      "    self._handle = _dlopen(self._name, mode)\n",
      "                   ^^^^^^^^^^^^^^^^^^^^^^^^^\n",
      "OSError: dlopen(/Users/timcares/miniconda3/envs/mmrl/lib/python3.11/site-packages/torio/lib/libtorio_ffmpeg4.so, 0x0006): Library not loaded: @rpath/libavutil.56.dylib\n",
      "  Referenced from: <3B5A8336-9CE3-36F7-9A02-C2D6D54842BB> /Users/timcares/miniconda3/envs/mmrl/lib/python3.11/site-packages/torio/lib/libtorio_ffmpeg4.so\n",
      "  Reason: tried: '/Users/timcares/miniconda3/envs/mmrl/lib/python3.11/site-packages/torio/lib/../../../../libavutil.56.dylib' (no such file), '/Users/timcares/miniconda3/envs/mmrl/lib/python3.11/site-packages/torio/lib/../../../../libavutil.56.dylib' (no such file), '/Users/timcares/miniconda3/envs/mmrl/lib/python3.11/lib-dynload/../../libavutil.56.dylib' (no such file), '/Users/timcares/miniconda3/envs/mmrl/bin/../lib/libavutil.56.dylib' (no such file), '/usr/local/lib/libavutil.56.dylib' (no such file), '/usr/lib/libavutil.56.dylib' (no such file, not in dyld cache)\n",
      "DEBUG:torio._extension.utils:Loading FFmpeg\n",
      "DEBUG:torio._extension.utils:Failed to load FFmpeg extension.\n",
      "Traceback (most recent call last):\n",
      "  File \"/Users/timcares/miniconda3/envs/mmrl/lib/python3.11/site-packages/torio/_extension/utils.py\", line 116, in _find_ffmpeg_extension\n",
      "    ext = _find_versionsed_ffmpeg_extension(ffmpeg_ver)\n",
      "          ^^^^^^^^^^^^^^^^^^^^^^^^^^^^^^^^^^^^^^^^^^^^^\n",
      "  File \"/Users/timcares/miniconda3/envs/mmrl/lib/python3.11/site-packages/torio/_extension/utils.py\", line 106, in _find_versionsed_ffmpeg_extension\n",
      "    raise RuntimeError(f\"FFmpeg{version} extension is not available.\")\n",
      "RuntimeError: FFmpeg extension is not available.\n"
     ]
    }
   ],
   "source": [
    "iter_dl = iter(dl)"
   ]
  },
  {
   "cell_type": "code",
   "execution_count": 9,
   "metadata": {},
   "outputs": [
    {
     "data": {
      "text/plain": [
       "{'text': tensor([[    0,  1212,  2646,  ...,   318,  2826,   503],\n",
       "         [    0,    40,  7342,  ...,     1,     1,     1],\n",
       "         [    0,    32,   649,  ...,   284,   257, 19207],\n",
       "         ...,\n",
       "         [    0,    40,  1422,  ...,     1,     1,     1],\n",
       "         [    0,  9139,  3225,  ...,     1,     1,     1],\n",
       "         [    0,  1212,   318,  ...,     1,     1,     1]]),\n",
       " 'padding_mask': tensor([[0, 0, 0,  ..., 0, 0, 0],\n",
       "         [0, 0, 0,  ..., 1, 1, 1],\n",
       "         [0, 0, 0,  ..., 0, 0, 0],\n",
       "         ...,\n",
       "         [0, 0, 0,  ..., 1, 1, 1],\n",
       "         [0, 0, 0,  ..., 1, 1, 1],\n",
       "         [0, 0, 0,  ..., 1, 1, 1]]),\n",
       " 'target': tensor([1, 1, 1, 1, 0, 1, 0, 1, 0, 1, 0, 0, 0, 1, 0, 1, 1, 0, 1, 1, 1, 1, 0, 0,\n",
       "         0, 0, 0, 0, 0, 1, 0, 1, 0, 0, 1, 0, 0, 1, 0, 0, 1, 1, 0, 0, 1, 1, 0, 0,\n",
       "         0, 1, 1, 0, 1, 1, 1, 1, 1, 1, 1, 1, 1, 1, 0, 1, 1, 1, 1, 0, 1, 1, 0, 1,\n",
       "         1, 1, 0, 0, 1, 0, 0, 0, 1, 0, 1, 1, 1, 1, 1, 1, 0, 0, 0, 0, 0, 0, 1, 0,\n",
       "         0, 1, 0, 1, 1, 0, 0, 0, 0, 1, 0, 1, 1, 1, 0, 1, 0, 1, 1, 0, 1, 0, 0, 0,\n",
       "         0, 1, 1, 1, 0, 0, 1, 1, 0, 0, 0, 0, 1, 0, 0, 0, 1, 1, 1, 0, 0, 0, 0, 1,\n",
       "         1, 0, 1, 1, 1, 0, 0, 1, 1, 0, 0, 1, 1, 0, 0, 0, 0, 1, 1, 0, 0, 0, 1, 1,\n",
       "         1, 1, 1, 0, 0, 1, 0, 0, 1, 1, 0, 0, 0, 1, 0, 0, 1, 0, 0, 1, 0, 1, 0, 0,\n",
       "         1, 0, 1, 1, 0, 0, 0, 1, 1, 0, 0, 1, 1, 0, 1, 0, 1, 1, 0, 0, 1, 0, 0, 1,\n",
       "         1, 1, 0, 0, 1, 0, 1, 1, 1, 0, 1, 1, 0, 1, 1, 0, 0, 0, 1, 1, 0, 0, 0, 1,\n",
       "         0, 0, 0, 0, 1, 0, 0, 1, 1, 0, 1, 1, 1, 1, 1, 0]),\n",
       " 'modes': [<Modality.TEXT: 3>]}"
      ]
     },
     "execution_count": 9,
     "metadata": {},
     "output_type": "execute_result"
    }
   ],
   "source": [
    "b=next(iter_dl)\n",
    "b"
   ]
  },
  {
   "cell_type": "code",
   "execution_count": 11,
   "metadata": {},
   "outputs": [
    {
     "data": {
      "text/plain": [
       "tensor(128)"
      ]
     },
     "execution_count": 11,
     "metadata": {},
     "output_type": "execute_result"
    }
   ],
   "source": [
    "b['target'].sum()"
   ]
  },
  {
   "cell_type": "code",
   "execution_count": 7,
   "metadata": {},
   "outputs": [],
   "source": [
    "import torchtext\n",
    "data_loader = iter(torchtext.datasets.IMDB(root='../data', split='train'))"
   ]
  },
  {
   "cell_type": "code",
   "execution_count": 8,
   "metadata": {},
   "outputs": [],
   "source": [
    "it = iter(data_loader)"
   ]
  },
  {
   "cell_type": "code",
   "execution_count": 47,
   "metadata": {},
   "outputs": [
    {
     "data": {
      "text/plain": [
       "0"
      ]
     },
     "execution_count": 47,
     "metadata": {},
     "output_type": "execute_result"
    }
   ],
   "source": [
    "next(it)[0]-1"
   ]
  },
  {
   "cell_type": "code",
   "execution_count": null,
   "metadata": {},
   "outputs": [],
   "source": [
    "ds = ImageNetDataset(data_path='/workspace/imagenet', split='train', \n",
    "                     beit_transforms=False,\n",
    "                     no_transform=False,\n",
    "                     transform_jitter=False,\n",
    "                     crop_scale=(0.6, 1.0),\n",
    "                     dataset_type='imagefolder',\n",
    "                     local_cache_path=None,\n",
    "                     precompute_mask_config=None,\n",
    "                     return_path=False)"
   ]
  },
  {
   "cell_type": "code",
   "execution_count": null,
   "metadata": {},
   "outputs": [],
   "source": [
    "ds.load()"
   ]
  },
  {
   "cell_type": "code",
   "execution_count": 24,
   "metadata": {},
   "outputs": [],
   "source": [
    "target_layer_results=[torch.rand(12, 5, 16) for _ in range(10)]"
   ]
  },
  {
   "cell_type": "code",
   "execution_count": 25,
   "metadata": {},
   "outputs": [],
   "source": [
    "target_layer_results = torch.stack(target_layer_results, dim=1)\n",
    "target_layer_results = target_layer_results[:, :, 0, :]"
   ]
  },
  {
   "cell_type": "code",
   "execution_count": 27,
   "metadata": {},
   "outputs": [
    {
     "data": {
      "text/plain": [
       "torch.Size([12, 10, 16])"
      ]
     },
     "execution_count": 27,
     "metadata": {},
     "output_type": "execute_result"
    }
   ],
   "source": [
    "target_layer_results.shape"
   ]
  },
  {
   "cell_type": "code",
   "execution_count": 56,
   "metadata": {},
   "outputs": [],
   "source": [
    "target_q = torch.Tensor([1,0,1])\n",
    "target_mem = torch.Tensor([1,0,1,0,0])"
   ]
  },
  {
   "cell_type": "code",
   "execution_count": 31,
   "metadata": {},
   "outputs": [
    {
     "data": {
      "text/plain": [
       "tensor([[ 0.1000,  0.2000,  0.5000,  0.4000, -0.1000],\n",
       "        [ 1.0000,  0.9000,  0.4000,  0.5000,  0.6000],\n",
       "        [ 0.5000,  0.4000,  0.5000, -0.1000,  0.7000]])"
      ]
     },
     "execution_count": 31,
     "metadata": {},
     "output_type": "execute_result"
    }
   ],
   "source": [
    "sim=torch.Tensor([\n",
    "    [0.1, 0.2, 0.5, 0.4, -0.1],\n",
    "    [1.0, 0.9, 0.4, 0.5, 0.6],\n",
    "    [0.5, 0.4, 0.5, -0.1, 0.7],\n",
    "])\n",
    "sim"
   ]
  },
  {
   "cell_type": "code",
   "execution_count": 108,
   "metadata": {},
   "outputs": [
    {
     "data": {
      "text/plain": [
       "tensor([[ 0.1000,  1.0000,  0.5000],\n",
       "        [ 0.2000,  0.9000,  0.4000],\n",
       "        [ 0.5000,  0.4000,  0.5000],\n",
       "        [ 0.4000,  0.5000, -0.1000],\n",
       "        [-0.1000,  0.6000,  0.7000]])"
      ]
     },
     "execution_count": 108,
     "metadata": {},
     "output_type": "execute_result"
    }
   ],
   "source": [
    "sim.t()"
   ]
  },
  {
   "cell_type": "code",
   "execution_count": 106,
   "metadata": {},
   "outputs": [],
   "source": [
    "def _get_all_match(similarity_scores:torch.Tensor,\n",
    "                   m_bank_targets:torch.Tensor,\n",
    "                   q_targets:torch.Tensor,\n",
    "                   k:int):\n",
    "    \n",
    "    _, indices = similarity_scores.topk(k, dim=-1)\n",
    "    return (m_bank_targets[indices]==q_targets.unsqueeze(1)).all(dim=-1).sum().div(len(q_targets))\n",
    "\n",
    "\n",
    "def unimodal_zero_shot_retrieval(similarity_scores, memory_bank_targets, query_targets) -> None:\n",
    "    results = {}\n",
    "    similarity_scores_t = similarity_scores.t()\n",
    "    train_test_top1 = _get_all_match(similarity_scores, memory_bank_targets, query_targets, k=1)\n",
    "    test_train_top1 = _get_all_match(similarity_scores_t, query_targets, memory_bank_targets, k=1)\n",
    "\n",
    "    results[f\"unimodal-retrieval--zeroshot-train-test-top1\"] = train_test_top1.item()\n",
    "    results[f\"unimodal-retrieval--zeroshot-test-train-top1\"] = test_train_top1.item()\n",
    "\n",
    "    try:\n",
    "        test_train_top5 = _get_all_match(similarity_scores_t, query_targets, memory_bank_targets, k=3)\n",
    "        train_test_top5 = _get_all_match(similarity_scores, memory_bank_targets, query_targets, k=3)\n",
    "\n",
    "        results[f\"unimodal-retrieval--zeroshot-train-test-top5\"] = train_test_top5.item()\n",
    "        results[f\"unimodal-retrieval--zeroshot-test-train-top5\"] = test_train_top5.item()\n",
    "    except:\n",
    "        pass # if data has less than 5 classes, top5-accuracy will throw an error\n",
    "    return results"
   ]
  },
  {
   "cell_type": "code",
   "execution_count": 107,
   "metadata": {},
   "outputs": [
    {
     "data": {
      "text/plain": [
       "{'unimodal-retrieval--zeroshot-train-test-top1': 0.3333333432674408,\n",
       " 'unimodal-retrieval--zeroshot-test-train-top1': 0.6000000238418579,\n",
       " 'unimodal-retrieval--zeroshot-train-test-top5': 0.0,\n",
       " 'unimodal-retrieval--zeroshot-test-train-top5': 0.0}"
      ]
     },
     "execution_count": 107,
     "metadata": {},
     "output_type": "execute_result"
    }
   ],
   "source": [
    "unimodal_zero_shot_retrieval(sim, target_mem, target_q)"
   ]
  },
  {
   "cell_type": "code",
   "execution_count": 90,
   "metadata": {},
   "outputs": [
    {
     "data": {
      "text/plain": [
       "tensor([[2],\n",
       "        [0],\n",
       "        [4]])"
      ]
     },
     "execution_count": 90,
     "metadata": {},
     "output_type": "execute_result"
    }
   ],
   "source": [
    "_, indices_top1 = sim.topk(1, dim=-1)\n",
    "indices_top1 = indices_top1\n",
    "indices_top1"
   ]
  },
  {
   "cell_type": "code",
   "execution_count": 99,
   "metadata": {},
   "outputs": [
    {
     "data": {
      "text/plain": [
       "tensor([1., 0., 1., 0., 0.])"
      ]
     },
     "execution_count": 99,
     "metadata": {},
     "output_type": "execute_result"
    }
   ],
   "source": [
    "target_mem"
   ]
  },
  {
   "cell_type": "code",
   "execution_count": 91,
   "metadata": {},
   "outputs": [
    {
     "data": {
      "text/plain": [
       "tensor([[1.],\n",
       "        [1.],\n",
       "        [0.]])"
      ]
     },
     "execution_count": 91,
     "metadata": {},
     "output_type": "execute_result"
    }
   ],
   "source": [
    "target_mem[indices_top1]"
   ]
  },
  {
   "cell_type": "code",
   "execution_count": 92,
   "metadata": {},
   "outputs": [
    {
     "data": {
      "text/plain": [
       "tensor([[1.],\n",
       "        [0.],\n",
       "        [1.]])"
      ]
     },
     "execution_count": 92,
     "metadata": {},
     "output_type": "execute_result"
    }
   ],
   "source": [
    "target_q.unsqueeze(1)"
   ]
  },
  {
   "cell_type": "code",
   "execution_count": 95,
   "metadata": {},
   "outputs": [
    {
     "data": {
      "text/plain": [
       "tensor([[ True],\n",
       "        [False],\n",
       "        [False]])"
      ]
     },
     "execution_count": 95,
     "metadata": {},
     "output_type": "execute_result"
    }
   ],
   "source": [
    "target_mem[indices_top1]==target_q.unsqueeze(1)"
   ]
  },
  {
   "cell_type": "code",
   "execution_count": 96,
   "metadata": {},
   "outputs": [
    {
     "data": {
      "text/plain": [
       "tensor(0.3333)"
      ]
     },
     "execution_count": 96,
     "metadata": {},
     "output_type": "execute_result"
    }
   ],
   "source": [
    "(target_mem[indices_top1]==target_q.unsqueeze(1)).all(dim=-1).sum().div(len(target_q))"
   ]
  },
  {
   "cell_type": "code",
   "execution_count": 71,
   "metadata": {},
   "outputs": [
    {
     "data": {
      "text/plain": [
       "tensor([[2, 3, 1],\n",
       "        [0, 1, 4],\n",
       "        [4, 2, 0]])"
      ]
     },
     "execution_count": 71,
     "metadata": {},
     "output_type": "execute_result"
    }
   ],
   "source": [
    "_, indices = sim.topk(3, dim=-1)\n",
    "indices"
   ]
  },
  {
   "cell_type": "code",
   "execution_count": 74,
   "metadata": {},
   "outputs": [
    {
     "data": {
      "text/plain": [
       "tensor([1., 0., 1.])"
      ]
     },
     "execution_count": 74,
     "metadata": {},
     "output_type": "execute_result"
    }
   ],
   "source": [
    "target_q"
   ]
  },
  {
   "cell_type": "code",
   "execution_count": 75,
   "metadata": {},
   "outputs": [
    {
     "data": {
      "text/plain": [
       "tensor([[1., 0., 0.],\n",
       "        [1., 0., 0.],\n",
       "        [0., 1., 1.]])"
      ]
     },
     "execution_count": 75,
     "metadata": {},
     "output_type": "execute_result"
    }
   ],
   "source": [
    "target_mem[indices]"
   ]
  },
  {
   "cell_type": "code",
   "execution_count": 97,
   "metadata": {},
   "outputs": [
    {
     "data": {
      "text/plain": [
       "tensor(0.)"
      ]
     },
     "execution_count": 97,
     "metadata": {},
     "output_type": "execute_result"
    }
   ],
   "source": [
    "_, indices = sim.topk(3, dim=-1)\n",
    "(target_mem[indices]==target_q.unsqueeze(1)).all(dim=-1).sum().div(len(target_q))"
   ]
  }
 ],
 "metadata": {
  "kernelspec": {
   "display_name": "mmrl",
   "language": "python",
   "name": "python3"
  },
  "language_info": {
   "codemirror_mode": {
    "name": "ipython",
    "version": 3
   },
   "file_extension": ".py",
   "mimetype": "text/x-python",
   "name": "python",
   "nbconvert_exporter": "python",
   "pygments_lexer": "ipython3",
   "version": "3.11.8"
  }
 },
 "nbformat": 4,
 "nbformat_minor": 2
}
