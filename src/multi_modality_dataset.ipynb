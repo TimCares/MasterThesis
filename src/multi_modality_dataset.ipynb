{
 "cells": [
  {
   "cell_type": "code",
   "execution_count": 1,
   "metadata": {},
   "outputs": [
    {
     "name": "stderr",
     "output_type": "stream",
     "text": [
      "/Users/timcares/miniforge3/envs/mmrl/lib/python3.9/site-packages/tqdm/auto.py:21: TqdmWarning: IProgress not found. Please update jupyter and ipywidgets. See https://ipywidgets.readthedocs.io/en/stable/user_install.html\n",
      "  from .autonotebook import tqdm as notebook_tqdm\n"
     ]
    }
   ],
   "source": [
    "from multi_data_loader import MultiDataLoader\n",
    "from unimodal import NLPDataset, AudioDataset\n",
    "from fairseq.tasks.audio_pretraining import AudioMaskingConfig\n",
    "from dataclasses import asdict"
   ]
  },
  {
   "cell_type": "code",
   "execution_count": 2,
   "metadata": {},
   "outputs": [
    {
     "name": "stdout",
     "output_type": "stream",
     "text": [
      "loaded 284440 blocks from: ../data/language/enwik9/train\n"
     ]
    }
   ],
   "source": [
    "data_path = '../data/language/enwik9'\n",
    "ds_text = NLPDataset(data_path=data_path, num_max_bpe_tokens=512)"
   ]
  },
  {
   "cell_type": "code",
   "execution_count": 3,
   "metadata": {},
   "outputs": [],
   "source": [
    "am_cfg =  AudioMaskingConfig(\n",
    "    feature_encoder_spec='[(512, 10, 5)] + [(512, 3, 2)] * 4 + [(512,2,2)] + [(512,2,2)]',\n",
    "    mask_prob=0.5,\n",
    "    mask_prob_adjust=0.05,\n",
    "    mask_length=5,\n",
    "    inverse_mask=False,\n",
    "    mask_dropout=0,\n",
    "    clone_batch=2,\n",
    ")"
   ]
  },
  {
   "cell_type": "code",
   "execution_count": 4,
   "metadata": {},
   "outputs": [],
   "source": [
    "audio_path = '../data/LibriSpeech'"
   ]
  },
  {
   "cell_type": "code",
   "execution_count": 5,
   "metadata": {},
   "outputs": [],
   "source": [
    "audio_dataset = AudioDataset(data_path=audio_path, sample_rate=16000, max_sample_size=320000, min_sample_size=32000, precompute_mask_config=asdict(am_cfg))"
   ]
  },
  {
   "cell_type": "code",
   "execution_count": 6,
   "metadata": {},
   "outputs": [],
   "source": [
    "loader_args = {\n",
    "    \"batch_size\":8,\n",
    "    \"shuffle\":True,\n",
    "    \"num_workers\":1\n",
    "}"
   ]
  },
  {
   "cell_type": "code",
   "execution_count": 7,
   "metadata": {},
   "outputs": [],
   "source": [
    "loader = MultiDataLoader(loaders={\n",
    "    'text': ds_text.get_dataloader(**loader_args),\n",
    "    'audio': audio_dataset.get_dataloader(**loader_args)\n",
    "})"
   ]
  },
  {
   "cell_type": "code",
   "execution_count": 8,
   "metadata": {},
   "outputs": [],
   "source": [
    "loader_iter = iter(loader)"
   ]
  },
  {
   "cell_type": "code",
   "execution_count": 26,
   "metadata": {},
   "outputs": [
    {
     "data": {
      "text/plain": [
       "{'batch': OrderedDict([('net_input',\n",
       "               OrderedDict([('source',\n",
       "                             tensor([[    0,  2232,  5353,  ...,    45,  3059,     2],\n",
       "                                     [    0,     5, 10409,  ...,   811,  7368,     2],\n",
       "                                     [    0,   237, 16874,  ...,  5029,  9902,     2],\n",
       "                                     ...,\n",
       "                                     [    0,   707, 18947,  ...,    80,  4276,     2],\n",
       "                                     [    0,   449,    10,  ...,    25, 11722,     2],\n",
       "                                     [    0,    64,  8654,  ...,   295, 26832,     2]])),\n",
       "                            ('padding_mask',\n",
       "                             tensor([[False, False, False,  ..., False, False, False],\n",
       "                                     [False, False, False,  ..., False, False, False],\n",
       "                                     [False, False, False,  ..., False, False, False],\n",
       "                                     ...,\n",
       "                                     [False, False, False,  ..., False, False, False],\n",
       "                                     [False, False, False,  ..., False, False, False],\n",
       "                                     [False, False, False,  ..., False, False, False]]))]))]),\n",
       " 'datamodule_name': 'text'}"
      ]
     },
     "execution_count": 26,
     "metadata": {},
     "output_type": "execute_result"
    }
   ],
   "source": [
    "next(loader_iter)"
   ]
  },
  {
   "cell_type": "code",
   "execution_count": null,
   "metadata": {},
   "outputs": [],
   "source": []
  }
 ],
 "metadata": {
  "kernelspec": {
   "display_name": "mmrl",
   "language": "python",
   "name": "python3"
  },
  "language_info": {
   "codemirror_mode": {
    "name": "ipython",
    "version": 3
   },
   "file_extension": ".py",
   "mimetype": "text/x-python",
   "name": "python",
   "nbconvert_exporter": "python",
   "pygments_lexer": "ipython3",
   "version": "3.9.18"
  }
 },
 "nbformat": 4,
 "nbformat_minor": 2
}
