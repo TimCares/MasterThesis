{
 "cells": [
  {
   "cell_type": "code",
   "execution_count": 1,
   "metadata": {},
   "outputs": [
    {
     "name": "stderr",
     "output_type": "stream",
     "text": [
      "/Users/timcares/miniforge3/envs/mmrl/lib/python3.9/site-packages/tqdm/auto.py:21: TqdmWarning: IProgress not found. Please update jupyter and ipywidgets. See https://ipywidgets.readthedocs.io/en/stable/user_install.html\n",
      "  from .autonotebook import tqdm as notebook_tqdm\n"
     ]
    }
   ],
   "source": [
    "import sys\n",
    "sys.path.append('..')\n",
    "import torch\n",
    "import math\n",
    "from data.unimodal import get_raw_librispeech_dataset\n",
    "from models.wave2vec import FeatureEncoder"
   ]
  },
  {
   "cell_type": "code",
   "execution_count": 2,
   "metadata": {},
   "outputs": [],
   "source": [
    "fe = FeatureEncoder()"
   ]
  },
  {
   "cell_type": "code",
   "execution_count": 3,
   "metadata": {},
   "outputs": [],
   "source": [
    "dataset = get_raw_librispeech_dataset()"
   ]
  },
  {
   "cell_type": "code",
   "execution_count": 4,
   "metadata": {},
   "outputs": [],
   "source": [
    "dataset_iter = iter(dataset)"
   ]
  },
  {
   "cell_type": "code",
   "execution_count": 5,
   "metadata": {},
   "outputs": [],
   "source": [
    "batch = next(dataset_iter)"
   ]
  },
  {
   "cell_type": "code",
   "execution_count": 6,
   "metadata": {},
   "outputs": [
    {
     "data": {
      "text/plain": [
       "torch.Size([32, 1, 262960])"
      ]
     },
     "execution_count": 6,
     "metadata": {},
     "output_type": "execute_result"
    }
   ],
   "source": [
    "batch.shape"
   ]
  },
  {
   "cell_type": "code",
   "execution_count": 11,
   "metadata": {},
   "outputs": [
    {
     "data": {
      "text/plain": [
       "16.435"
      ]
     },
     "execution_count": 11,
     "metadata": {},
     "output_type": "execute_result"
    }
   ],
   "source": [
    "262960/16_000"
   ]
  },
  {
   "cell_type": "code",
   "execution_count": 15,
   "metadata": {},
   "outputs": [
    {
     "data": {
      "text/plain": [
       "262960.0"
      ]
     },
     "execution_count": 15,
     "metadata": {},
     "output_type": "execute_result"
    }
   ],
   "source": [
    "16.435*16_000"
   ]
  },
  {
   "cell_type": "code",
   "execution_count": 7,
   "metadata": {},
   "outputs": [],
   "source": [
    "output = fe(batch)"
   ]
  },
  {
   "cell_type": "code",
   "execution_count": 8,
   "metadata": {},
   "outputs": [
    {
     "data": {
      "text/plain": [
       "tensor([[[ 0.4390,  0.5888,  0.7132,  ...,  0.5161,  0.5161,  0.5959],\n",
       "         [ 0.4415, -0.1576, -0.1493,  ..., -0.1540, -0.1540, -0.1403],\n",
       "         [ 1.4445, -0.0831, -0.1070,  ..., -0.0906, -0.0906,  0.2645],\n",
       "         ...,\n",
       "         [-0.0323, -0.1113, -0.0925,  ..., -0.1045, -0.1045,  1.1104],\n",
       "         [-0.0986, -0.1673, -0.1688,  ..., -0.1657, -0.1657, -0.1642],\n",
       "         [-0.1384,  0.0750,  0.0372,  ...,  0.0769,  0.0769, -0.1641]],\n",
       "\n",
       "        [[ 0.7689,  1.1509,  1.3785,  ...,  0.5161,  0.5161,  0.5959],\n",
       "         [ 0.2810, -0.1683, -0.1240,  ..., -0.1540, -0.1540, -0.1403],\n",
       "         [ 1.1951,  0.0137, -0.1194,  ..., -0.0906, -0.0906,  0.2645],\n",
       "         ...,\n",
       "         [-0.1547, -0.1568, -0.1698,  ..., -0.1045, -0.1045,  1.1104],\n",
       "         [-0.1675, -0.1584, -0.1660,  ..., -0.1657, -0.1657, -0.1642],\n",
       "         [ 0.1596,  0.4024,  0.2400,  ...,  0.0769,  0.0769, -0.1641]],\n",
       "\n",
       "        [[ 0.5520,  0.5574,  0.6178,  ...,  0.5161,  0.5161,  0.5959],\n",
       "         [ 0.4189, -0.1533, -0.1604,  ..., -0.1540, -0.1540, -0.1403],\n",
       "         [ 1.1900, -0.1024, -0.0775,  ..., -0.0906, -0.0906,  0.2645],\n",
       "         ...,\n",
       "         [-0.0331, -0.1006, -0.0979,  ..., -0.1045, -0.1045,  1.1104],\n",
       "         [-0.0192, -0.1696, -0.1672,  ..., -0.1657, -0.1657, -0.1642],\n",
       "         [-0.1332,  0.0097,  0.0639,  ...,  0.0769,  0.0769, -0.1641]],\n",
       "\n",
       "        ...,\n",
       "\n",
       "        [[ 0.7446,  0.6373,  0.4634,  ...,  0.5161,  0.5161,  0.5959],\n",
       "         [ 0.2612, -0.1682, -0.1625,  ..., -0.1540, -0.1540, -0.1403],\n",
       "         [ 1.6590,  0.0572, -0.0963,  ..., -0.0906, -0.0906,  0.2645],\n",
       "         ...,\n",
       "         [-0.0279,  0.1870, -0.1255,  ..., -0.1045, -0.1045,  1.1104],\n",
       "         [-0.1249, -0.1641, -0.1691,  ..., -0.1657, -0.1657, -0.1642],\n",
       "         [-0.0659,  0.2065, -0.1145,  ...,  0.0769,  0.0769, -0.1641]],\n",
       "\n",
       "        [[ 0.7941,  0.9141,  0.7125,  ...,  0.5161,  0.5161,  0.5959],\n",
       "         [ 0.1738, -0.1691, -0.1590,  ..., -0.1540, -0.1540, -0.1403],\n",
       "         [ 0.9974, -0.0138, -0.0836,  ..., -0.0906, -0.0906,  0.2645],\n",
       "         ...,\n",
       "         [-0.0320, -0.1279, -0.0973,  ..., -0.1045, -0.1045,  1.1104],\n",
       "         [ 0.1068, -0.1510, -0.1586,  ..., -0.1657, -0.1657, -0.1642],\n",
       "         [-0.0403, -0.0935, -0.0524,  ...,  0.0769,  0.0769, -0.1641]],\n",
       "\n",
       "        [[ 0.4152,  0.6133,  0.5226,  ...,  0.5161,  0.5161,  0.5959],\n",
       "         [ 0.4478, -0.1559, -0.1487,  ..., -0.1540, -0.1540, -0.1403],\n",
       "         [ 1.3812, -0.1019, -0.0675,  ..., -0.0906, -0.0906,  0.2645],\n",
       "         ...,\n",
       "         [-0.0343, -0.0832, -0.0982,  ..., -0.1045, -0.1045,  1.1104],\n",
       "         [-0.0759, -0.1645, -0.1655,  ..., -0.1657, -0.1657, -0.1642],\n",
       "         [-0.1208,  0.1092,  0.0473,  ...,  0.0769,  0.0769, -0.1641]]],\n",
       "       grad_fn=<GeluBackward0>)"
      ]
     },
     "execution_count": 8,
     "metadata": {},
     "output_type": "execute_result"
    }
   ],
   "source": [
    "output"
   ]
  },
  {
   "cell_type": "code",
   "execution_count": 9,
   "metadata": {},
   "outputs": [
    {
     "data": {
      "text/plain": [
       "torch.Size([32, 512, 823])"
      ]
     },
     "execution_count": 9,
     "metadata": {},
     "output_type": "execute_result"
    }
   ],
   "source": [
    "output.shape"
   ]
  },
  {
   "cell_type": "code",
   "execution_count": 16,
   "metadata": {},
   "outputs": [
    {
     "data": {
      "text/plain": [
       "50.076057195010655"
      ]
     },
     "execution_count": 16,
     "metadata": {},
     "output_type": "execute_result"
    }
   ],
   "source": [
    "823/16.435"
   ]
  },
  {
   "cell_type": "code",
   "execution_count": 10,
   "metadata": {},
   "outputs": [
    {
     "data": {
      "text/plain": [
       "torch.Size([32, 823, 512])"
      ]
     },
     "execution_count": 10,
     "metadata": {},
     "output_type": "execute_result"
    }
   ],
   "source": [
    "output.transpose(1, 2).shape # (batch, channels, time) -> (batch, time, channels) for transformer"
   ]
  }
 ],
 "metadata": {
  "kernelspec": {
   "display_name": "mmrl",
   "language": "python",
   "name": "python3"
  },
  "language_info": {
   "codemirror_mode": {
    "name": "ipython",
    "version": 3
   },
   "file_extension": ".py",
   "mimetype": "text/x-python",
   "name": "python",
   "nbconvert_exporter": "python",
   "pygments_lexer": "ipython3",
   "version": "3.9.18"
  }
 },
 "nbformat": 4,
 "nbformat_minor": 2
}
