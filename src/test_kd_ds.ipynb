{
 "cells": [
  {
   "cell_type": "code",
   "execution_count": 1,
   "metadata": {},
   "outputs": [
    {
     "name": "stderr",
     "output_type": "stream",
     "text": [
      "/Users/timcares/miniconda3/envs/mmrl/lib/python3.11/site-packages/tqdm/auto.py:21: TqdmWarning: IProgress not found. Please update jupyter and ipywidgets. See https://ipywidgets.readthedocs.io/en/stable/user_install.html\n",
      "  from .autonotebook import tqdm as notebook_tqdm\n",
      "DEBUG:torio._extension.utils:Loading FFmpeg6\n",
      "DEBUG:torio._extension.utils:Failed to load FFmpeg6 extension.\n",
      "Traceback (most recent call last):\n",
      "  File \"/Users/timcares/miniconda3/envs/mmrl/lib/python3.11/site-packages/torio/_extension/utils.py\", line 116, in _find_ffmpeg_extension\n",
      "    ext = _find_versionsed_ffmpeg_extension(ffmpeg_ver)\n",
      "          ^^^^^^^^^^^^^^^^^^^^^^^^^^^^^^^^^^^^^^^^^^^^^\n",
      "  File \"/Users/timcares/miniconda3/envs/mmrl/lib/python3.11/site-packages/torio/_extension/utils.py\", line 108, in _find_versionsed_ffmpeg_extension\n",
      "    _load_lib(lib)\n",
      "  File \"/Users/timcares/miniconda3/envs/mmrl/lib/python3.11/site-packages/torio/_extension/utils.py\", line 94, in _load_lib\n",
      "    torch.ops.load_library(path)\n",
      "  File \"/Users/timcares/miniconda3/envs/mmrl/lib/python3.11/site-packages/torch/_ops.py\", line 933, in load_library\n",
      "    ctypes.CDLL(path)\n",
      "  File \"/Users/timcares/miniconda3/envs/mmrl/lib/python3.11/ctypes/__init__.py\", line 376, in __init__\n",
      "    self._handle = _dlopen(self._name, mode)\n",
      "                   ^^^^^^^^^^^^^^^^^^^^^^^^^\n",
      "OSError: dlopen(/Users/timcares/miniconda3/envs/mmrl/lib/python3.11/site-packages/torio/lib/libtorio_ffmpeg6.so, 0x0006): Library not loaded: @rpath/libavutil.58.dylib\n",
      "  Referenced from: <8354F308-2D0D-3C05-9D4E-3D4C3327D784> /Users/timcares/miniconda3/envs/mmrl/lib/python3.11/site-packages/torio/lib/libtorio_ffmpeg6.so\n",
      "  Reason: tried: '/Users/timcares/miniconda3/envs/mmrl/lib/python3.11/site-packages/torio/lib/../../../../libavutil.58.dylib' (no such file), '/Users/timcares/miniconda3/envs/mmrl/lib/python3.11/site-packages/torio/lib/../../../../libavutil.58.dylib' (no such file), '/Users/timcares/miniconda3/envs/mmrl/lib/python3.11/lib-dynload/../../libavutil.58.dylib' (no such file), '/Users/timcares/miniconda3/envs/mmrl/bin/../lib/libavutil.58.dylib' (no such file), '/usr/local/lib/libavutil.58.dylib' (no such file), '/usr/lib/libavutil.58.dylib' (no such file, not in dyld cache)\n",
      "DEBUG:torio._extension.utils:Loading FFmpeg5\n",
      "DEBUG:torio._extension.utils:Failed to load FFmpeg5 extension.\n",
      "Traceback (most recent call last):\n",
      "  File \"/Users/timcares/miniconda3/envs/mmrl/lib/python3.11/site-packages/torio/_extension/utils.py\", line 116, in _find_ffmpeg_extension\n",
      "    ext = _find_versionsed_ffmpeg_extension(ffmpeg_ver)\n",
      "          ^^^^^^^^^^^^^^^^^^^^^^^^^^^^^^^^^^^^^^^^^^^^^\n",
      "  File \"/Users/timcares/miniconda3/envs/mmrl/lib/python3.11/site-packages/torio/_extension/utils.py\", line 108, in _find_versionsed_ffmpeg_extension\n",
      "    _load_lib(lib)\n",
      "  File \"/Users/timcares/miniconda3/envs/mmrl/lib/python3.11/site-packages/torio/_extension/utils.py\", line 94, in _load_lib\n",
      "    torch.ops.load_library(path)\n",
      "  File \"/Users/timcares/miniconda3/envs/mmrl/lib/python3.11/site-packages/torch/_ops.py\", line 933, in load_library\n",
      "    ctypes.CDLL(path)\n",
      "  File \"/Users/timcares/miniconda3/envs/mmrl/lib/python3.11/ctypes/__init__.py\", line 376, in __init__\n",
      "    self._handle = _dlopen(self._name, mode)\n",
      "                   ^^^^^^^^^^^^^^^^^^^^^^^^^\n",
      "OSError: dlopen(/Users/timcares/miniconda3/envs/mmrl/lib/python3.11/site-packages/torio/lib/libtorio_ffmpeg5.so, 0x0006): Library not loaded: @rpath/libavutil.57.dylib\n",
      "  Referenced from: <20585EA1-54CF-3A7A-911E-10CCE25B31B1> /Users/timcares/miniconda3/envs/mmrl/lib/python3.11/site-packages/torio/lib/libtorio_ffmpeg5.so\n",
      "  Reason: tried: '/Users/timcares/miniconda3/envs/mmrl/lib/python3.11/site-packages/torio/lib/../../../../libavutil.57.dylib' (no such file), '/Users/timcares/miniconda3/envs/mmrl/lib/python3.11/site-packages/torio/lib/../../../../libavutil.57.dylib' (no such file), '/Users/timcares/miniconda3/envs/mmrl/lib/python3.11/lib-dynload/../../libavutil.57.dylib' (no such file), '/Users/timcares/miniconda3/envs/mmrl/bin/../lib/libavutil.57.dylib' (no such file), '/usr/local/lib/libavutil.57.dylib' (no such file), '/usr/lib/libavutil.57.dylib' (no such file, not in dyld cache)\n",
      "DEBUG:torio._extension.utils:Loading FFmpeg4\n",
      "DEBUG:torio._extension.utils:Failed to load FFmpeg4 extension.\n",
      "Traceback (most recent call last):\n",
      "  File \"/Users/timcares/miniconda3/envs/mmrl/lib/python3.11/site-packages/torio/_extension/utils.py\", line 116, in _find_ffmpeg_extension\n",
      "    ext = _find_versionsed_ffmpeg_extension(ffmpeg_ver)\n",
      "          ^^^^^^^^^^^^^^^^^^^^^^^^^^^^^^^^^^^^^^^^^^^^^\n",
      "  File \"/Users/timcares/miniconda3/envs/mmrl/lib/python3.11/site-packages/torio/_extension/utils.py\", line 108, in _find_versionsed_ffmpeg_extension\n",
      "    _load_lib(lib)\n",
      "  File \"/Users/timcares/miniconda3/envs/mmrl/lib/python3.11/site-packages/torio/_extension/utils.py\", line 94, in _load_lib\n",
      "    torch.ops.load_library(path)\n",
      "  File \"/Users/timcares/miniconda3/envs/mmrl/lib/python3.11/site-packages/torch/_ops.py\", line 933, in load_library\n",
      "    ctypes.CDLL(path)\n",
      "  File \"/Users/timcares/miniconda3/envs/mmrl/lib/python3.11/ctypes/__init__.py\", line 376, in __init__\n",
      "    self._handle = _dlopen(self._name, mode)\n",
      "                   ^^^^^^^^^^^^^^^^^^^^^^^^^\n",
      "OSError: dlopen(/Users/timcares/miniconda3/envs/mmrl/lib/python3.11/site-packages/torio/lib/libtorio_ffmpeg4.so, 0x0006): Library not loaded: @rpath/libavutil.56.dylib\n",
      "  Referenced from: <3B5A8336-9CE3-36F7-9A02-C2D6D54842BB> /Users/timcares/miniconda3/envs/mmrl/lib/python3.11/site-packages/torio/lib/libtorio_ffmpeg4.so\n",
      "  Reason: tried: '/Users/timcares/miniconda3/envs/mmrl/lib/python3.11/site-packages/torio/lib/../../../../libavutil.56.dylib' (no such file), '/Users/timcares/miniconda3/envs/mmrl/lib/python3.11/site-packages/torio/lib/../../../../libavutil.56.dylib' (no such file), '/Users/timcares/miniconda3/envs/mmrl/lib/python3.11/lib-dynload/../../libavutil.56.dylib' (no such file), '/Users/timcares/miniconda3/envs/mmrl/bin/../lib/libavutil.56.dylib' (no such file), '/usr/local/lib/libavutil.56.dylib' (no such file), '/usr/lib/libavutil.56.dylib' (no such file, not in dyld cache)\n",
      "DEBUG:torio._extension.utils:Loading FFmpeg\n",
      "DEBUG:torio._extension.utils:Failed to load FFmpeg extension.\n",
      "Traceback (most recent call last):\n",
      "  File \"/Users/timcares/miniconda3/envs/mmrl/lib/python3.11/site-packages/torio/_extension/utils.py\", line 116, in _find_ffmpeg_extension\n",
      "    ext = _find_versionsed_ffmpeg_extension(ffmpeg_ver)\n",
      "          ^^^^^^^^^^^^^^^^^^^^^^^^^^^^^^^^^^^^^^^^^^^^^\n",
      "  File \"/Users/timcares/miniconda3/envs/mmrl/lib/python3.11/site-packages/torio/_extension/utils.py\", line 106, in _find_versionsed_ffmpeg_extension\n",
      "    raise RuntimeError(f\"FFmpeg{version} extension is not available.\")\n",
      "RuntimeError: FFmpeg extension is not available.\n"
     ]
    }
   ],
   "source": [
    "from datamodules import KDDataModule, DummyDataModule"
   ]
  },
  {
   "cell_type": "code",
   "execution_count": 2,
   "metadata": {},
   "outputs": [],
   "source": [
    "dm = DummyDataModule()"
   ]
  },
  {
   "cell_type": "code",
   "execution_count": 3,
   "metadata": {},
   "outputs": [],
   "source": [
    "dm.prepare_data()"
   ]
  },
  {
   "cell_type": "code",
   "execution_count": 4,
   "metadata": {},
   "outputs": [],
   "source": [
    "dm.setup('fit')\n",
    "dm.setup('test')"
   ]
  },
  {
   "cell_type": "code",
   "execution_count": 5,
   "metadata": {},
   "outputs": [],
   "source": [
    "dl = dm.train_dataloader()"
   ]
  },
  {
   "cell_type": "code",
   "execution_count": 6,
   "metadata": {},
   "outputs": [
    {
     "name": "stderr",
     "output_type": "stream",
     "text": [
      "DEBUG:torio._extension.utils:Loading FFmpeg6\n",
      "DEBUG:torio._extension.utils:Failed to load FFmpeg6 extension.\n",
      "Traceback (most recent call last):\n",
      "  File \"/Users/timcares/miniconda3/envs/mmrl/lib/python3.11/site-packages/torio/_extension/utils.py\", line 116, in _find_ffmpeg_extension\n",
      "    ext = _find_versionsed_ffmpeg_extension(ffmpeg_ver)\n",
      "          ^^^^^^^^^^^^^^^^^^^^^^^^^^^^^^^^^^^^^^^^^^^^^\n",
      "  File \"/Users/timcares/miniconda3/envs/mmrl/lib/python3.11/site-packages/torio/_extension/utils.py\", line 108, in _find_versionsed_ffmpeg_extension\n",
      "    _load_lib(lib)\n",
      "  File \"/Users/timcares/miniconda3/envs/mmrl/lib/python3.11/site-packages/torio/_extension/utils.py\", line 94, in _load_lib\n",
      "    torch.ops.load_library(path)\n",
      "  File \"/Users/timcares/miniconda3/envs/mmrl/lib/python3.11/site-packages/torch/_ops.py\", line 933, in load_library\n",
      "    ctypes.CDLL(path)\n",
      "  File \"/Users/timcares/miniconda3/envs/mmrl/lib/python3.11/ctypes/__init__.py\", line 376, in __init__\n",
      "    self._handle = _dlopen(self._name, mode)\n",
      "                   ^^^^^^^^^^^^^^^^^^^^^^^^^\n",
      "OSError: dlopen(/Users/timcares/miniconda3/envs/mmrl/lib/python3.11/site-packages/torio/lib/libtorio_ffmpeg6.so, 0x0006): Library not loaded: @rpath/libavutil.58.dylib\n",
      "  Referenced from: <8354F308-2D0D-3C05-9D4E-3D4C3327D784> /Users/timcares/miniconda3/envs/mmrl/lib/python3.11/site-packages/torio/lib/libtorio_ffmpeg6.so\n",
      "  Reason: tried: '/Users/timcares/miniconda3/envs/mmrl/lib/python3.11/site-packages/torio/lib/../../../../libavutil.58.dylib' (no such file), '/Users/timcares/miniconda3/envs/mmrl/lib/python3.11/site-packages/torio/lib/../../../../libavutil.58.dylib' (no such file), '/Users/timcares/miniconda3/envs/mmrl/lib/python3.11/lib-dynload/../../libavutil.58.dylib' (no such file), '/Users/timcares/miniconda3/envs/mmrl/bin/../lib/libavutil.58.dylib' (no such file), '/usr/local/lib/libavutil.58.dylib' (no such file), '/usr/lib/libavutil.58.dylib' (no such file, not in dyld cache)\n",
      "DEBUG:torio._extension.utils:Loading FFmpeg5\n",
      "DEBUG:torio._extension.utils:Failed to load FFmpeg5 extension.\n",
      "Traceback (most recent call last):\n",
      "  File \"/Users/timcares/miniconda3/envs/mmrl/lib/python3.11/site-packages/torio/_extension/utils.py\", line 116, in _find_ffmpeg_extension\n",
      "    ext = _find_versionsed_ffmpeg_extension(ffmpeg_ver)\n",
      "          ^^^^^^^^^^^^^^^^^^^^^^^^^^^^^^^^^^^^^^^^^^^^^\n",
      "  File \"/Users/timcares/miniconda3/envs/mmrl/lib/python3.11/site-packages/torio/_extension/utils.py\", line 108, in _find_versionsed_ffmpeg_extension\n",
      "    _load_lib(lib)\n",
      "  File \"/Users/timcares/miniconda3/envs/mmrl/lib/python3.11/site-packages/torio/_extension/utils.py\", line 94, in _load_lib\n",
      "    torch.ops.load_library(path)\n",
      "  File \"/Users/timcares/miniconda3/envs/mmrl/lib/python3.11/site-packages/torch/_ops.py\", line 933, in load_library\n",
      "    ctypes.CDLL(path)\n",
      "  File \"/Users/timcares/miniconda3/envs/mmrl/lib/python3.11/ctypes/__init__.py\", line 376, in __init__\n",
      "    self._handle = _dlopen(self._name, mode)\n",
      "                   ^^^^^^^^^^^^^^^^^^^^^^^^^\n",
      "OSError: dlopen(/Users/timcares/miniconda3/envs/mmrl/lib/python3.11/site-packages/torio/lib/libtorio_ffmpeg5.so, 0x0006): Library not loaded: @rpath/libavutil.57.dylib\n",
      "  Referenced from: <20585EA1-54CF-3A7A-911E-10CCE25B31B1> /Users/timcares/miniconda3/envs/mmrl/lib/python3.11/site-packages/torio/lib/libtorio_ffmpeg5.so\n",
      "  Reason: tried: '/Users/timcares/miniconda3/envs/mmrl/lib/python3.11/site-packages/torio/lib/../../../../libavutil.57.dylib' (no such file), '/Users/timcares/miniconda3/envs/mmrl/lib/python3.11/site-packages/torio/lib/../../../../libavutil.57.dylib' (no such file), '/Users/timcares/miniconda3/envs/mmrl/lib/python3.11/lib-dynload/../../libavutil.57.dylib' (no such file), '/Users/timcares/miniconda3/envs/mmrl/bin/../lib/libavutil.57.dylib' (no such file), '/usr/local/lib/libavutil.57.dylib' (no such file), '/usr/lib/libavutil.57.dylib' (no such file, not in dyld cache)\n",
      "DEBUG:torio._extension.utils:Loading FFmpeg4\n",
      "DEBUG:torio._extension.utils:Failed to load FFmpeg4 extension.\n",
      "Traceback (most recent call last):\n",
      "  File \"/Users/timcares/miniconda3/envs/mmrl/lib/python3.11/site-packages/torio/_extension/utils.py\", line 116, in _find_ffmpeg_extension\n",
      "    ext = _find_versionsed_ffmpeg_extension(ffmpeg_ver)\n",
      "          ^^^^^^^^^^^^^^^^^^^^^^^^^^^^^^^^^^^^^^^^^^^^^\n",
      "  File \"/Users/timcares/miniconda3/envs/mmrl/lib/python3.11/site-packages/torio/_extension/utils.py\", line 108, in _find_versionsed_ffmpeg_extension\n",
      "    _load_lib(lib)\n",
      "  File \"/Users/timcares/miniconda3/envs/mmrl/lib/python3.11/site-packages/torio/_extension/utils.py\", line 94, in _load_lib\n",
      "    torch.ops.load_library(path)\n",
      "  File \"/Users/timcares/miniconda3/envs/mmrl/lib/python3.11/site-packages/torch/_ops.py\", line 933, in load_library\n",
      "    ctypes.CDLL(path)\n",
      "  File \"/Users/timcares/miniconda3/envs/mmrl/lib/python3.11/ctypes/__init__.py\", line 376, in __init__\n",
      "    self._handle = _dlopen(self._name, mode)\n",
      "                   ^^^^^^^^^^^^^^^^^^^^^^^^^\n",
      "OSError: dlopen(/Users/timcares/miniconda3/envs/mmrl/lib/python3.11/site-packages/torio/lib/libtorio_ffmpeg4.so, 0x0006): Library not loaded: @rpath/libavutil.56.dylib\n",
      "  Referenced from: <3B5A8336-9CE3-36F7-9A02-C2D6D54842BB> /Users/timcares/miniconda3/envs/mmrl/lib/python3.11/site-packages/torio/lib/libtorio_ffmpeg4.so\n",
      "  Reason: tried: '/Users/timcares/miniconda3/envs/mmrl/lib/python3.11/site-packages/torio/lib/../../../../libavutil.56.dylib' (no such file), '/Users/timcares/miniconda3/envs/mmrl/lib/python3.11/site-packages/torio/lib/../../../../libavutil.56.dylib' (no such file), '/Users/timcares/miniconda3/envs/mmrl/lib/python3.11/lib-dynload/../../libavutil.56.dylib' (no such file), '/Users/timcares/miniconda3/envs/mmrl/bin/../lib/libavutil.56.dylib' (no such file), '/usr/local/lib/libavutil.56.dylib' (no such file), '/usr/lib/libavutil.56.dylib' (no such file, not in dyld cache)\n",
      "DEBUG:torio._extension.utils:Loading FFmpeg\n",
      "DEBUG:torio._extension.utils:Failed to load FFmpeg extension.\n",
      "Traceback (most recent call last):\n",
      "  File \"/Users/timcares/miniconda3/envs/mmrl/lib/python3.11/site-packages/torio/_extension/utils.py\", line 116, in _find_ffmpeg_extension\n",
      "    ext = _find_versionsed_ffmpeg_extension(ffmpeg_ver)\n",
      "          ^^^^^^^^^^^^^^^^^^^^^^^^^^^^^^^^^^^^^^^^^^^^^\n",
      "  File \"/Users/timcares/miniconda3/envs/mmrl/lib/python3.11/site-packages/torio/_extension/utils.py\", line 106, in _find_versionsed_ffmpeg_extension\n",
      "    raise RuntimeError(f\"FFmpeg{version} extension is not available.\")\n",
      "RuntimeError: FFmpeg extension is not available.\n"
     ]
    }
   ],
   "source": [
    "iter_dl = iter(dl)"
   ]
  },
  {
   "cell_type": "code",
   "execution_count": 11,
   "metadata": {},
   "outputs": [
    {
     "data": {
      "text/plain": [
       "torch.Size([64, 512, 786])"
      ]
     },
     "execution_count": 11,
     "metadata": {},
     "output_type": "execute_result"
    }
   ],
   "source": [
    "next(iter_dl).shape"
   ]
  },
  {
   "cell_type": "code",
   "execution_count": 1,
   "metadata": {},
   "outputs": [],
   "source": [
    "import torch"
   ]
  },
  {
   "cell_type": "code",
   "execution_count": 4,
   "metadata": {},
   "outputs": [],
   "source": [
    "m=torch.load('mask.pt')"
   ]
  },
  {
   "cell_type": "code",
   "execution_count": 6,
   "metadata": {},
   "outputs": [
    {
     "data": {
      "text/plain": [
       "tensor([[False, False, False,  ..., False, False, False],\n",
       "        [False, False,  True,  ..., False, False, False],\n",
       "        [False, False, False,  ..., False, False, False],\n",
       "        [False, False, False,  ..., False, False, False],\n",
       "        [False, False, False,  ..., False, False, False]])"
      ]
     },
     "execution_count": 6,
     "metadata": {},
     "output_type": "execute_result"
    }
   ],
   "source": [
    "m.mask.bool()"
   ]
  },
  {
   "cell_type": "code",
   "execution_count": 43,
   "metadata": {},
   "outputs": [
    {
     "data": {
      "text/plain": [
       "tensor([[False, False, False,  ...,  True,  True,  True],\n",
       "        [False, False, False,  ...,  True,  True,  True],\n",
       "        [False, False, False,  ..., False, False, False],\n",
       "        [False, False, False,  ...,  True,  True,  True],\n",
       "        [False, False, False,  ...,  True,  True,  True]])"
      ]
     },
     "execution_count": 43,
     "metadata": {},
     "output_type": "execute_result"
    }
   ],
   "source": [
    "p=torch.load('padding_mask.pt')\n",
    "p"
   ]
  },
  {
   "cell_type": "code",
   "execution_count": 10,
   "metadata": {},
   "outputs": [
    {
     "data": {
      "text/plain": [
       "tensor([[ True,  True,  True,  ..., False, False, False],\n",
       "        [ True,  True,  True,  ..., False, False, False],\n",
       "        [ True,  True,  True,  ...,  True,  True,  True],\n",
       "        [ True,  True,  True,  ..., False, False, False],\n",
       "        [ True,  True,  True,  ..., False, False, False]])"
      ]
     },
     "execution_count": 10,
     "metadata": {},
     "output_type": "execute_result"
    }
   ],
   "source": [
    "~p.bool()"
   ]
  },
  {
   "cell_type": "code",
   "execution_count": 56,
   "metadata": {},
   "outputs": [
    {
     "data": {
      "text/plain": [
       "True"
      ]
     },
     "execution_count": 56,
     "metadata": {},
     "output_type": "execute_result"
    }
   ],
   "source": [
    "(p[:, 0].sum()==0).item()"
   ]
  },
  {
   "cell_type": "code",
   "execution_count": 50,
   "metadata": {},
   "outputs": [
    {
     "data": {
      "text/plain": [
       "torch.Size([5, 820, 768])"
      ]
     },
     "execution_count": 50,
     "metadata": {},
     "output_type": "execute_result"
    }
   ],
   "source": [
    "y=torch.rand((5, 820, 768))\n",
    "y.shape"
   ]
  },
  {
   "cell_type": "code",
   "execution_count": 23,
   "metadata": {},
   "outputs": [
    {
     "data": {
      "text/plain": [
       "torch.Size([820, 768])"
      ]
     },
     "execution_count": 23,
     "metadata": {},
     "output_type": "execute_result"
    }
   ],
   "source": [
    "y[0].shape"
   ]
  },
  {
   "cell_type": "code",
   "execution_count": 25,
   "metadata": {},
   "outputs": [
    {
     "data": {
      "text/plain": [
       "torch.Size([820])"
      ]
     },
     "execution_count": 25,
     "metadata": {},
     "output_type": "execute_result"
    }
   ],
   "source": [
    "p[0].shape"
   ]
  },
  {
   "cell_type": "code",
   "execution_count": 51,
   "metadata": {},
   "outputs": [],
   "source": [
    "non_padded_avg = []\n",
    "for i in range(y.size(0)):\n",
    "    non_padded_avg.append(y[i][~p[i]].mean(dim=0)) # list of B*(tensors of shape (C,))\n",
    "y = torch.stack(non_padded_avg) # list of B*(tensors of shape (C,)) -> BC"
   ]
  },
  {
   "cell_type": "code",
   "execution_count": 53,
   "metadata": {},
   "outputs": [
    {
     "data": {
      "text/plain": [
       "torch.Size([5, 768])"
      ]
     },
     "execution_count": 53,
     "metadata": {},
     "output_type": "execute_result"
    }
   ],
   "source": [
    "y.shape"
   ]
  },
  {
   "cell_type": "code",
   "execution_count": 9,
   "metadata": {},
   "outputs": [],
   "source": [
    "r=torch.load('../data/kd_openwebtext/0_0-255.pt')"
   ]
  },
  {
   "cell_type": "code",
   "execution_count": 4,
   "metadata": {},
   "outputs": [
    {
     "data": {
      "text/plain": [
       "dict_keys(['target', 'text', 'modes', 'padding_mask'])"
      ]
     },
     "execution_count": 4,
     "metadata": {},
     "output_type": "execute_result"
    }
   ],
   "source": [
    "r.keys()"
   ]
  },
  {
   "cell_type": "code",
   "execution_count": 5,
   "metadata": {},
   "outputs": [
    {
     "ename": "TypeError",
     "evalue": "stack(): argument 'tensors' (position 1) must be tuple of Tensors, not Tensor",
     "output_type": "error",
     "traceback": [
      "\u001b[0;31m---------------------------------------------------------------------------\u001b[0m",
      "\u001b[0;31mTypeError\u001b[0m                                 Traceback (most recent call last)",
      "Cell \u001b[0;32mIn[5], line 1\u001b[0m\n\u001b[0;32m----> 1\u001b[0m stacked\u001b[38;5;241m=\u001b[39m\u001b[43mtorch\u001b[49m\u001b[38;5;241;43m.\u001b[39;49m\u001b[43mstack\u001b[49m\u001b[43m(\u001b[49m\u001b[43mr\u001b[49m\u001b[43m[\u001b[49m\u001b[38;5;124;43m'\u001b[39;49m\u001b[38;5;124;43mtarget\u001b[39;49m\u001b[38;5;124;43m'\u001b[39;49m\u001b[43m]\u001b[49m\u001b[43m[\u001b[49m\u001b[38;5;124;43m'\u001b[39;49m\u001b[38;5;124;43mlayer_results\u001b[39;49m\u001b[38;5;124;43m'\u001b[39;49m\u001b[43m]\u001b[49m\u001b[43m,\u001b[49m\u001b[43m \u001b[49m\u001b[43mdim\u001b[49m\u001b[38;5;241;43m=\u001b[39;49m\u001b[38;5;241;43m-\u001b[39;49m\u001b[38;5;241;43m1\u001b[39;49m\u001b[43m)\u001b[49m\n",
      "\u001b[0;31mTypeError\u001b[0m: stack(): argument 'tensors' (position 1) must be tuple of Tensors, not Tensor"
     ]
    }
   ],
   "source": [
    "stacked=torch.stack(r['target']['layer_results'], dim=-1)"
   ]
  },
  {
   "cell_type": "code",
   "execution_count": 10,
   "metadata": {},
   "outputs": [
    {
     "data": {
      "text/plain": [
       "torch.Size([12, 256, 768])"
      ]
     },
     "execution_count": 10,
     "metadata": {},
     "output_type": "execute_result"
    }
   ],
   "source": [
    "r['target']['layer_results'].shape"
   ]
  },
  {
   "cell_type": "code",
   "execution_count": 23,
   "metadata": {},
   "outputs": [
    {
     "data": {
      "text/plain": [
       "torch.Size([12, 256, 512, 768])"
      ]
     },
     "execution_count": 23,
     "metadata": {},
     "output_type": "execute_result"
    }
   ],
   "source": [
    "stacked.shape"
   ]
  },
  {
   "cell_type": "code",
   "execution_count": 2,
   "metadata": {},
   "outputs": [],
   "source": [
    "ds = KDOpenWebTextDataset(data_path='../data')"
   ]
  },
  {
   "cell_type": "code",
   "execution_count": 3,
   "metadata": {},
   "outputs": [],
   "source": [
    "ds.load()"
   ]
  },
  {
   "cell_type": "code",
   "execution_count": 4,
   "metadata": {},
   "outputs": [],
   "source": [
    "b=ds.collater(ds[0])"
   ]
  },
  {
   "cell_type": "code",
   "execution_count": 5,
   "metadata": {},
   "outputs": [
    {
     "data": {
      "text/plain": [
       "{'label': tensor([  0,   1,   2,   3,   4,   5,   6,   7,   8,   9,  10,  11,  12,  13,\n",
       "          14,  15,  16,  17,  18,  19,  20,  21,  22,  23,  24,  25,  26,  27,\n",
       "          28,  29,  30,  31,  32,  33,  34,  35,  36,  37,  38,  39,  40,  41,\n",
       "          42,  43,  44,  45,  46,  47,  48,  49,  50,  51,  52,  53,  54,  55,\n",
       "          56,  57,  58,  59,  60,  61,  62,  63,  64,  65,  66,  67,  68,  69,\n",
       "          70,  71,  72,  73,  74,  75,  76,  77,  78,  79,  80,  81,  82,  83,\n",
       "          84,  85,  86,  87,  88,  89,  90,  91,  92,  93,  94,  95,  96,  97,\n",
       "          98,  99, 100, 101, 102, 103, 104, 105, 106, 107, 108, 109, 110, 111,\n",
       "         112, 113, 114, 115, 116, 117, 118, 119, 120, 121, 122, 123, 124, 125,\n",
       "         126, 127, 128, 129, 130, 131, 132, 133, 134, 135, 136, 137, 138, 139,\n",
       "         140, 141, 142, 143, 144, 145, 146, 147, 148, 149, 150, 151, 152, 153,\n",
       "         154, 155, 156, 157, 158, 159, 160, 161, 162, 163, 164, 165, 166, 167,\n",
       "         168, 169, 170, 171, 172, 173, 174, 175, 176, 177, 178, 179, 180, 181,\n",
       "         182, 183, 184, 185, 186, 187, 188, 189, 190, 191, 192, 193, 194, 195,\n",
       "         196, 197, 198, 199, 200, 201, 202, 203, 204, 205, 206, 207, 208, 209,\n",
       "         210, 211, 212, 213, 214, 215, 216, 217, 218, 219, 220, 221, 222, 223,\n",
       "         224, 225, 226, 227, 228, 229, 230, 231, 232, 233, 234, 235, 236, 237,\n",
       "         238, 239, 240, 241, 242, 243, 244, 245, 246, 247, 248, 249, 250, 251,\n",
       "         252, 253, 254]),\n",
       " 'source': tensor([[ 0.0002,  0.0002,  0.0002,  ...,  0.0000,  0.0000,  0.0000],\n",
       "         [ 0.0001,  0.0001,  0.0001,  ...,  0.0000,  0.0000,  0.0000],\n",
       "         [ 0.0001,  0.0001,  0.0001,  ...,  0.0000,  0.0000,  0.0000],\n",
       "         ...,\n",
       "         [-0.0004, -0.0004, -0.0004,  ...,  0.0000,  0.0000,  0.0000],\n",
       "         [ 0.0003,  0.0003,  0.0003,  ...,  0.0000,  0.0000,  0.0000],\n",
       "         [ 0.0004,  0.0004,  0.0004,  ...,  0.0000,  0.0000,  0.0000]])}"
      ]
     },
     "execution_count": 5,
     "metadata": {},
     "output_type": "execute_result"
    }
   ],
   "source": [
    "b"
   ]
  },
  {
   "cell_type": "code",
   "execution_count": 3,
   "metadata": {},
   "outputs": [],
   "source": [
    "dm = KDDataModule(data_path='../data', num_workers=5, dataset='openwebtext')"
   ]
  },
  {
   "cell_type": "code",
   "execution_count": 4,
   "metadata": {},
   "outputs": [],
   "source": [
    "dm.prepare_data()"
   ]
  },
  {
   "cell_type": "code",
   "execution_count": 5,
   "metadata": {},
   "outputs": [],
   "source": [
    "dm.setup(stage='fit')"
   ]
  },
  {
   "cell_type": "code",
   "execution_count": 6,
   "metadata": {},
   "outputs": [],
   "source": [
    "dl = dm.train_dataloader()"
   ]
  },
  {
   "cell_type": "code",
   "execution_count": 7,
   "metadata": {},
   "outputs": [],
   "source": [
    "dl_iter = iter(dl)"
   ]
  },
  {
   "cell_type": "code",
   "execution_count": 8,
   "metadata": {},
   "outputs": [],
   "source": [
    "batch = next(dl_iter)"
   ]
  },
  {
   "cell_type": "code",
   "execution_count": 10,
   "metadata": {},
   "outputs": [
    {
     "data": {
      "text/plain": [
       "{'label': tensor([  0,   1,   2,   3,   4,   5,   6,   7,   8,   9,  10,  11,  12,  13,\n",
       "          14,  15,  16,  17,  18,  19,  20,  21,  22,  23,  24,  25,  26,  27,\n",
       "          28,  29,  30,  31,  32,  33,  34,  35,  36,  37,  38,  39,  40,  41,\n",
       "          42,  43,  44,  45,  46,  47,  48,  49,  50,  51,  52,  53,  54,  55,\n",
       "          56,  57,  58,  59,  60,  61,  62,  63,  64,  65,  66,  67,  68,  69,\n",
       "          70,  71,  72,  73,  74,  75,  76,  77,  78,  79,  80,  81,  82,  83,\n",
       "          84,  85,  86,  87,  88,  89,  90,  91,  92,  93,  94,  95,  96,  97,\n",
       "          98,  99, 100, 101, 102, 103, 104, 105, 106, 107, 108, 109, 110, 111,\n",
       "         112, 113, 114, 115, 116, 117, 118, 119, 120, 121, 122, 123, 124, 125,\n",
       "         126, 127, 128, 129, 130, 131, 132, 133, 134, 135, 136, 137, 138, 139,\n",
       "         140, 141, 142, 143, 144, 145, 146, 147, 148, 149, 150, 151, 152, 153,\n",
       "         154, 155, 156, 157, 158, 159, 160, 161, 162, 163, 164, 165, 166, 167,\n",
       "         168, 169, 170, 171, 172, 173, 174, 175, 176, 177, 178, 179, 180, 181,\n",
       "         182, 183, 184, 185, 186, 187, 188, 189, 190, 191, 192, 193, 194, 195,\n",
       "         196, 197, 198, 199, 200, 201, 202, 203, 204, 205, 206, 207, 208, 209,\n",
       "         210, 211, 212, 213, 214, 215, 216, 217, 218, 219, 220, 221, 222, 223,\n",
       "         224, 225, 226, 227, 228, 229, 230, 231, 232, 233, 234, 235, 236, 237,\n",
       "         238, 239, 240, 241, 242, 243, 244, 245, 246, 247, 248, 249, 250, 251,\n",
       "         252, 253, 254]),\n",
       " 'source': tensor([[    0, 13632,   763,  ...,   104,     4,     2],\n",
       "         [    0,  1659,   641,  ..., 50108,  2663,     2],\n",
       "         [    0,  3706,  2022,  ...,    17,    46,     2],\n",
       "         ...,\n",
       "         [    0, 50108, 50108,  ..., 50108, 50108,     2],\n",
       "         [    0, 50108, 50108,  ...,  1439, 14236,     2],\n",
       "         [    0,   201,    14,  ..., 50108, 50108,     2]])}"
      ]
     },
     "execution_count": 10,
     "metadata": {},
     "output_type": "execute_result"
    }
   ],
   "source": [
    "batch"
   ]
  },
  {
   "cell_type": "code",
   "execution_count": 12,
   "metadata": {},
   "outputs": [
    {
     "data": {
      "text/plain": [
       "tensor([[    0, 13632,   763,  ...,   104,     4,     2],\n",
       "        [    0,  1659,   641,  ..., 50108,  2663,     2],\n",
       "        [    0,  3706,  2022,  ...,    17,    46,     2],\n",
       "        ...,\n",
       "        [    0, 50108, 50108,  ..., 50108, 50108,     2],\n",
       "        [    0, 50108, 50108,  ...,  1439, 14236,     2],\n",
       "        [    0,   201,    14,  ..., 50108, 50108,     2]])"
      ]
     },
     "execution_count": 12,
     "metadata": {},
     "output_type": "execute_result"
    }
   ],
   "source": [
    "batch['source']"
   ]
  }
 ],
 "metadata": {
  "kernelspec": {
   "display_name": "mmrl",
   "language": "python",
   "name": "python3"
  },
  "language_info": {
   "codemirror_mode": {
    "name": "ipython",
    "version": 3
   },
   "file_extension": ".py",
   "mimetype": "text/x-python",
   "name": "python",
   "nbconvert_exporter": "python",
   "pygments_lexer": "ipython3",
   "version": "3.11.8"
  }
 },
 "nbformat": 4,
 "nbformat_minor": 2
}
