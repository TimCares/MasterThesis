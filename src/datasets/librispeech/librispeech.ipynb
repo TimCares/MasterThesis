{
 "cells": [
  {
   "cell_type": "code",
   "execution_count": 10,
   "metadata": {},
   "outputs": [],
   "source": [
    "from fairseq.data.audio.raw_audio_dataset import FileAudioDataset\n",
    "from fairseq.data.text_compressor import TextCompressionLevel\n",
    "from fairseq.tasks.audio_pretraining import AudioMaskingConfig\n",
    "from dataclasses import dataclass, asdict"
   ]
  },
  {
   "cell_type": "code",
   "execution_count": 11,
   "metadata": {},
   "outputs": [],
   "source": [
    "cfg =  AudioMaskingConfig(\n",
    "    feature_encoder_spec='[(512, 10, 5)] + [(512, 3, 2)] * 4 + [(512,2,2)] + [(512,2,2)]',\n",
    "    mask_prob=0.5,\n",
    "    mask_prob_adjust=0.05,\n",
    "    mask_length=5,\n",
    "    inverse_mask=False,\n",
    "    mask_dropout=0,\n",
    "    clone_batch=2,\n",
    "    expand_adjacent = False,\n",
    "    non_overlapping = False\n",
    ")\n",
    "mask_args= asdict(cfg)"
   ]
  },
  {
   "cell_type": "code",
   "execution_count": 12,
   "metadata": {},
   "outputs": [
    {
     "name": "stderr",
     "output_type": "stream",
     "text": [
      "INFO:fairseq.data.audio.raw_audio_dataset:loaded 28515, skipped 24 samples\n"
     ]
    }
   ],
   "source": [
    "manifest_path = '../../../data/LibriSpeech/train.tsv'\n",
    "ds = FileAudioDataset(\n",
    "        manifest_path=manifest_path,\n",
    "        sample_rate=16000,\n",
    "        max_sample_size=320000,\n",
    "        min_sample_size=32000,\n",
    "        shuffle=True,\n",
    "        pad=False,\n",
    "        normalize=True,\n",
    "        num_buckets=0,\n",
    "        compute_mask=True,\n",
    "        text_compression_level=TextCompressionLevel.none,\n",
    "        **mask_args,\n",
    "    )"
   ]
  },
  {
   "cell_type": "code",
   "execution_count": 13,
   "metadata": {},
   "outputs": [
    {
     "data": {
      "text/plain": [
       "{'id': 0,\n",
       " 'source': tensor([-0.0632, -0.1329, -0.0518,  ..., -0.0202, -0.0220, -0.0229]),\n",
       " 'precomputed_mask': tensor([[0., 0., 1.,  ..., 1., 1., 1.],\n",
       "         [0., 0., 1.,  ..., 0., 0., 1.]])}"
      ]
     },
     "execution_count": 13,
     "metadata": {},
     "output_type": "execute_result"
    }
   ],
   "source": [
    "ds[0]"
   ]
  }
 ],
 "metadata": {
  "kernelspec": {
   "display_name": "mmrl",
   "language": "python",
   "name": "python3"
  },
  "language_info": {
   "codemirror_mode": {
    "name": "ipython",
    "version": 3
   },
   "file_extension": ".py",
   "mimetype": "text/x-python",
   "name": "python",
   "nbconvert_exporter": "python",
   "pygments_lexer": "ipython3",
   "version": "3.9.18"
  }
 },
 "nbformat": 4,
 "nbformat_minor": 2
}
