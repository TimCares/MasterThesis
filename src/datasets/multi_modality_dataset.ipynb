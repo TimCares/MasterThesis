{
 "cells": [
  {
   "cell_type": "code",
   "execution_count": 15,
   "metadata": {},
   "outputs": [],
   "source": [
    "import sys\n",
    "sys.path.append('../fairseq')\n",
    "sys.path.append('../fairseq/examples')\n",
    "from fairseq.tasks.audio_pretraining import AudioMaskingConfig, AudioPretrainingConfig, AudioPretrainingTask\n",
    "from fairseq.tasks.masked_lm import MaskedLMConfig, MaskedLMTask\n",
    "from data2vec.tasks.multimodal import MultimodalPretrainingConfig, MultimodalPretrainingTask\n",
    "from fairseq.data.round_robin_zip_datasets import RoundRobinZipDatasets"
   ]
  },
  {
   "cell_type": "code",
   "execution_count": 2,
   "metadata": {},
   "outputs": [],
   "source": [
    "am_cfg =  AudioMaskingConfig(\n",
    "    feature_encoder_spec='[(512, 10, 5)] + [(512, 3, 2)] * 4 + [(512,2,2)] + [(512,2,2)]',\n",
    "    mask_prob=0.5,\n",
    "    mask_prob_adjust=0.05,\n",
    "    mask_length=5,\n",
    "    inverse_mask=False,\n",
    "    mask_dropout=0,\n",
    "    clone_batch=2,\n",
    ")"
   ]
  },
  {
   "cell_type": "code",
   "execution_count": 3,
   "metadata": {},
   "outputs": [],
   "source": [
    "ap_cfg = AudioPretrainingConfig(\n",
    "    data='../../data/LibriSpeech',\n",
    "    max_sample_size=320000,\n",
    "    min_sample_size=32000,\n",
    "    normalize=True,\n",
    "    tpu=False\n",
    ")"
   ]
  },
  {
   "cell_type": "code",
   "execution_count": 4,
   "metadata": {},
   "outputs": [],
   "source": [
    "a_task = AudioPretrainingTask.setup_task(ap_cfg)"
   ]
  },
  {
   "cell_type": "code",
   "execution_count": 5,
   "metadata": {},
   "outputs": [],
   "source": [
    "audio_ratio=1 \n",
    "image_ratio=1\n",
    "text_ratio=1"
   ]
  },
  {
   "cell_type": "code",
   "execution_count": 6,
   "metadata": {},
   "outputs": [],
   "source": [
    "lm_cfg = MaskedLMConfig(\n",
    "    data='../../data/language/enwik9',\n",
    "    sample_break_mode='none',\n",
    "    tokens_per_sample=512,\n",
    "    random_token_prob=0,\n",
    "    leave_unmasked_prob=0,\n",
    "    include_index=True,\n",
    "    skip_masking=True,\n",
    "    d2v2_multi=True,\n",
    "    seed=42\n",
    ")"
   ]
  },
  {
   "cell_type": "code",
   "execution_count": 7,
   "metadata": {},
   "outputs": [
    {
     "name": "stderr",
     "output_type": "stream",
     "text": [
      "INFO:fairseq.tasks.masked_lm:dictionary: 50264 types\n"
     ]
    }
   ],
   "source": [
    "lm_task = MaskedLMTask.setup_task(lm_cfg)"
   ]
  },
  {
   "cell_type": "code",
   "execution_count": 8,
   "metadata": {},
   "outputs": [],
   "source": [
    "mm_config = MultimodalPretrainingConfig(\n",
    "    audio=ap_cfg,\n",
    "    text=lm_cfg,\n",
    "    max_tokens=1000000,\n",
    "    batch_size=32,\n",
    "    update_freq=[1]\n",
    ")"
   ]
  },
  {
   "cell_type": "code",
   "execution_count": 9,
   "metadata": {},
   "outputs": [
    {
     "name": "stderr",
     "output_type": "stream",
     "text": [
      "INFO:fairseq.tasks.masked_lm:dictionary: 50264 types\n"
     ]
    }
   ],
   "source": [
    "mm_task = MultimodalPretrainingTask.setup_task(mm_config)"
   ]
  },
  {
   "cell_type": "code",
   "execution_count": 17,
   "metadata": {},
   "outputs": [
    {
     "name": "stderr",
     "output_type": "stream",
     "text": [
      "INFO:fairseq.data.audio.raw_audio_dataset:loaded 28515, skipped 24 samples\n",
      "INFO:fairseq.data.data_utils:loaded 1 examples from: ../../data/language/enwik9/train\n",
      "INFO:fairseq.tasks.masked_lm:loaded 283883 blocks from: ../../data/language/enwik9/train\n"
     ]
    }
   ],
   "source": [
    "mm_task.load_dataset('train')"
   ]
  },
  {
   "cell_type": "code",
   "execution_count": 12,
   "metadata": {},
   "outputs": [
    {
     "data": {
      "text/plain": [
       "[array([ 9701,  1255, 21380, ...,  5143,  3710, 19218]),\n",
       " array([283882, 130469, 110054, ...,  47552, 177043,  24172])]"
      ]
     },
     "execution_count": 12,
     "metadata": {},
     "output_type": "execute_result"
    }
   ],
   "source": [
    "mm_task.dataset('train').ordered_indices()"
   ]
  },
  {
   "cell_type": "code",
   "execution_count": 14,
   "metadata": {},
   "outputs": [
    {
     "data": {
      "text/plain": [
       "(0,\n",
       " {'id': 0,\n",
       "  'source': tensor([-0.0632, -0.1329, -0.0518,  ..., -0.0202, -0.0220, -0.0229])})"
      ]
     },
     "execution_count": 14,
     "metadata": {},
     "output_type": "execute_result"
    }
   ],
   "source": [
    "mm_task.dataset('train')[0]"
   ]
  },
  {
   "cell_type": "code",
   "execution_count": 262,
   "metadata": {},
   "outputs": [
    {
     "name": "stderr",
     "output_type": "stream",
     "text": [
      "INFO:fairseq.data.audio.multi_modality_dataset: raw_sub_batch_samplers exists. No action is taken\n",
      "INFO:fairseq.data.audio.multi_modality_dataset:dataset Modality.AUDIO batch number is 6508 \n",
      "INFO:fairseq.data.audio.multi_modality_dataset:dataset Modality.TEXT batch number is 8872 \n"
     ]
    }
   ],
   "source": [
    "iter = mm_task.get_batch_iterator(dataset=mm_task.dataset('train'))"
   ]
  },
  {
   "cell_type": "code",
   "execution_count": 263,
   "metadata": {},
   "outputs": [],
   "source": [
    "ds = iter._get_iterator_for_epoch(0, False)"
   ]
  },
  {
   "cell_type": "code",
   "execution_count": 19,
   "metadata": {},
   "outputs": [
    {
     "name": "stderr",
     "output_type": "stream",
     "text": [
      "INFO:fairseq.data.audio.raw_audio_dataset:loaded 28515, skipped 24 samples\n"
     ]
    }
   ],
   "source": [
    "a_task.load_dataset('train')"
   ]
  },
  {
   "cell_type": "code",
   "execution_count": 20,
   "metadata": {},
   "outputs": [
    {
     "name": "stderr",
     "output_type": "stream",
     "text": [
      "INFO:fairseq.data.data_utils:loaded 1 examples from: ../../data/language/enwik9/train\n",
      "INFO:fairseq.tasks.masked_lm:loaded 283883 blocks from: ../../data/language/enwik9/train\n"
     ]
    }
   ],
   "source": [
    "lm_task.load_dataset('train')"
   ]
  },
  {
   "cell_type": "code",
   "execution_count": 21,
   "metadata": {},
   "outputs": [],
   "source": [
    "rr_ds = RoundRobinZipDatasets(datasets={'audio': a_task.dataset('train'), 'text': lm_task.dataset('train')})"
   ]
  },
  {
   "cell_type": "code",
   "execution_count": 23,
   "metadata": {},
   "outputs": [
    {
     "data": {
      "text/plain": [
       "array([     0,      1,      2, ..., 283880, 283881, 283882])"
      ]
     },
     "execution_count": 23,
     "metadata": {},
     "output_type": "execute_result"
    }
   ],
   "source": [
    "rr_ds.ordered_indices()"
   ]
  },
  {
   "cell_type": "code",
   "execution_count": 24,
   "metadata": {},
   "outputs": [
    {
     "data": {
      "text/plain": [
       "OrderedDict([('audio',\n",
       "              {'id': 9701,\n",
       "               'source': tensor([ 0.0086,  0.0029, -0.0063,  ...,  0.0010,  0.0010,  0.0010])}),\n",
       "             ('text',\n",
       "              OrderedDict([('id', 283882),\n",
       "                           ('net_input.source',\n",
       "                            tensor([    0,  2226,     8,   341,    13, 22917, 25231,    61,    16,    10,\n",
       "                                     8218,  2502,     5,  1795,     9,  1368, 12749,     7,    10,   346,\n",
       "                                        9,    97,   160,  6929,  1274,   215,    25, 37653,  1794,  2199,\n",
       "                                     1668,  8579, 30817, 20633,   219,  1533, 32204, 17301,  1274,  2900,\n",
       "                                     1356, 15080,     8,    97,  9161, 12876,    33,   648,     7,    28,\n",
       "                                    30804, 15253,    30,   557,  4566,  3104,     7, 12909,  3225,  1368,\n",
       "                                    12749,    21,  2226,    25,    10,  1416,    13, 12909, 12876,  3329,\n",
       "                                    26054,     9,  1123,    11,     5, 25671,   215,    25, 38825, 21791,\n",
       "                                    25231,     8,  1123, 18484,  1168,  1809,     5,  8421, 40394, 38825,\n",
       "                                    21791, 25231,     8,  1123, 18484,  1168,  1809,    11,   484,  1319,\n",
       "                                        5,   712,    11,  1164,    11,     5,  8421, 13458,     5,  1836,\n",
       "                                        9,     5,  1123, 26054,  3927,  4240,     9,  1925,     7, 25671,\n",
       "                                    18561,     9,     5, 26054,     5,   239, 26069,     9, 11747, 37253,\n",
       "                                       30,     5, 21646,    32, 10142,    11,  2396, 11747, 35365, 25671,\n",
       "                                     4299,     5,   239, 26069,     9, 11747,    11,     5, 25671,    33,\n",
       "                                        5,  1683,     9,  8201,     5, 23040,    31,     5, 12172,   442,\n",
       "                                       24,  2735,   454,    24, 10726,   129,     9, 11747,    61,    16,\n",
       "                                      769, 22416,    88,     5,   809, 26054,    32,  2140,  9820,    30,\n",
       "                                      251,  4895,     7,  1164,     8,   239, 11747, 26069,  2455,    10,\n",
       "                                    16677,  4878,     9,  1164,   124,     7, 24486,  1389,  8289,     5,\n",
       "                                    41046,  1385,    13,    10,  4943,     9,  1228,   710,  1938,  1025,\n",
       "                                        5,  1368,  3983,  8421,    16,    10, 12175,  1923,  1368, 12749,\n",
       "                                       13, 12909, 12876,  3700,  3905,    65,     9,   209,    80,  4620,\n",
       "                                       13,   144,  1200,    10, 16762, 12175,     7,    10,  1164,     5,\n",
       "                                     6305,     9,    65,   799,  7472,   411,  4276,  1730,     9,   514,\n",
       "                                       13,   130,     7,   237,   292,   722,    19,     5, 21646,  9589,\n",
       "                                     8309, 11747,    19,   935,  6383,   358,    80,  4276,   728,     7,\n",
       "                                     1888, 11747, 35260,    13,  2778,  1473,  1200,    10,  6635, 12175,\n",
       "                                        7,    10,  1164,     5,  6305,     9,   130,   707,  7472,    65,\n",
       "                                       80,    80,  1730,     9,   514,    13,   237,   292,   722,    19,\n",
       "                                        5, 21646,  9589,   935,    11,    64,  2095,     8,     5, 10409,\n",
       "                                      982,     5,  1717,   579, 13504, 12175, 12201,    32,   341,     7,\n",
       "                                     3094,     5, 13428,  1164,     8,  9589,  1123,     9,     5,  5804,\n",
       "                                        5,   144,  5705,   341,  9248,    32,  2103,   292,     8,  2103,\n",
       "                                      411,    11,     5,  1717,   330,     5,  5754, 13504,   411,    80,\n",
       "                                        8,   411,   707,  9248,    32,   341,    41,  1368, 12749,  1416,\n",
       "                                       13,  1181,  1385,  1274,    16,   747,    10,   651,     9,    80,\n",
       "                                     4276,     7,   237,  4276, 33201,     5,   223, 16466,     8,  8944,\n",
       "                                     4901,   636,  1131,  2313, 37463,  4339, 27134,    10,  1540,   266,\n",
       "                                       61,  7753,  4755,     5,   665,   557,  4139,     8,  6308,   335,\n",
       "                                     2624,     5,  5131, 13428,     8,  1164,     9,     5,  1181,  1385,\n",
       "                                     1274, 12385,    89,    32,  2476,  3059,    19,  1368, 12749,  1122,\n",
       "                                        7,   103, 12909, 12876,  1164,  1022,    64,  1303,    10, 15020,\n",
       "                                       50,  2003,  1242,   763,  5037,    11,     5, 25671,  3817,  8240,\n",
       "                                      935,  1025,     5,   809,   215,    25,     5, 19147,   639,     5,\n",
       "                                      364,  1120, 10904,  1025,  2242, 16264,   337, 10272,  9764,    50,\n",
       "                                      190,  8240, 12213, 14446,  3300,  1033,  9589,   239,  1164, 11747,\n",
       "                                       13,   251,  5788,    64,  4685, 11747, 35260,    65,     9,     5,\n",
       "                                      526,  3038,     2])),\n",
       "                           ('net_input.id', 283882),\n",
       "                           ('net_input.padding_mask',\n",
       "                            tensor([False, False, False, False, False, False, False, False, False, False,\n",
       "                                    False, False, False, False, False, False, False, False, False, False,\n",
       "                                    False, False, False, False, False, False, False, False, False, False,\n",
       "                                    False, False, False, False, False, False, False, False, False, False,\n",
       "                                    False, False, False, False, False, False, False, False, False, False,\n",
       "                                    False, False, False, False, False, False, False, False, False, False,\n",
       "                                    False, False, False, False, False, False, False, False, False, False,\n",
       "                                    False, False, False, False, False, False, False, False, False, False,\n",
       "                                    False, False, False, False, False, False, False, False, False, False,\n",
       "                                    False, False, False, False, False, False, False, False, False, False,\n",
       "                                    False, False, False, False, False, False, False, False, False, False,\n",
       "                                    False, False, False, False, False, False, False, False, False, False,\n",
       "                                    False, False, False, False, False, False, False, False, False, False,\n",
       "                                    False, False, False, False, False, False, False, False, False, False,\n",
       "                                    False, False, False, False, False, False, False, False, False, False,\n",
       "                                    False, False, False, False, False, False, False, False, False, False,\n",
       "                                    False, False, False, False, False, False, False, False, False, False,\n",
       "                                    False, False, False, False, False, False, False, False, False, False,\n",
       "                                    False, False, False, False, False, False, False, False, False, False,\n",
       "                                    False, False, False, False, False, False, False, False, False, False,\n",
       "                                    False, False, False, False, False, False, False, False, False, False,\n",
       "                                    False, False, False, False, False, False, False, False, False, False,\n",
       "                                    False, False, False, False, False, False, False, False, False, False,\n",
       "                                    False, False, False, False, False, False, False, False, False, False,\n",
       "                                    False, False, False, False, False, False, False, False, False, False,\n",
       "                                    False, False, False, False, False, False, False, False, False, False,\n",
       "                                    False, False, False, False, False, False, False, False, False, False,\n",
       "                                    False, False, False, False, False, False, False, False, False, False,\n",
       "                                    False, False, False, False, False, False, False, False, False, False,\n",
       "                                    False, False, False, False, False, False, False, False, False, False,\n",
       "                                    False, False, False, False, False, False, False, False, False, False,\n",
       "                                    False, False, False, False, False, False, False, False, False, False,\n",
       "                                    False, False, False, False, False, False, False, False, False, False,\n",
       "                                    False, False, False, False, False, False, False, False, False, False,\n",
       "                                    False, False, False, False, False, False, False, False, False, False,\n",
       "                                    False, False, False, False, False, False, False, False, False, False,\n",
       "                                    False, False, False, False, False, False, False, False, False, False,\n",
       "                                    False, False, False, False, False, False, False, False, False, False,\n",
       "                                    False, False, False, False, False, False, False, False, False, False,\n",
       "                                    False, False, False, False, False, False, False, False, False, False,\n",
       "                                    False, False, False, False, False, False, False, False, False, False,\n",
       "                                    False, False, False, False, False, False, False, False, False, False,\n",
       "                                    False, False, False, False, False, False, False, False, False, False,\n",
       "                                    False, False, False, False, False, False, False, False, False, False,\n",
       "                                    False, False, False, False, False, False, False, False, False, False,\n",
       "                                    False, False, False, False, False, False, False, False, False, False,\n",
       "                                    False, False, False, False, False, False, False, False, False, False,\n",
       "                                    False, False, False, False, False, False, False, False, False, False,\n",
       "                                    False, False, False])),\n",
       "                           ('nsentences', 1),\n",
       "                           ('ntokens', 483)]))])"
      ]
     },
     "execution_count": 24,
     "metadata": {},
     "output_type": "execute_result"
    }
   ],
   "source": [
    "rr_ds[0]"
   ]
  }
 ],
 "metadata": {
  "kernelspec": {
   "display_name": "mmrl",
   "language": "python",
   "name": "python3"
  },
  "language_info": {
   "codemirror_mode": {
    "name": "ipython",
    "version": 3
   },
   "file_extension": ".py",
   "mimetype": "text/x-python",
   "name": "python",
   "nbconvert_exporter": "python",
   "pygments_lexer": "ipython3",
   "version": "3.9.18"
  }
 },
 "nbformat": 4,
 "nbformat_minor": 2
}
