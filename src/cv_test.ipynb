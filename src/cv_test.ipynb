{
 "cells": [
  {
   "cell_type": "code",
   "execution_count": 1,
   "metadata": {},
   "outputs": [],
   "source": [
    "import pandas as pd\n",
    "import sys\n",
    "sys.path.append('../')"
   ]
  },
  {
   "cell_type": "code",
   "execution_count": 2,
   "metadata": {},
   "outputs": [],
   "source": [
    "from datamodules import CommonVoiceDataModule"
   ]
  },
  {
   "cell_type": "code",
   "execution_count": 3,
   "metadata": {},
   "outputs": [],
   "source": [
    "dm = CommonVoiceDataModule(\n",
    "    data_path='../data',\n",
    "    num_max_bpe_tokens=512,\n",
    "    sample_rate=16000,\n",
    "    max_sample_size=320000,\n",
    "    min_sample_size=32000,\n",
    "    normalize=True,\n",
    "    pad=True,\n",
    "    feature_encoder_spec='[(512, 10, 5)] + [(512, 3, 2)] * 4 + [(512,2,2)] + [(512,2,2)]',\n",
    "    batch_size=10,\n",
    "    num_workers=5,\n",
    "    shuffle=False,\n",
    "    drop_last=True,\n",
    ")"
   ]
  },
  {
   "cell_type": "code",
   "execution_count": 4,
   "metadata": {},
   "outputs": [
    {
     "name": "stdout",
     "output_type": "stream",
     "text": [
      "Exclude 1689 files that are not mp3 files or do not exist.\n"
     ]
    },
    {
     "data": {
      "application/vnd.jupyter.widget-view+json": {
       "model_id": "77578a3a8a344c4a9f893552155f5db5",
       "version_major": 2,
       "version_minor": 0
      },
      "text/plain": [
       "Output()"
      ]
     },
     "metadata": {},
     "output_type": "display_data"
    },
    {
     "data": {
      "text/html": [
       "<pre style=\"white-space:pre;overflow-x:auto;line-height:normal;font-family:Menlo,'DejaVu Sans Mono',consolas,'Courier New',monospace\"></pre>\n"
      ],
      "text/plain": []
     },
     "metadata": {},
     "output_type": "display_data"
    },
    {
     "data": {
      "text/html": [
       "<pre style=\"white-space:pre;overflow-x:auto;line-height:normal;font-family:Menlo,'DejaVu Sans Mono',consolas,'Courier New',monospace\">\n",
       "</pre>\n"
      ],
      "text/plain": [
       "\n"
      ]
     },
     "metadata": {},
     "output_type": "display_data"
    },
    {
     "name": "stdout",
     "output_type": "stream",
     "text": [
      "Converted 0 mp3 files to flac files\n",
      "Removed 0 unused mp3 files.\n",
      "Write ../data/cv-corpus-17.0-delta-2024-03-15/en/common_voice.train.jsonl with 1689 items !\n",
      "Exclude 188 files that are not mp3 files or do not exist.\n"
     ]
    },
    {
     "data": {
      "application/vnd.jupyter.widget-view+json": {
       "model_id": "f3c040248fec4803ba47f387b78f5892",
       "version_major": 2,
       "version_minor": 0
      },
      "text/plain": [
       "Output()"
      ]
     },
     "metadata": {},
     "output_type": "display_data"
    },
    {
     "data": {
      "text/html": [
       "<pre style=\"white-space:pre;overflow-x:auto;line-height:normal;font-family:Menlo,'DejaVu Sans Mono',consolas,'Courier New',monospace\"></pre>\n"
      ],
      "text/plain": []
     },
     "metadata": {},
     "output_type": "display_data"
    },
    {
     "data": {
      "text/html": [
       "<pre style=\"white-space:pre;overflow-x:auto;line-height:normal;font-family:Menlo,'DejaVu Sans Mono',consolas,'Courier New',monospace\">\n",
       "</pre>\n"
      ],
      "text/plain": [
       "\n"
      ]
     },
     "metadata": {},
     "output_type": "display_data"
    },
    {
     "name": "stdout",
     "output_type": "stream",
     "text": [
      "Converted 0 mp3 files to flac files\n",
      "Removed 0 unused mp3 files.\n",
      "Write ../data/cv-corpus-17.0-delta-2024-03-15/en/common_voice.retrieval.jsonl with 188 items !\n"
     ]
    }
   ],
   "source": [
    "dm.prepare_data()"
   ]
  },
  {
   "cell_type": "code",
   "execution_count": 5,
   "metadata": {},
   "outputs": [
    {
     "name": "stdout",
     "output_type": "stream",
     "text": [
      "Load 1689 audio-text pairs from ../data/cv-corpus-17.0-delta-2024-03-15/en/common_voice.train.jsonl. \n",
      "Load 188 audio-text pairs from ../data/cv-corpus-17.0-delta-2024-03-15/en/common_voice.retrieval.jsonl. \n"
     ]
    }
   ],
   "source": [
    "dm.setup()"
   ]
  },
  {
   "cell_type": "code",
   "execution_count": 6,
   "metadata": {},
   "outputs": [],
   "source": [
    "ds = dm.train_dataloader()"
   ]
  },
  {
   "cell_type": "code",
   "execution_count": 7,
   "metadata": {},
   "outputs": [],
   "source": [
    "ds_iter = iter(ds)"
   ]
  },
  {
   "cell_type": "code",
   "execution_count": 8,
   "metadata": {},
   "outputs": [],
   "source": [
    "b = next(ds_iter)"
   ]
  },
  {
   "cell_type": "code",
   "execution_count": 9,
   "metadata": {},
   "outputs": [
    {
     "data": {
      "text/plain": [
       "{'audio': tensor([[ 0.0002,  0.0002,  0.0002,  ...,  0.0000,  0.0000,  0.0000],\n",
       "         [ 0.0001,  0.0001,  0.0001,  ...,  0.0000,  0.0000,  0.0000],\n",
       "         [ 0.0001,  0.0001,  0.0001,  ...,  0.0000,  0.0000,  0.0000],\n",
       "         ...,\n",
       "         [-0.0001, -0.0001, -0.0001,  ...,  0.0000,  0.0000,  0.0000],\n",
       "         [-0.0003, -0.0003, -0.0003,  ...,  0.0000,  0.0000,  0.0000],\n",
       "         [ 0.0003,  0.0003,  0.0003,  ...,  0.0000,  0.0000,  0.0000]]),\n",
       " 'id': tensor([0, 1, 2, 3, 4, 5, 6, 7, 8, 9]),\n",
       " 'padding_mask': tensor([[False, False, False,  ...,  True,  True,  True],\n",
       "         [False, False, False,  ...,  True,  True,  True],\n",
       "         [False, False, False,  ...,  True,  True,  True],\n",
       "         ...,\n",
       "         [False, False, False,  ...,  True,  True,  True],\n",
       "         [False, False, False,  ...,  True,  True,  True],\n",
       "         [False, False, False,  ...,  True,  True,  True]]),\n",
       " 'language_tokens': tensor([[    0,    44, 17072,  ...,     1,     1,     1],\n",
       "         [    0, 15309,   392,  ...,     1,     1,     1],\n",
       "         [    0,  2949, 37536,  ...,     1,     1,     1],\n",
       "         ...,\n",
       "         [    0,  1026,   318,  ...,     1,     1,     1],\n",
       "         [    0,  2484,  8045,  ...,     1,     1,     1],\n",
       "         [    0,  1544,   318,  ...,     1,     1,     1]])}"
      ]
     },
     "execution_count": 9,
     "metadata": {},
     "output_type": "execute_result"
    }
   ],
   "source": [
    "b"
   ]
  },
  {
   "cell_type": "code",
   "execution_count": 22,
   "metadata": {},
   "outputs": [
    {
     "data": {
      "text/plain": [
       "tensor([ 4.2935e-01,  2.4343e-01,  3.7753e-01,  3.4279e-01, -7.0924e-03,\n",
       "        -2.7347e-01, -4.7949e-01,  9.8360e-02,  2.0751e+00,  4.1964e+00,\n",
       "         4.9041e+00,  4.3097e+00,  4.4152e+00,  6.2115e+00,  7.8244e+00,\n",
       "         7.7537e+00,  6.5072e+00,  4.8791e+00,  3.7429e+00,  2.8407e+00,\n",
       "         1.4863e+00,  2.3490e-01, -5.4837e-01, -1.3603e+00, -2.6714e+00,\n",
       "        -4.3264e+00, -4.6190e+00, -3.2426e+00, -2.3606e+00, -2.8366e+00,\n",
       "        -3.9521e+00, -4.6068e+00, -4.0033e+00, -3.3419e+00, -3.5077e+00,\n",
       "        -3.9265e+00, -4.3325e+00, -4.1843e+00, -3.7095e+00, -3.2578e+00,\n",
       "        -1.9784e+00, -3.5210e-01,  7.8837e-01,  1.7838e+00,  2.4421e+00,\n",
       "         3.1998e+00,  4.4384e+00,  5.5752e+00,  6.0902e+00,  5.1601e+00,\n",
       "         3.4058e+00,  2.6719e+00,  2.6816e+00,  2.3043e+00,  1.2724e+00,\n",
       "        -1.8691e-01, -1.2366e+00, -1.7120e+00, -1.9546e+00, -1.8821e+00,\n",
       "        -1.8991e+00, -2.1222e+00, -2.3411e+00, -2.8537e+00, -3.3237e+00,\n",
       "        -3.2597e+00, -2.9616e+00, -2.9628e+00, -3.6370e+00, -4.3526e+00,\n",
       "        -4.1563e+00, -3.1652e+00, -2.1186e+00, -1.4243e+00, -8.9826e-01,\n",
       "        -8.3115e-03,  1.2724e+00,  2.5116e+00,  3.5283e+00,  4.2841e+00,\n",
       "         4.5950e+00,  4.5127e+00,  4.2616e+00,  3.9251e+00,  3.4491e+00,\n",
       "         2.8938e+00,  2.3336e+00,  1.6271e+00,  5.2078e-01, -3.6429e-01,\n",
       "        -3.8745e-01, -5.2638e-03,  3.2700e-03, -5.2460e-01, -1.1390e+00,\n",
       "        -1.4158e+00, -1.4249e+00, -1.3304e+00, -1.4590e+00, -1.9967e+00])"
      ]
     },
     "execution_count": 22,
     "metadata": {},
     "output_type": "execute_result"
    }
   ],
   "source": [
    "b['audio'][0][50_000:50_100]"
   ]
  },
  {
   "cell_type": "code",
   "execution_count": 2,
   "metadata": {},
   "outputs": [],
   "source": [
    "val = pd.read_csv('../data/cv-corpus-17.0-delta-2024-03-15/en/validated.tsv', sep='\\t')[['client_id', 'sentence_id', 'path', 'sentence']]"
   ]
  },
  {
   "cell_type": "code",
   "execution_count": 3,
   "metadata": {},
   "outputs": [
    {
     "data": {
      "text/html": [
       "<div>\n",
       "<style scoped>\n",
       "    .dataframe tbody tr th:only-of-type {\n",
       "        vertical-align: middle;\n",
       "    }\n",
       "\n",
       "    .dataframe tbody tr th {\n",
       "        vertical-align: top;\n",
       "    }\n",
       "\n",
       "    .dataframe thead th {\n",
       "        text-align: right;\n",
       "    }\n",
       "</style>\n",
       "<table border=\"1\" class=\"dataframe\">\n",
       "  <thead>\n",
       "    <tr style=\"text-align: right;\">\n",
       "      <th></th>\n",
       "      <th>client_id</th>\n",
       "      <th>sentence_id</th>\n",
       "      <th>path</th>\n",
       "      <th>sentence</th>\n",
       "    </tr>\n",
       "  </thead>\n",
       "  <tbody>\n",
       "    <tr>\n",
       "      <th>0</th>\n",
       "      <td>01e8ea298cdecf26e273f5baac3915eb992c493f229686...</td>\n",
       "      <td>e5e7d4694b7160add018a08876327f254690c1ab4c39ea...</td>\n",
       "      <td>common_voice_en_39751075.mp3</td>\n",
       "      <td>Madin was a significant figure of post-war Bir...</td>\n",
       "    </tr>\n",
       "    <tr>\n",
       "      <th>1</th>\n",
       "      <td>02cbc1fe01fc67fa72c6e067fbe020399082efbeb57a2b...</td>\n",
       "      <td>e3e7c913ce32a3b5a58dda5fa1d855f2529ed36e1fa33f...</td>\n",
       "      <td>common_voice_en_39589864.mp3</td>\n",
       "      <td>Alexandria and Texas were shut down mid-season.</td>\n",
       "    </tr>\n",
       "    <tr>\n",
       "      <th>2</th>\n",
       "      <td>03b62f72067ec967c423852bef03d1b61e63c156d86f6e...</td>\n",
       "      <td>e90c361c9684d01d31bc6e8df3060bc97e536ca707bef4...</td>\n",
       "      <td>common_voice_en_40087973.mp3</td>\n",
       "      <td>No runoff was necessary.</td>\n",
       "    </tr>\n",
       "    <tr>\n",
       "      <th>3</th>\n",
       "      <td>05112cb5965431bbd47abd29b4faea9fb009b5a2e320e0...</td>\n",
       "      <td>e3a1d0662e080f880a899b5a5226af16acf61360b1128e...</td>\n",
       "      <td>common_voice_en_39587246.mp3</td>\n",
       "      <td>He was temporarily in charge of consular affai...</td>\n",
       "    </tr>\n",
       "    <tr>\n",
       "      <th>4</th>\n",
       "      <td>05d33ad00cc2754da8e542a33a5255f9346535ef1d8619...</td>\n",
       "      <td>e9475052b6e625f8c5890389e4ffc17a1078dec1483592...</td>\n",
       "      <td>common_voice_en_40117514.mp3</td>\n",
       "      <td>It was a sickening sight.</td>\n",
       "    </tr>\n",
       "    <tr>\n",
       "      <th>...</th>\n",
       "      <td>...</td>\n",
       "      <td>...</td>\n",
       "      <td>...</td>\n",
       "      <td>...</td>\n",
       "    </tr>\n",
       "    <tr>\n",
       "      <th>1872</th>\n",
       "      <td>b87dd0680063cbd3dc57f5b9b20c14f020f511c3f18467...</td>\n",
       "      <td>e8f085328ccbba791bb5ea7236b7c12db5fc262a677fee...</td>\n",
       "      <td>common_voice_en_40069050.mp3</td>\n",
       "      <td>It was hosted by Robin Milhausen and Michael Cho.</td>\n",
       "    </tr>\n",
       "    <tr>\n",
       "      <th>1873</th>\n",
       "      <td>b87dd0680063cbd3dc57f5b9b20c14f020f511c3f18467...</td>\n",
       "      <td>e8dbc505c38469eba72f4c0c0f16358693a38822fb2283...</td>\n",
       "      <td>common_voice_en_40069051.mp3</td>\n",
       "      <td>Fifteen matches were taped at the event.</td>\n",
       "    </tr>\n",
       "    <tr>\n",
       "      <th>1874</th>\n",
       "      <td>b87dd0680063cbd3dc57f5b9b20c14f020f511c3f18467...</td>\n",
       "      <td>e9392dcd4da151ceb08f596a66b2fe057422fb5d791b5a...</td>\n",
       "      <td>common_voice_en_40110408.mp3</td>\n",
       "      <td>A new medical doctrine had sprung up in the Ge...</td>\n",
       "    </tr>\n",
       "    <tr>\n",
       "      <th>1875</th>\n",
       "      <td>b87dd0680063cbd3dc57f5b9b20c14f020f511c3f18467...</td>\n",
       "      <td>e934d39c8bc27e04221b7ec00db10764a23b31c8be8206...</td>\n",
       "      <td>common_voice_en_40110420.mp3</td>\n",
       "      <td>Why, indeed, sir, unless it is to cool her down!</td>\n",
       "    </tr>\n",
       "    <tr>\n",
       "      <th>1876</th>\n",
       "      <td>b87dd0680063cbd3dc57f5b9b20c14f020f511c3f18467...</td>\n",
       "      <td>e914304d2243b6d5a793c79d0f43fb20b42909b0353663...</td>\n",
       "      <td>common_voice_en_40110434.mp3</td>\n",
       "      <td>The frill bone was interpreted as a part of th...</td>\n",
       "    </tr>\n",
       "  </tbody>\n",
       "</table>\n",
       "<p>1877 rows × 4 columns</p>\n",
       "</div>"
      ],
      "text/plain": [
       "                                              client_id  \\\n",
       "0     01e8ea298cdecf26e273f5baac3915eb992c493f229686...   \n",
       "1     02cbc1fe01fc67fa72c6e067fbe020399082efbeb57a2b...   \n",
       "2     03b62f72067ec967c423852bef03d1b61e63c156d86f6e...   \n",
       "3     05112cb5965431bbd47abd29b4faea9fb009b5a2e320e0...   \n",
       "4     05d33ad00cc2754da8e542a33a5255f9346535ef1d8619...   \n",
       "...                                                 ...   \n",
       "1872  b87dd0680063cbd3dc57f5b9b20c14f020f511c3f18467...   \n",
       "1873  b87dd0680063cbd3dc57f5b9b20c14f020f511c3f18467...   \n",
       "1874  b87dd0680063cbd3dc57f5b9b20c14f020f511c3f18467...   \n",
       "1875  b87dd0680063cbd3dc57f5b9b20c14f020f511c3f18467...   \n",
       "1876  b87dd0680063cbd3dc57f5b9b20c14f020f511c3f18467...   \n",
       "\n",
       "                                            sentence_id  \\\n",
       "0     e5e7d4694b7160add018a08876327f254690c1ab4c39ea...   \n",
       "1     e3e7c913ce32a3b5a58dda5fa1d855f2529ed36e1fa33f...   \n",
       "2     e90c361c9684d01d31bc6e8df3060bc97e536ca707bef4...   \n",
       "3     e3a1d0662e080f880a899b5a5226af16acf61360b1128e...   \n",
       "4     e9475052b6e625f8c5890389e4ffc17a1078dec1483592...   \n",
       "...                                                 ...   \n",
       "1872  e8f085328ccbba791bb5ea7236b7c12db5fc262a677fee...   \n",
       "1873  e8dbc505c38469eba72f4c0c0f16358693a38822fb2283...   \n",
       "1874  e9392dcd4da151ceb08f596a66b2fe057422fb5d791b5a...   \n",
       "1875  e934d39c8bc27e04221b7ec00db10764a23b31c8be8206...   \n",
       "1876  e914304d2243b6d5a793c79d0f43fb20b42909b0353663...   \n",
       "\n",
       "                              path  \\\n",
       "0     common_voice_en_39751075.mp3   \n",
       "1     common_voice_en_39589864.mp3   \n",
       "2     common_voice_en_40087973.mp3   \n",
       "3     common_voice_en_39587246.mp3   \n",
       "4     common_voice_en_40117514.mp3   \n",
       "...                            ...   \n",
       "1872  common_voice_en_40069050.mp3   \n",
       "1873  common_voice_en_40069051.mp3   \n",
       "1874  common_voice_en_40110408.mp3   \n",
       "1875  common_voice_en_40110420.mp3   \n",
       "1876  common_voice_en_40110434.mp3   \n",
       "\n",
       "                                               sentence  \n",
       "0     Madin was a significant figure of post-war Bir...  \n",
       "1       Alexandria and Texas were shut down mid-season.  \n",
       "2                              No runoff was necessary.  \n",
       "3     He was temporarily in charge of consular affai...  \n",
       "4                             It was a sickening sight.  \n",
       "...                                                 ...  \n",
       "1872  It was hosted by Robin Milhausen and Michael Cho.  \n",
       "1873           Fifteen matches were taped at the event.  \n",
       "1874  A new medical doctrine had sprung up in the Ge...  \n",
       "1875   Why, indeed, sir, unless it is to cool her down!  \n",
       "1876  The frill bone was interpreted as a part of th...  \n",
       "\n",
       "[1877 rows x 4 columns]"
      ]
     },
     "execution_count": 3,
     "metadata": {},
     "output_type": "execute_result"
    }
   ],
   "source": [
    "val"
   ]
  },
  {
   "cell_type": "code",
   "execution_count": 4,
   "metadata": {},
   "outputs": [
    {
     "data": {
      "text/plain": [
       "False"
      ]
     },
     "execution_count": 4,
     "metadata": {},
     "output_type": "execute_result"
    }
   ],
   "source": [
    "val.isna().any().any()"
   ]
  },
  {
   "cell_type": "code",
   "execution_count": 5,
   "metadata": {},
   "outputs": [],
   "source": [
    "dir='../data/cv-corpus-17.0-delta-2024-03-15/en/clips/'"
   ]
  },
  {
   "cell_type": "code",
   "execution_count": 6,
   "metadata": {},
   "outputs": [],
   "source": [
    "from data_utils import convert_mp3_to_flac"
   ]
  },
  {
   "cell_type": "code",
   "execution_count": 7,
   "metadata": {},
   "outputs": [
    {
     "name": "stdout",
     "output_type": "stream",
     "text": [
      "Exclude 1877 files that are not mp3 files or do not exist.\n"
     ]
    },
    {
     "data": {
      "application/vnd.jupyter.widget-view+json": {
       "model_id": "aed470805413488db7baec48d385e4b5",
       "version_major": 2,
       "version_minor": 0
      },
      "text/plain": [
       "Output()"
      ]
     },
     "metadata": {},
     "output_type": "display_data"
    },
    {
     "data": {
      "text/html": [
       "<pre style=\"white-space:pre;overflow-x:auto;line-height:normal;font-family:Menlo,'DejaVu Sans Mono',consolas,'Courier New',monospace\"></pre>\n"
      ],
      "text/plain": []
     },
     "metadata": {},
     "output_type": "display_data"
    },
    {
     "data": {
      "text/html": [
       "<pre style=\"white-space:pre;overflow-x:auto;line-height:normal;font-family:Menlo,'DejaVu Sans Mono',consolas,'Courier New',monospace\">\n",
       "</pre>\n"
      ],
      "text/plain": [
       "\n"
      ]
     },
     "metadata": {},
     "output_type": "display_data"
    },
    {
     "name": "stdout",
     "output_type": "stream",
     "text": [
      "Converted 0 mp3 files to flac files\n"
     ]
    }
   ],
   "source": [
    "convert_mp3_to_flac(dir=dir, files=val['path'].to_list())"
   ]
  },
  {
   "cell_type": "code",
   "execution_count": 15,
   "metadata": {},
   "outputs": [],
   "source": [
    "import os\n",
    "import glob"
   ]
  },
  {
   "cell_type": "code",
   "execution_count": 16,
   "metadata": {},
   "outputs": [
    {
     "name": "stdout",
     "output_type": "stream",
     "text": [
      "Removed 41328 unused mp3 files.\n"
     ]
    }
   ],
   "source": [
    "pattern = os.path.join(dir, \"*.mp3\")\n",
    "\n",
    "# Use glob to find all files matching the pattern\n",
    "files = glob.glob(pattern)\n",
    "\n",
    "# Iterate over the list of file paths & remove each file\n",
    "for file in files:\n",
    "    os.remove(file)\n",
    "print(f'Removed {len(files)} unused mp3 files.')"
   ]
  }
 ],
 "metadata": {
  "kernelspec": {
   "display_name": "mmrl",
   "language": "python",
   "name": "python3"
  },
  "language_info": {
   "codemirror_mode": {
    "name": "ipython",
    "version": 3
   },
   "file_extension": ".py",
   "mimetype": "text/x-python",
   "name": "python",
   "nbconvert_exporter": "python",
   "pygments_lexer": "ipython3",
   "version": "3.9.18"
  }
 },
 "nbformat": 4,
 "nbformat_minor": 2
}
